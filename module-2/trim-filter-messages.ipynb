{
 "cells": [
  {
   "cell_type": "markdown",
   "id": "fb0ebaf1",
   "metadata": {},
   "source": [
    "[![Open in Colab](https://colab.research.google.com/assets/colab-badge.svg)](https://colab.research.google.com/github/langchain-ai/langchain-academy/blob/main/module-2/trim-filter-messages.ipynb) [![Open in LangChain Academy](https://cdn.prod.website-files.com/65b8cd72835ceeacd4449a53/66e9eba12c7b7688aa3dbb5e_LCA-badge-green.svg)](https://academy.langchain.com/courses/take/intro-to-langgraph/lessons/58239435-lesson-4-trim-and-filter-messages)"
   ]
  },
  {
   "cell_type": "markdown",
   "id": "c52ea2f9-03ff-4647-b782-46867ebed04e",
   "metadata": {},
   "source": [
    "# Filtering and trimming messages\n",
    "\n",
    "## Review\n",
    "\n",
    "Now, we have a deeper understanding of a few things: \n",
    "\n",
    "* How to customize the graph state schema\n",
    "* How to define custom state reducers\n",
    "* How to use multiple graph state schemas\n",
    "\n",
    "## Goals\n",
    "\n",
    "Now, we can start using these concepts with models in LangGraph!\n",
    " \n",
    "In the next few sessions, we'll build towards a chatbot that has long-term memory.\n",
    "\n",
    "Because our chatbot will use messages, let's first talk a bit more about advanced ways to work with messages in graph state."
   ]
  },
  {
   "cell_type": "code",
   "id": "d5197aba-5d46-421b-ae3b-4e3034edcfda",
   "metadata": {
    "ExecuteTime": {
     "end_time": "2025-10-22T19:20:57.421935Z",
     "start_time": "2025-10-22T19:20:54.051044Z"
    }
   },
   "source": [
    "%%capture --no-stderr\n",
    "%pip install --quiet -U langchain_core langgraph langchain_openai"
   ],
   "outputs": [],
   "execution_count": 4
  },
  {
   "cell_type": "code",
   "id": "768dc606-d5f2-468d-96ea-910b264e0f8a",
   "metadata": {
    "ExecuteTime": {
     "end_time": "2025-10-22T19:20:57.434460Z",
     "start_time": "2025-10-22T19:20:57.421935Z"
    }
   },
   "source": [
    "import os, getpass\n",
    "\n",
    "def _set_env(var: str):\n",
    "    if not os.environ.get(var):\n",
    "        os.environ[var] = getpass.getpass(f\"{var}: \")\n",
    "\n",
    "_set_env(\"OPENAI_API_KEY\")\n",
    "_set_env(\"LANGSMITH_API_KEY\")"
   ],
   "outputs": [],
   "execution_count": 5
  },
  {
   "cell_type": "markdown",
   "id": "8b64d8d3-e4ac-4961-bdc0-688825eb5864",
   "metadata": {},
   "source": [
    "We'll use [LangSmith](https://docs.smith.langchain.com/) for [tracing](https://docs.smith.langchain.com/concepts/tracing).\n",
    "\n",
    "We'll log to a project, `langchain-academy`. "
   ]
  },
  {
   "cell_type": "code",
   "id": "dd020c79",
   "metadata": {
    "ExecuteTime": {
     "end_time": "2025-10-22T19:20:57.455907Z",
     "start_time": "2025-10-22T19:20:57.451305Z"
    }
   },
   "source": [
    "_set_env(\"LANGSMITH_API_KEY\")\n",
    "os.environ[\"LANGSMITH_TRACING\"] = \"true\"\n",
    "os.environ[\"LANGSMITH_PROJECT\"] = \"langchain-academy\""
   ],
   "outputs": [],
   "execution_count": 6
  },
  {
   "cell_type": "markdown",
   "id": "72f3fc90-58b6-4f7f-897e-dddf6ae532c7",
   "metadata": {},
   "source": [
    "## Messages as state\n",
    "\n",
    "First, let's define some messages."
   ]
  },
  {
   "cell_type": "code",
   "id": "cf11a463-e27a-4a05-b41d-64882e38edca",
   "metadata": {
    "ExecuteTime": {
     "end_time": "2025-10-22T19:20:57.862310Z",
     "start_time": "2025-10-22T19:20:57.467340Z"
    }
   },
   "source": [
    "from pprint import pprint\n",
    "from langchain_core.messages import AIMessage, HumanMessage\n",
    "messages = [AIMessage(f\"So you said you were researching ocean mammals?\", name=\"Bot\")]\n",
    "messages.append(HumanMessage(f\"Yes, I know about whales. But what others should I learn about?\", name=\"Lance\"))\n",
    "\n",
    "for m in messages:\n",
    "    m.pretty_print()"
   ],
   "outputs": [
    {
     "name": "stdout",
     "output_type": "stream",
     "text": [
      "==================================\u001B[1m Ai Message \u001B[0m==================================\n",
      "Name: Bot\n",
      "\n",
      "So you said you were researching ocean mammals?\n",
      "================================\u001B[1m Human Message \u001B[0m=================================\n",
      "Name: Lance\n",
      "\n",
      "Yes, I know about whales. But what others should I learn about?\n"
     ]
    }
   ],
   "execution_count": 7
  },
  {
   "cell_type": "markdown",
   "id": "b814adcb-6bf9-4b75-be11-e59f933fbd0c",
   "metadata": {},
   "source": [
    "Recall we can pass them to a chat model."
   ]
  },
  {
   "cell_type": "code",
   "id": "4712e288-e622-48a2-ad3f-a52f65f3ab08",
   "metadata": {
    "ExecuteTime": {
     "end_time": "2025-10-22T19:21:15.421023Z",
     "start_time": "2025-10-22T19:20:57.878320Z"
    }
   },
   "source": [
    "from langchain_openai import ChatOpenAI\n",
    "llm = ChatOpenAI(model=\"gpt-4o\")\n",
    "llm.invoke(messages)"
   ],
   "outputs": [
    {
     "data": {
      "text/plain": [
       "AIMessage(content='In addition to whales, there are several other fascinating marine mammals worth learning about:\\n\\n1. **Dolphins**: Highly intelligent and social creatures, dolphins are known for their playful behavior and are often studied for their communication skills and complex social structures.\\n\\n2. **Porpoises**: Often confused with dolphins, porpoises are generally smaller and have different characteristics, such as rounded snouts and spade-shaped teeth.\\n\\n3. **Seals**: These pinnipeds are adapted for life both in water and on land. Common species include the harbor seal and the gray seal.\\n\\n4. **Sea Lions**: Distinguished by their external ear flaps and ability to \"walk\" on land using their large flippers, sea lions are highly social animals.\\n\\n5. **Walruses**: Known for their large tusks and whiskers, walruses are social animals that live primarily in the Arctic and are dependent on sea ice.\\n\\n6. **Manatees and Dugongs**: Often referred to as \"sea cows,\" these gentle, slow-moving herbivores graze on underwater vegetation in warm coastal waters.\\n\\n7. **Otters**: Sea otters, in particular, are known for their use of tools to open shellfish, and they play a crucial role in maintaining the balance of kelp forest ecosystems.\\n\\n8. **Polar Bears**: While not fully aquatic, polar bears are classified as marine mammals because they depend on the sea, particularly sea ice, for hunting seals, their primary prey.\\n\\nEach of these marine mammals has unique adaptations and behaviors, making them an intriguing subject of study for scientists and ocean enthusiasts alike.', additional_kwargs={'refusal': None}, response_metadata={'token_usage': {'completion_tokens': 332, 'prompt_tokens': 39, 'total_tokens': 371, 'completion_tokens_details': {'accepted_prediction_tokens': 0, 'audio_tokens': 0, 'reasoning_tokens': 0, 'rejected_prediction_tokens': 0}, 'prompt_tokens_details': {'audio_tokens': 0, 'cached_tokens': 0}}, 'model_provider': 'openai', 'model_name': 'gpt-4o-2024-08-06', 'system_fingerprint': 'fp_a788c5aef0', 'id': 'chatcmpl-CTYgOmc0dWVBf8Ez6uy0omSNkh0xk', 'service_tier': 'default', 'finish_reason': 'stop', 'logprobs': None}, id='lc_run--8b671b76-01df-4004-a951-754009b707bf-0', usage_metadata={'input_tokens': 39, 'output_tokens': 332, 'total_tokens': 371, 'input_token_details': {'audio': 0, 'cache_read': 0}, 'output_token_details': {'audio': 0, 'reasoning': 0}})"
      ]
     },
     "execution_count": 8,
     "metadata": {},
     "output_type": "execute_result"
    }
   ],
   "execution_count": 8
  },
  {
   "cell_type": "markdown",
   "id": "fbd1dab8-0af8-4621-8264-ce65065f76ec",
   "metadata": {},
   "source": [
    "We can run our chat model in a simple graph with `MessagesState`."
   ]
  },
  {
   "cell_type": "code",
   "id": "bbd8c39c-633b-4176-9cc6-8318e42bb5dd",
   "metadata": {
    "ExecuteTime": {
     "end_time": "2025-10-22T19:21:16.472029Z",
     "start_time": "2025-10-22T19:21:15.458045Z"
    }
   },
   "source": [
    "from IPython.display import Image, display\n",
    "from langgraph.graph import MessagesState\n",
    "from langgraph.graph import StateGraph, START, END\n",
    "\n",
    "# Node\n",
    "def chat_model_node(state: MessagesState):\n",
    "    return {\"messages\": llm.invoke(state[\"messages\"])}\n",
    "\n",
    "# Build graph\n",
    "builder = StateGraph(MessagesState)\n",
    "builder.add_node(\"chat_model\", chat_model_node)\n",
    "builder.add_edge(START, \"chat_model\")\n",
    "builder.add_edge(\"chat_model\", END)\n",
    "graph = builder.compile()\n",
    "\n",
    "# View\n",
    "display(Image(graph.get_graph().draw_mermaid_png()))"
   ],
   "outputs": [
    {
     "data": {
      "image/png": "[encoded data removed]",
      "text/plain": [
       "<IPython.core.display.Image object>"
      ]
     },
     "metadata": {},
     "output_type": "display_data",
     "jetTransient": {
      "display_id": null
     }
    }
   ],
   "execution_count": 9
  },
  {
   "cell_type": "code",
   "id": "3a5a3e4a-ccfd-4d14-81f1-f0de6e11a1e4",
   "metadata": {
    "ExecuteTime": {
     "end_time": "2025-10-22T19:21:29.881640Z",
     "start_time": "2025-10-22T19:21:16.484002Z"
    }
   },
   "source": [
    "output = graph.invoke({'messages': messages})\n",
    "for m in output['messages']:\n",
    "    m.pretty_print()"
   ],
   "outputs": [
    {
     "name": "stdout",
     "output_type": "stream",
     "text": [
      "==================================\u001B[1m Ai Message \u001B[0m==================================\n",
      "Name: Bot\n",
      "\n",
      "So you said you were researching ocean mammals?\n",
      "================================\u001B[1m Human Message \u001B[0m=================================\n",
      "Name: Lance\n",
      "\n",
      "Yes, I know about whales. But what others should I learn about?\n",
      "==================================\u001B[1m Ai Message \u001B[0m==================================\n",
      "\n",
      "In addition to whales, there's a fascinating array of other ocean mammals you can explore. Here are a few you might find interesting:\n",
      "\n",
      "1. **Dolphins**: Closely related to whales, dolphins are known for their intelligence, complex behaviors, and social structures. They are found in oceans and seas worldwide.\n",
      "\n",
      "2. **Porpoises**: Often confused with dolphins, porpoises are smaller and have different physical characteristics. They are typically shyer than dolphins.\n",
      "\n",
      "3. **Seals**: These are pinnipeds, meaning \"fin-footed,\" and are divided into different families. True seals (earless seals) and fur seals/sea lions (eared seals) are the main types. They are found in various marine environments, from the icy waters of the polar regions to the temperate and tropical coasts.\n",
      "\n",
      "4. **Sea Lions**: Sea lions are more agile on land compared to true seals, thanks to their larger flippers. They're also known for their loud barking and social nature.\n",
      "\n",
      "5. **Walruses**: Recognizable by their long tusks and whiskers, walruses are large marine mammals found in Arctic regions. They are social animals, often seen resting and feeding in large groups.\n",
      "\n",
      "6. **Manatees and Dugongs**: Known as \"sea cows,\" these gentle herbivores graze on sea grasses in warm coastal waters and rivers. Manatees are found in the Atlantic, while dugongs are native to the Indian and Pacific oceans.\n",
      "\n",
      "7. **Sea Otters**: While not as large as other sea mammals, sea otters play a crucial role in their ecosystem by maintaining the balance of kelp forests. They are found along the coasts of the northern and eastern North Pacific Ocean.\n",
      "\n",
      "8. **Polar Bears**: Technically, polar bears are marine mammals because they spend most of their time on sea ice and are excellent swimmers. They primarily inhabit the Arctic Circle region.\n",
      "\n",
      "Each of these ocean mammals has unique adaptations and behaviors that make them fascinating to study. Whether you're interested in their social structures, communication methods, or ecological roles, you'll find plenty of intriguing topics to explore!\n"
     ]
    }
   ],
   "execution_count": 10
  },
  {
   "cell_type": "markdown",
   "id": "34c33e63-1ef4-412d-bb10-6a1b9e5b35a7",
   "metadata": {},
   "source": [
    "## Reducer\n",
    "\n",
    "A practical challenge when working with messages is managing long-running conversations. \n",
    "\n",
    "Long-running conversations result in high token usage and latency if we are not careful, because we pass a growing list of messages to the model.\n",
    "\n",
    "We have a few ways to address this.\n",
    "\n",
    "First, recall the trick we saw using `RemoveMessage` and the `add_messages` reducer."
   ]
  },
  {
   "cell_type": "code",
   "id": "222c6bc5-bb0e-4a43-80f5-c8ec38d99f3a",
   "metadata": {
    "ExecuteTime": {
     "end_time": "2025-10-22T19:21:30.937362Z",
     "start_time": "2025-10-22T19:21:30.052307Z"
    }
   },
   "source": [
    "from langchain_core.messages import RemoveMessage\n",
    "\n",
    "# Nodes\n",
    "def filter_messages(state: MessagesState):\n",
    "    # Delete all but the 2 most recent messages\n",
    "    delete_messages = [RemoveMessage(id=m.id) for m in state[\"messages\"][:-2]]\n",
    "    return {\"messages\": delete_messages}\n",
    "\n",
    "def chat_model_node(state: MessagesState):    \n",
    "    return {\"messages\": [llm.invoke(state[\"messages\"])]}\n",
    "\n",
    "# Build graph\n",
    "builder = StateGraph(MessagesState)\n",
    "builder.add_node(\"filter\", filter_messages)\n",
    "builder.add_node(\"chat_model\", chat_model_node)\n",
    "builder.add_edge(START, \"filter\")\n",
    "builder.add_edge(\"filter\", \"chat_model\")\n",
    "builder.add_edge(\"chat_model\", END)\n",
    "graph = builder.compile()\n",
    "\n",
    "# View\n",
    "display(Image(graph.get_graph().draw_mermaid_png()))"
   ],
   "outputs": [
    {
     "data": {
      "image/png": "[encoded data removed]",
      "text/plain": [
       "<IPython.core.display.Image object>"
      ]
     },
     "metadata": {},
     "output_type": "display_data",
     "jetTransient": {
      "display_id": null
     }
    }
   ],
   "execution_count": 11
  },
  {
   "cell_type": "code",
   "id": "95a7c2cc-54ce-43e7-9a90-abf37827d709",
   "metadata": {
    "ExecuteTime": {
     "end_time": "2025-10-22T19:21:40.003685Z",
     "start_time": "2025-10-22T19:21:30.941943Z"
    }
   },
   "source": [
    "# Message list with a preamble\n",
    "messages = [AIMessage(\"Hi.\", name=\"Bot\", id=\"1\")]\n",
    "messages.append(HumanMessage(\"Hi.\", name=\"Lance\", id=\"2\"))\n",
    "messages.append(AIMessage(\"So you said you were researching ocean mammals?\", name=\"Bot\", id=\"3\"))\n",
    "messages.append(HumanMessage(\"Yes, I know about whales. But what others should I learn about?\", name=\"Lance\", id=\"4\"))\n",
    "\n",
    "# Invoke\n",
    "output = graph.invoke({'messages': messages})\n",
    "for m in output['messages']:\n",
    "    m.pretty_print()"
   ],
   "outputs": [
    {
     "name": "stdout",
     "output_type": "stream",
     "text": [
      "==================================\u001B[1m Ai Message \u001B[0m==================================\n",
      "Name: Bot\n",
      "\n",
      "So you said you were researching ocean mammals?\n",
      "================================\u001B[1m Human Message \u001B[0m=================================\n",
      "Name: Lance\n",
      "\n",
      "Yes, I know about whales. But what others should I learn about?\n",
      "==================================\u001B[1m Ai Message \u001B[0m==================================\n",
      "\n",
      "There are several fascinating ocean mammals besides whales that you might want to learn about:\n",
      "\n",
      "1. **Dolphins**: Highly intelligent and social creatures, dolphins are closely related to whales and can be found in oceans around the world. They are known for their playful behavior and complex communication.\n",
      "\n",
      "2. **Porpoises**: Often confused with dolphins, porpoises are smaller and have different physical characteristics, such as spade-shaped teeth and shorter beaks. They are more reserved compared to dolphins.\n",
      "\n",
      "3. **Seals and Sea Lions**: These are pinnipeds, which means \"fin-footed,\" and they inhabit various coastal areas. Seals are more adapted to water, while sea lions can \"walk\" on land using their large front flippers.\n",
      "\n",
      "4. **Walruses**: Known for their large tusks and whiskers, walruses are primarily found in the Arctic. They use their tusks to pull themselves out of the water and onto ice.\n",
      "\n",
      "5. **Manatees and Dugongs**: Also known as sea cows, these gentle herbivores are often found in warm coastal waters and rivers. Manatees are primarily located in the Americas, while dugongs are found in the Indian and Pacific Oceans.\n",
      "\n",
      "6. **Sea Otters**: Not always classified as a marine mammal, but they spend most of their life in the ocean. These playful animals inhabit the coasts of the northern and eastern North Pacific Ocean and are known for their dense fur and tool use.\n",
      "\n",
      "7. **Polar Bears**: Though not strictly ocean-dwelling, polar bears spend much of their time on sea ice and are excellent swimmers. They primarily hunt seals and are vital components of the Arctic marine ecosystem.\n",
      "\n",
      "Each of these ocean mammals has unique adaptations and behaviors that make them fascinating study subjects.\n"
     ]
    }
   ],
   "execution_count": 12
  },
  {
   "cell_type": "markdown",
   "id": "f506457d-014b-4fee-a684-e5edfb4b8f0d",
   "metadata": {},
   "source": [
    "## Filtering messages\n",
    "\n",
    "If you don't need or want to modify the graph state, you can just filter the messages you pass to the chat model.\n",
    "\n",
    "For example, just pass in a filtered list: `llm.invoke(messages[-1:])` to the model."
   ]
  },
  {
   "cell_type": "code",
   "id": "22d0b904-7cd6-486b-8948-105bee3d4683",
   "metadata": {
    "ExecuteTime": {
     "end_time": "2025-10-22T19:21:40.834425Z",
     "start_time": "2025-10-22T19:21:40.017735Z"
    }
   },
   "source": [
    "# Node\n",
    "def chat_model_node(state: MessagesState):\n",
    "    return {\"messages\": [llm.invoke(state[\"messages\"][-1:])]}\n",
    "\n",
    "# Build graph\n",
    "builder = StateGraph(MessagesState)\n",
    "builder.add_node(\"chat_model\", chat_model_node)\n",
    "builder.add_edge(START, \"chat_model\")\n",
    "builder.add_edge(\"chat_model\", END)\n",
    "graph = builder.compile()\n",
    "\n",
    "# View\n",
    "display(Image(graph.get_graph().draw_mermaid_png()))"
   ],
   "outputs": [
    {
     "data": {
      "image/png": "[encoded data removed]",
      "text/plain": [
       "<IPython.core.display.Image object>"
      ]
     },
     "metadata": {},
     "output_type": "display_data",
     "jetTransient": {
      "display_id": null
     }
    }
   ],
   "execution_count": 13
  },
  {
   "cell_type": "markdown",
   "id": "6f58c6fc-532f-418d-b70a-cfcb3307daf5",
   "metadata": {},
   "source": [
    "Let's take our existing list of messages, append the above LLM response, and append a follow-up question."
   ]
  },
  {
   "cell_type": "code",
   "id": "16956015-1dbe-4108-89b5-4209b68b51ca",
   "metadata": {
    "ExecuteTime": {
     "end_time": "2025-10-22T19:21:40.845005Z",
     "start_time": "2025-10-22T19:21:40.837902Z"
    }
   },
   "source": [
    "messages.append(output['messages'][-1])\n",
    "messages.append(HumanMessage(f\"Tell me more about Narwhals!\", name=\"Lance\"))"
   ],
   "outputs": [],
   "execution_count": 14
  },
  {
   "cell_type": "code",
   "id": "85563415-c085-46a8-a4ac-155df798c54e",
   "metadata": {
    "ExecuteTime": {
     "end_time": "2025-10-22T19:21:40.861040Z",
     "start_time": "2025-10-22T19:21:40.856280Z"
    }
   },
   "source": [
    "for m in messages:\n",
    "    m.pretty_print()"
   ],
   "outputs": [
    {
     "name": "stdout",
     "output_type": "stream",
     "text": [
      "==================================\u001B[1m Ai Message \u001B[0m==================================\n",
      "Name: Bot\n",
      "\n",
      "Hi.\n",
      "================================\u001B[1m Human Message \u001B[0m=================================\n",
      "Name: Lance\n",
      "\n",
      "Hi.\n",
      "==================================\u001B[1m Ai Message \u001B[0m==================================\n",
      "Name: Bot\n",
      "\n",
      "So you said you were researching ocean mammals?\n",
      "================================\u001B[1m Human Message \u001B[0m=================================\n",
      "Name: Lance\n",
      "\n",
      "Yes, I know about whales. But what others should I learn about?\n",
      "==================================\u001B[1m Ai Message \u001B[0m==================================\n",
      "\n",
      "There are several fascinating ocean mammals besides whales that you might want to learn about:\n",
      "\n",
      "1. **Dolphins**: Highly intelligent and social creatures, dolphins are closely related to whales and can be found in oceans around the world. They are known for their playful behavior and complex communication.\n",
      "\n",
      "2. **Porpoises**: Often confused with dolphins, porpoises are smaller and have different physical characteristics, such as spade-shaped teeth and shorter beaks. They are more reserved compared to dolphins.\n",
      "\n",
      "3. **Seals and Sea Lions**: These are pinnipeds, which means \"fin-footed,\" and they inhabit various coastal areas. Seals are more adapted to water, while sea lions can \"walk\" on land using their large front flippers.\n",
      "\n",
      "4. **Walruses**: Known for their large tusks and whiskers, walruses are primarily found in the Arctic. They use their tusks to pull themselves out of the water and onto ice.\n",
      "\n",
      "5. **Manatees and Dugongs**: Also known as sea cows, these gentle herbivores are often found in warm coastal waters and rivers. Manatees are primarily located in the Americas, while dugongs are found in the Indian and Pacific Oceans.\n",
      "\n",
      "6. **Sea Otters**: Not always classified as a marine mammal, but they spend most of their life in the ocean. These playful animals inhabit the coasts of the northern and eastern North Pacific Ocean and are known for their dense fur and tool use.\n",
      "\n",
      "7. **Polar Bears**: Though not strictly ocean-dwelling, polar bears spend much of their time on sea ice and are excellent swimmers. They primarily hunt seals and are vital components of the Arctic marine ecosystem.\n",
      "\n",
      "Each of these ocean mammals has unique adaptations and behaviors that make them fascinating study subjects.\n",
      "================================\u001B[1m Human Message \u001B[0m=================================\n",
      "Name: Lance\n",
      "\n",
      "Tell me more about Narwhals!\n"
     ]
    }
   ],
   "execution_count": 15
  },
  {
   "cell_type": "code",
   "id": "23349705-a059-47b5-9760-d8f64e687393",
   "metadata": {
    "ExecuteTime": {
     "end_time": "2025-10-22T19:21:54.527483Z",
     "start_time": "2025-10-22T19:21:40.900862Z"
    }
   },
   "source": [
    "# Invoke, using message filtering\n",
    "output = graph.invoke({'messages': messages})\n",
    "for m in output['messages']:\n",
    "    m.pretty_print()"
   ],
   "outputs": [
    {
     "name": "stdout",
     "output_type": "stream",
     "text": [
      "==================================\u001B[1m Ai Message \u001B[0m==================================\n",
      "Name: Bot\n",
      "\n",
      "Hi.\n",
      "================================\u001B[1m Human Message \u001B[0m=================================\n",
      "Name: Lance\n",
      "\n",
      "Hi.\n",
      "==================================\u001B[1m Ai Message \u001B[0m==================================\n",
      "Name: Bot\n",
      "\n",
      "So you said you were researching ocean mammals?\n",
      "================================\u001B[1m Human Message \u001B[0m=================================\n",
      "Name: Lance\n",
      "\n",
      "Yes, I know about whales. But what others should I learn about?\n",
      "==================================\u001B[1m Ai Message \u001B[0m==================================\n",
      "\n",
      "There are several fascinating ocean mammals besides whales that you might want to learn about:\n",
      "\n",
      "1. **Dolphins**: Highly intelligent and social creatures, dolphins are closely related to whales and can be found in oceans around the world. They are known for their playful behavior and complex communication.\n",
      "\n",
      "2. **Porpoises**: Often confused with dolphins, porpoises are smaller and have different physical characteristics, such as spade-shaped teeth and shorter beaks. They are more reserved compared to dolphins.\n",
      "\n",
      "3. **Seals and Sea Lions**: These are pinnipeds, which means \"fin-footed,\" and they inhabit various coastal areas. Seals are more adapted to water, while sea lions can \"walk\" on land using their large front flippers.\n",
      "\n",
      "4. **Walruses**: Known for their large tusks and whiskers, walruses are primarily found in the Arctic. They use their tusks to pull themselves out of the water and onto ice.\n",
      "\n",
      "5. **Manatees and Dugongs**: Also known as sea cows, these gentle herbivores are often found in warm coastal waters and rivers. Manatees are primarily located in the Americas, while dugongs are found in the Indian and Pacific Oceans.\n",
      "\n",
      "6. **Sea Otters**: Not always classified as a marine mammal, but they spend most of their life in the ocean. These playful animals inhabit the coasts of the northern and eastern North Pacific Ocean and are known for their dense fur and tool use.\n",
      "\n",
      "7. **Polar Bears**: Though not strictly ocean-dwelling, polar bears spend much of their time on sea ice and are excellent swimmers. They primarily hunt seals and are vital components of the Arctic marine ecosystem.\n",
      "\n",
      "Each of these ocean mammals has unique adaptations and behaviors that make them fascinating study subjects.\n",
      "================================\u001B[1m Human Message \u001B[0m=================================\n",
      "Name: Lance\n",
      "\n",
      "Tell me more about Narwhals!\n",
      "==================================\u001B[1m Ai Message \u001B[0m==================================\n",
      "\n",
      "Certainly! Narwhals (Monodon monoceros) are fascinating marine mammals known for their distinctive long, spiral tusk, which can grow up to 10 feet (about 3 meters) in length. Here’s more information about them:\n",
      "\n",
      "### Physical Characteristics\n",
      "- **Tusk**: The tusk is actually an elongated tooth and is more common in males, though a small percentage of females also have them. It is often considered a sensory organ, with millions of nerve endings that help the narwhal detect changes in its environment.\n",
      "- **Size**: Narwhals are medium-sized whales, with males typically growing up to 16-18 feet (5-5.5 meters) in length, excluding the tusk, and weighing about 1,800 to 3,500 pounds (800-1,600 kilograms). Females are generally smaller.\n",
      "- **Color**: They have a mottled black and white appearance, with older narwhals usually appearing more white.\n",
      "\n",
      "### Habitat and Distribution\n",
      "- **Habitat**: Narwhals inhabit Arctic waters, primarily around Greenland, Canada, and Russia. They are well adapted to life in ice-covered waters.\n",
      "- **Migration**: They are known for their seasonal migrations, moving closer to shore during the summer months when the ice melts and retreating to deeper, ice-covered waters in the winter.\n",
      "\n",
      "### Behavior and Diet\n",
      "- **Social Structure**: Narwhals are social animals that often travel in groups called pods, which can consist of 10 to 20 individuals but sometimes more.\n",
      "- **Diet**: Their diet mainly consists of fish, squid, and shrimp. They are deep divers and can reach depths of over 4,900 feet (1,500 meters) in search of food.\n",
      "- **Communication**: Narwhals are known for their vocalizations, which they use for communication and echolocation.\n",
      "\n",
      "### Conservation Status\n",
      "- **Threats**: Narwhals face several threats, including climate change, which affects sea ice habitats, as well as hunting and industrial activities. They are also sensitive to disturbances from shipping and oil exploration.\n",
      "- **Conservation Efforts**: Various international and local conservation efforts are in place to protect narwhal habitats and manage hunting.\n",
      "\n",
      "### Fascinating Facts\n",
      "- **Tusk Use**: While the specific purpose of the tusk is still studied, it is believed to play a role in mating rituals, dominance displays, and perhaps in sensing the environment.\n",
      "- **Cultural Significance**: The narwhal has cultural significance for many Indigenous peoples in the Arctic regions, featuring in myths and as a source of sustenance.\n",
      "\n",
      "Narwhals are an integral part of the Arctic marine ecosystem and continue to captivate scientists and nature enthusiasts alike with their unique adaptations and mysterious lifestyles.\n"
     ]
    }
   ],
   "execution_count": 16
  },
  {
   "cell_type": "markdown",
   "id": "42e1d8d2-e297-4d78-b54c-d12b3c866745",
   "metadata": {},
   "source": [
    "The state has all of the mesages.\n",
    "\n",
    "But, let's look at the LangSmith trace to see that the model invocation only uses the last message:\n",
    "\n",
    "https://smith.langchain.com/public/75aca3ce-ef19-4b92-94be-0178c7a660d9/r"
   ]
  },
  {
   "cell_type": "markdown",
   "id": "fc40d930-3c1f-47fe-8d2a-ce174873353c",
   "metadata": {},
   "source": [
    "## Trim messages\n",
    "\n",
    "Another approach is to [trim messages](https://python.langchain.com/v0.2/docs/how_to/trim_messages/#getting-the-last-max_tokens-tokens), based upon a set number of tokens. \n",
    "\n",
    "This restricts the message history to a specified number of tokens.\n",
    "\n",
    "While filtering only returns a post-hoc subset of the messages between agents, trimming restricts the number of tokens that a chat model can use to respond.\n",
    "\n",
    "See the `trim_messages` below."
   ]
  },
  {
   "cell_type": "code",
   "id": "2ff99b81-cf03-4cc2-b44f-44829a73e1fd",
   "metadata": {
    "ExecuteTime": {
     "end_time": "2025-10-22T19:21:55.482383Z",
     "start_time": "2025-10-22T19:21:54.534439Z"
    }
   },
   "source": [
    "from langchain_core.messages import trim_messages\n",
    "\n",
    "# Node\n",
    "def chat_model_node(state: MessagesState):\n",
    "    messages = trim_messages(\n",
    "            state[\"messages\"],\n",
    "            max_tokens=100,\n",
    "            strategy=\"last\",\n",
    "            token_counter=ChatOpenAI(model=\"gpt-4o\"),\n",
    "            allow_partial=False,\n",
    "        )\n",
    "    return {\"messages\": [llm.invoke(messages)]}\n",
    "\n",
    "# Build graph\n",
    "builder = StateGraph(MessagesState)\n",
    "builder.add_node(\"chat_model\", chat_model_node)\n",
    "builder.add_edge(START, \"chat_model\")\n",
    "builder.add_edge(\"chat_model\", END)\n",
    "graph = builder.compile()\n",
    "\n",
    "# View\n",
    "display(Image(graph.get_graph().draw_mermaid_png()))"
   ],
   "outputs": [
    {
     "data": {
      "image/png": "[encoded data removed]",
      "text/plain": [
       "<IPython.core.display.Image object>"
      ]
     },
     "metadata": {},
     "output_type": "display_data",
     "jetTransient": {
      "display_id": null
     }
    }
   ],
   "execution_count": 17
  },
  {
   "cell_type": "code",
   "id": "24df63ac-da29-4874-b3df-7e390e97cc8a",
   "metadata": {
    "ExecuteTime": {
     "end_time": "2025-10-22T19:21:55.495685Z",
     "start_time": "2025-10-22T19:21:55.484627Z"
    }
   },
   "source": [
    "messages.append(output['messages'][-1])\n",
    "messages.append(HumanMessage(f\"Tell me where Orcas live!\", name=\"Lance\"))"
   ],
   "outputs": [],
   "execution_count": 18
  },
  {
   "cell_type": "code",
   "id": "6d9d8971-c75c-43ca-a209-eb1d07b2ead0",
   "metadata": {
    "ExecuteTime": {
     "end_time": "2025-10-22T19:22:00.825213Z",
     "start_time": "2025-10-22T19:21:55.501040Z"
    }
   },
   "source": [
    "# Example of trimming messages\n",
    "trim_messages(\n",
    "            messages,\n",
    "            max_tokens=100,\n",
    "            strategy=\"last\",\n",
    "            token_counter=ChatOpenAI(model=\"gpt-4o\"),\n",
    "            allow_partial=False\n",
    "        )"
   ],
   "outputs": [
    {
     "data": {
      "text/plain": [
       "[HumanMessage(content='Tell me where Orcas live!', additional_kwargs={}, response_metadata={}, name='Lance')]"
      ]
     },
     "execution_count": 19,
     "metadata": {},
     "output_type": "execute_result"
    }
   ],
   "execution_count": 19
  },
  {
   "cell_type": "code",
   "id": "ed70a269-a869-4fa0-a1df-29736a432c51",
   "metadata": {
    "ExecuteTime": {
     "end_time": "2025-10-22T19:22:09.114533Z",
     "start_time": "2025-10-22T19:22:00.834319Z"
    }
   },
   "source": [
    "# Invoke, using message trimming in the chat_model_node \n",
    "messages_out_trim = graph.invoke({'messages': messages})"
   ],
   "outputs": [],
   "execution_count": 20
  },
  {
   "metadata": {
    "ExecuteTime": {
     "end_time": "2025-10-22T20:02:44.374771Z",
     "start_time": "2025-10-22T20:02:35.639749Z"
    }
   },
   "cell_type": "code",
   "source": [
    "from langchain_openai import ChatOpenAI\n",
    "from langgraph.graph import StateGraph, START, END\n",
    "from langgraph.graph.message import MessagesState\n",
    "from langchain_core.messages import HumanMessage, AIMessage\n",
    "\n",
    "\n",
    "\n",
    "llm = ChatOpenAI(model=\"gpt-4o-mini\")\n",
    "\n",
    "\n",
    "def trim_last_n(state: MessagesState, n=4):\n",
    "    \"\"\"\n",
    "    Keep only the last `n` messages in the conversation.\n",
    "    \"\"\"\n",
    "    return {\"messages\": state[\"messages\"][-n:]}\n",
    "\n",
    "\n",
    "def chat_model_node(state: MessagesState):\n",
    "    \"\"\"\n",
    "    Pass the trimmed messages to the LLM and return the response as a new message.\n",
    "    \"\"\"\n",
    "    response = llm.invoke(state[\"messages\"])\n",
    "    return {\"messages\": [response]}\n",
    "\n",
    "\n",
    "graph = StateGraph(MessagesState)\n",
    "\n",
    "graph.add_node(\"trim_messages\", trim_last_n)\n",
    "graph.add_node(\"chat_model\", chat_model_node)\n",
    "\n",
    "graph.add_edge(START, \"trim_messages\")\n",
    "graph.add_edge(\"trim_messages\", \"chat_model\")\n",
    "graph.add_edge(\"chat_model\", END)\n",
    "\n",
    "graph = graph.compile()\n",
    "\n",
    "\n",
    "messages = [\n",
    "    HumanMessage(\"Hey! I want to plan a trip to Japan next month.\", name=\"User1\", id=\"1\"),\n",
    "    AIMessage(\"That sounds exciting! Do you have specific cities in mind?\", name=\"Bot\", id=\"2\"),\n",
    "    HumanMessage(\"Yes, Tokyo and Kyoto.\", name=\"User1\", id=\"3\"),\n",
    "    AIMessage(\"Great choices! How many days do you plan to stay in each city?\", name=\"Bot\", id=\"4\"),\n",
    "    HumanMessage(\"3 days in Tokyo, 2 days in Kyoto.\", name=\"User1\", id=\"5\"),\n",
    "]\n",
    "\n",
    "\n",
    "output = graph.invoke({\"messages\": messages})\n",
    "\n",
    "# Print the bot's response(s)\n",
    "for m in output[\"messages\"]:\n",
    "    m.pretty_print()\n",
    "\n",
    "display(Image(graph.get_graph().draw_mermaid_png()))\n"
   ],
   "id": "982c6fed3b90dec8",
   "outputs": [
    {
     "name": "stdout",
     "output_type": "stream",
     "text": [
      "================================\u001B[1m Human Message \u001B[0m=================================\n",
      "Name: User1\n",
      "\n",
      "Hey! I want to plan a trip to Japan next month.\n",
      "==================================\u001B[1m Ai Message \u001B[0m==================================\n",
      "Name: Bot\n",
      "\n",
      "That sounds exciting! Do you have specific cities in mind?\n",
      "================================\u001B[1m Human Message \u001B[0m=================================\n",
      "Name: User1\n",
      "\n",
      "Yes, Tokyo and Kyoto.\n",
      "==================================\u001B[1m Ai Message \u001B[0m==================================\n",
      "Name: Bot\n",
      "\n",
      "Great choices! How many days do you plan to stay in each city?\n",
      "================================\u001B[1m Human Message \u001B[0m=================================\n",
      "Name: User1\n",
      "\n",
      "3 days in Tokyo, 2 days in Kyoto.\n",
      "==================================\u001B[1m Ai Message \u001B[0m==================================\n",
      "\n",
      "That sounds like a solid plan! Here’s a suggestion for your itinerary:\n",
      "\n",
      "### Tokyo (3 Days)\n",
      "**Day 1: Explore Central Tokyo**\n",
      "- **Morning:** Visit the historic Asakusa district and Senso-ji Temple.\n",
      "- **Afternoon:** Head to Ueno Park and explore its museums or the Ueno Zoo.\n",
      "- **Evening:** Enjoy shopping and dining in Akihabara or the fashionable Harajuku area.\n",
      "\n",
      "**Day 2: Modern Tokyo**\n",
      "- **Morning:** Visit the Meiji Shrine in the morning, followed by a stroll through Yoyogi Park.\n",
      "- **Afternoon:** Explore Shibuya, including the famous Shibuya Crossing and Hachiko Statue.\n",
      "- **Evening:** Spend the night in Shinjuku, visit the observation deck of the Tokyo Metropolitan Government Building for stunning city views.\n",
      "\n",
      "**Day 3: Day Trip Options**\n",
      "- Consider taking a day trip to nearby attractions like Nikko, Hakone, or even Disneyland Tokyo. You can return in the evening and maybe explore Odaiba.\n",
      "\n",
      "### Kyoto (2 Days)\n",
      "**Day 1: Cultural Discoveries**\n",
      "- **Morning:** Visit Kinkaku-ji (Golden Pavilion) and Ryoan-ji for its rock garden.\n",
      "- **Afternoon:** Head to Arashiyama and walk through the Bamboo Grove, then visit Tenryu-ji Temple.\n",
      "- **Evening:** Enjoy a traditional kaiseki dinner in Gion and walk around the historic streets.\n",
      "\n",
      "**Day 2: Temples and Natural Beauty**\n",
      "- **Morning:** Visit Fushimi Inari Taisha, famous for its thousands of vermillion torii gates.\n",
      "- **Afternoon:** Explore the historic district of Higashiyama, visiting Kiyomizu-dera Temple.\n",
      "- **Evening:** Relax in one of Kyoto's traditional tea houses or enjoy a quiet evening at the Philosopher’s Path.\n",
      "\n",
      "### Tips\n",
      "- Make sure to get a Japan Rail Pass if you’re taking the train between the cities.\n",
      "- Try local food specialties like sushi in Tokyo and yudofu in Kyoto.\n",
      "- Download apps for navigation like Google Maps or Hyperdia for train schedules.\n",
      "\n",
      "If you have any specific interests or requirements, let me know, and I can customize the itinerary further!\n"
     ]
    },
    {
     "data": {
      "image/png": "[encoded data removed]",
      "text/plain": [
       "<IPython.core.display.Image object>"
      ]
     },
     "metadata": {},
     "output_type": "display_data",
     "jetTransient": {
      "display_id": null
     }
    }
   ],
   "execution_count": 33
  },
  {
   "cell_type": "markdown",
   "id": "38b3db67-380e-46b5-9a6a-20100ba52008",
   "metadata": {},
   "source": [
    "Let's look at the LangSmith trace to see the model invocation:\n",
    "\n",
    "https://smith.langchain.com/public/b153f7e9-f1a5-4d60-8074-f0d7ab5b42ef/r"
   ]
  },
  {
   "metadata": {},
   "cell_type": "code",
   "outputs": [],
   "execution_count": null,
   "source": "",
   "id": "ab37e918ae25abcb"
  }
 ],
 "metadata": {
  "kernelspec": {
   "display_name": "Python 3 (ipykernel)",
   "language": "python",
   "name": "python3"
  },
  "language_info": {
   "codemirror_mode": {
    "name": "ipython",
    "version": 3
   },
   "file_extension": ".py",
   "mimetype": "text/x-python",
   "name": "python",
   "nbconvert_exporter": "python",
   "pygments_lexer": "ipython3",
   "version": "3.12.1"
  }
 },
 "nbformat": 4,
 "nbformat_minor": 5
}
