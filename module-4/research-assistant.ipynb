{
 "cells": [
  {
   "cell_type": "markdown",
   "id": "7a5c2153",
   "metadata": {},
   "source": [
    "[![Open in Colab](https://colab.research.google.com/assets/colab-badge.svg)](https://colab.research.google.com/github/langchain-ai/langchain-academy/blob/main/module-4/research-assistant.ipynb) [![Open in LangChain Academy](https://cdn.prod.website-files.com/65b8cd72835ceeacd4449a53/66e9eba12c7b7688aa3dbb5e_LCA-badge-green.svg)](https://academy.langchain.com/courses/take/intro-to-langgraph/lessons/58239974-lesson-4-research-assistant)"
   ]
  },
  {
   "attachments": {},
   "cell_type": "markdown",
   "id": "e0a5763f-5f45-4b8f-b3e2-480f46c5721b",
   "metadata": {},
   "source": [
    "# Research Assistant\n",
    "\n",
    "## Review\n",
    "\n",
    "We've covered a few major LangGraph themes:\n",
    "\n",
    "* Memory\n",
    "* Human-in-the-loop\n",
    "* Controllability\n",
    "\n",
    "Now, we'll bring these ideas together to tackle one of AI's most popular applications: research automation. \n",
    "\n",
    "Research is often laborious work offloaded to analysts. AI has considerable potential to assist with this.\n",
    "\n",
    "However, research demands customization: raw LLM outputs are often poorly suited for real-world decision-making workflows. \n",
    "\n",
    "Customized, AI-based [research and report generation](https://jxnl.co/writing/2024/06/05/predictions-for-the-future-of-rag/#reports-over-rag) workflows are a promising way to address this.\n",
    "\n",
    "## Goal\n",
    "\n",
    "Our goal is to build a lightweight, multi-agent system around chat models that customizes the research process.\n",
    "\n",
    "`Source Selection` \n",
    "* Users can choose any set of input sources for their research.\n",
    "  \n",
    "`Planning` \n",
    "* Users provide a topic, and the system generates a team of AI analysts, each focusing on one sub-topic.\n",
    "* `Human-in-the-loop` will be used to refine these sub-topics before research begins.\n",
    "  \n",
    "`LLM Utilization`\n",
    "* Each analyst will conduct in-depth interviews with an expert AI using the selected sources.\n",
    "* The interview will be a multi-turn conversation to extract detailed insights as shown in the [STORM](https://arxiv.org/abs/2402.14207) paper.\n",
    "* These interviews will be captured in a using `sub-graphs` with their internal state. \n",
    "   \n",
    "`Research Process`\n",
    "* Experts will gather information to answer analyst questions in `parallel`.\n",
    "* And all interviews will be conducted simultaneously through `map-reduce`.\n",
    "\n",
    "`Output Format` \n",
    "* The gathered insights from each interview will be synthesized into a final report.\n",
    "* We'll use customizable prompts for the report, allowing for a flexible output format. \n",
    "\n",
    "![Screenshot 2024-08-26 at 7.26.33 PM.png](https://cdn.prod.website-files.com/65b8cd72835ceeacd4449a53/66dbb164d61c93d48e604091_research-assistant1.png)"
   ]
  },
  {
   "cell_type": "code",
   "id": "f23991e9-51b3-4e9f-86a0-dec16aa7d1e6",
   "metadata": {
    "scrolled": true,
    "ExecuteTime": {
     "end_time": "2025-10-31T18:20:57.362350Z",
     "start_time": "2025-10-31T18:20:50.616786Z"
    }
   },
   "source": [
    "%%capture --no-stderr\n",
    "%pip install --quiet -U langgraph langchain_openai langchain_community langchain_core tavily-python wikipedia"
   ],
   "outputs": [
    {
     "name": "stderr",
     "output_type": "stream",
     "text": [
      "\n",
      "[notice] A new release of pip is available: 25.2 -> 25.3\n",
      "[notice] To update, run: python.exe -m pip install --upgrade pip\n"
     ]
    }
   ],
   "execution_count": 1
  },
  {
   "cell_type": "markdown",
   "id": "99a1c01d-87e1-4723-b83e-ebcf937fe914",
   "metadata": {},
   "source": [
    "## Setup"
   ]
  },
  {
   "cell_type": "code",
   "id": "ba917800-10e4-4e2a-8e9e-30893b731e97",
   "metadata": {
    "ExecuteTime": {
     "end_time": "2025-10-31T18:21:14.626789Z",
     "start_time": "2025-10-31T18:20:57.367605Z"
    }
   },
   "source": [
    "import os, getpass\n",
    "\n",
    "def _set_env(var: str):\n",
    "    if not os.environ.get(var):\n",
    "        os.environ[var] = getpass.getpass(f\"{var}: \")\n",
    "\n",
    "_set_env(\"OPENAI_API_KEY\")"
   ],
   "outputs": [],
   "execution_count": 2
  },
  {
   "cell_type": "code",
   "id": "afe9ff57-0826-4669-b88b-4d0501a509f5",
   "metadata": {
    "ExecuteTime": {
     "end_time": "2025-10-31T18:21:21.475498Z",
     "start_time": "2025-10-31T18:21:14.642424Z"
    }
   },
   "source": [
    "from langchain_openai import ChatOpenAI\n",
    "llm = ChatOpenAI(model=\"gpt-4o\", temperature=0) "
   ],
   "outputs": [],
   "execution_count": 3
  },
  {
   "cell_type": "markdown",
   "id": "3419257b-2c6b-4d68-ae38-4a266cc02982",
   "metadata": {},
   "source": [
    "We'll use [LangSmith](https://docs.smith.langchain.com/) for [tracing](https://docs.smith.langchain.com/concepts/tracing)."
   ]
  },
  {
   "cell_type": "code",
   "id": "5102cf2e-0ca9-465b-9499-67abb8132e5d",
   "metadata": {
    "ExecuteTime": {
     "end_time": "2025-10-31T18:21:25.743851Z",
     "start_time": "2025-10-31T18:21:21.475498Z"
    }
   },
   "source": [
    "_set_env(\"LANGSMITH_API_KEY\")\n",
    "os.environ[\"LANGSMITH_TRACING\"] = \"true\"\n",
    "os.environ[\"LANGSMITH_PROJECT\"] = \"langchain-academy\""
   ],
   "outputs": [],
   "execution_count": 4
  },
  {
   "cell_type": "markdown",
   "id": "f8fe5d93-e353-44bb-be3e-434654bcb7ea",
   "metadata": {},
   "source": [
    "## Generate Analysts: Human-In-The-Loop\n",
    "\n",
    "Create analysts and review them using human-in-the-loop."
   ]
  },
  {
   "cell_type": "code",
   "id": "1eee8e60-e548-49b1-88ec-a4f3aef2174e",
   "metadata": {
    "ExecuteTime": {
     "end_time": "2025-10-31T18:21:25.776279Z",
     "start_time": "2025-10-31T18:21:25.766161Z"
    }
   },
   "source": [
    "from typing import List\n",
    "from typing_extensions import TypedDict\n",
    "from pydantic import BaseModel, Field\n",
    "\n",
    "class Analyst(BaseModel):\n",
    "    affiliation: str = Field(\n",
    "        description=\"Primary affiliation of the analyst.\",\n",
    "    )\n",
    "    name: str = Field(\n",
    "        description=\"Name of the analyst.\"\n",
    "    )\n",
    "    role: str = Field(\n",
    "        description=\"Role of the analyst in the context of the topic.\",\n",
    "    )\n",
    "    description: str = Field(\n",
    "        description=\"Description of the analyst focus, concerns, and motives.\",\n",
    "    )\n",
    "    @property\n",
    "    def persona(self) -> str:\n",
    "        return f\"Name: {self.name}\\nRole: {self.role}\\nAffiliation: {self.affiliation}\\nDescription: {self.description}\\n\"\n",
    "\n",
    "class Perspectives(BaseModel):\n",
    "    analysts: List[Analyst] = Field(\n",
    "        description=\"Comprehensive list of analysts with their roles and affiliations.\",\n",
    "    )\n",
    "\n",
    "class GenerateAnalystsState(TypedDict):\n",
    "    topic: str # Research topic\n",
    "    max_analysts: int # Number of analysts\n",
    "    human_analyst_feedback: str # Human feedback\n",
    "    analysts: List[Analyst] # Analyst asking questions"
   ],
   "outputs": [],
   "execution_count": 5
  },
  {
   "cell_type": "code",
   "id": "fd088ff5-4c75-412c-85f0-04afd0900bfc",
   "metadata": {
    "ExecuteTime": {
     "end_time": "2025-10-31T18:21:27.081496Z",
     "start_time": "2025-10-31T18:21:25.858439Z"
    }
   },
   "source": [
    "from IPython.display import Image, display\n",
    "from langgraph.graph import START, END, StateGraph\n",
    "from langgraph.checkpoint.memory import MemorySaver\n",
    "from langchain_core.messages import AIMessage, HumanMessage, SystemMessage\n",
    "\n",
    "analyst_instructions=\"\"\"You are tasked with creating a set of AI analyst personas. Follow these instructions carefully:\n",
    "\n",
    "1. First, review the research topic:\n",
    "{topic}\n",
    "        \n",
    "2. Examine any editorial feedback that has been optionally provided to guide creation of the analysts: \n",
    "        \n",
    "{human_analyst_feedback}\n",
    "    \n",
    "3. Determine the most interesting themes based upon documents and / or feedback above.\n",
    "                    \n",
    "4. Pick the top {max_analysts} themes.\n",
    "\n",
    "5. Assign one analyst to each theme.\"\"\"\n",
    "\n",
    "def create_analysts(state: GenerateAnalystsState):\n",
    "    \n",
    "    \"\"\" Create analysts \"\"\"\n",
    "    \n",
    "    topic=state['topic']\n",
    "    max_analysts=state['max_analysts']\n",
    "    human_analyst_feedback=state.get('human_analyst_feedback', '')\n",
    "        \n",
    "    # Enforce structured output\n",
    "    structured_llm = llm.with_structured_output(Perspectives)\n",
    "\n",
    "    # System message\n",
    "    system_message = analyst_instructions.format(topic=topic,\n",
    "                                                            human_analyst_feedback=human_analyst_feedback, \n",
    "                                                            max_analysts=max_analysts)\n",
    "\n",
    "    # Generate question \n",
    "    analysts = structured_llm.invoke([SystemMessage(content=system_message)]+[HumanMessage(content=\"Generate the set of analysts.\")])\n",
    "    \n",
    "    # Write the list of analysis to state\n",
    "    return {\"analysts\": analysts.analysts}\n",
    "\n",
    "def human_feedback(state: GenerateAnalystsState):\n",
    "    \"\"\" No-op node that should be interrupted on \"\"\"\n",
    "    pass\n",
    "\n",
    "def should_continue(state: GenerateAnalystsState):\n",
    "    \"\"\" Return the next node to execute \"\"\"\n",
    "\n",
    "    # Check if human feedback\n",
    "    human_analyst_feedback=state.get('human_analyst_feedback', None)\n",
    "    if human_analyst_feedback:\n",
    "        return \"create_analysts\"\n",
    "    \n",
    "    # Otherwise end\n",
    "    return END\n",
    "\n",
    "# Add nodes and edges \n",
    "builder = StateGraph(GenerateAnalystsState)\n",
    "builder.add_node(\"create_analysts\", create_analysts)\n",
    "builder.add_node(\"human_feedback\", human_feedback)\n",
    "builder.add_edge(START, \"create_analysts\")\n",
    "builder.add_edge(\"create_analysts\", \"human_feedback\")\n",
    "builder.add_conditional_edges(\"human_feedback\", should_continue, [\"create_analysts\", END])\n",
    "\n",
    "# Compile\n",
    "memory = MemorySaver()\n",
    "graph = builder.compile(interrupt_before=['human_feedback'], checkpointer=memory)\n",
    "\n",
    "# View\n",
    "display(Image(graph.get_graph(xray=1).draw_mermaid_png()))"
   ],
   "outputs": [
    {
     "data": {
      "image/png": "[encoded data removed]",
      "text/plain": [
       "<IPython.core.display.Image object>"
      ]
     },
     "metadata": {},
     "output_type": "display_data",
     "jetTransient": {
      "display_id": null
     }
    }
   ],
   "execution_count": 6
  },
  {
   "cell_type": "code",
   "id": "6c22cb05-c436-4358-8f7a-72d722f9b5cc",
   "metadata": {
    "ExecuteTime": {
     "end_time": "2025-10-31T18:21:33.159156Z",
     "start_time": "2025-10-31T18:21:27.081496Z"
    }
   },
   "source": [
    "# Input\n",
    "max_analysts = 3 \n",
    "topic = \"The benefits of adopting LangGraph as an agent framework\"\n",
    "thread = {\"configurable\": {\"thread_id\": \"1\"}}\n",
    "\n",
    "# Run the graph until the first interruption\n",
    "for event in graph.stream({\"topic\":topic,\"max_analysts\":max_analysts,}, thread, stream_mode=\"values\"):\n",
    "    # Review\n",
    "    analysts = event.get('analysts', '')\n",
    "    if analysts:\n",
    "        for analyst in analysts:\n",
    "            print(f\"Name: {analyst.name}\")\n",
    "            print(f\"Affiliation: {analyst.affiliation}\")\n",
    "            print(f\"Role: {analyst.role}\")\n",
    "            print(f\"Description: {analyst.description}\")\n",
    "            print(\"-\" * 50)  "
   ],
   "outputs": [
    {
     "name": "stderr",
     "output_type": "stream",
     "text": [
      "Failed to multipart ingest runs: langsmith.utils.LangSmithError: Failed to POST https://api.smith.langchain.com/runs/multipart in LangSmith API. HTTPError('403 Client Error: Forbidden for url: https://api.smith.langchain.com/runs/multipart', '{\"error\":\"Forbidden\"}\\n')\n",
      "Failed to multipart ingest runs: langsmith.utils.LangSmithError: Failed to POST https://api.smith.langchain.com/runs/multipart in LangSmith API. HTTPError('403 Client Error: Forbidden for url: https://api.smith.langchain.com/runs/multipart', '{\"error\":\"Forbidden\"}\\n')\n",
      "Failed to send compressed multipart ingest: langsmith.utils.LangSmithError: Failed to POST https://api.smith.langchain.com/runs/multipart in LangSmith API. HTTPError('403 Client Error: Forbidden for url: https://api.smith.langchain.com/runs/multipart', '{\"error\":\"Forbidden\"}\\n')\n"
     ]
    },
    {
     "name": "stdout",
     "output_type": "stream",
     "text": [
      "Name: Dr. Emily Carter\n",
      "Affiliation: Tech Innovators Inc.\n",
      "Role: Technology Adoption Specialist\n",
      "Description: Dr. Carter focuses on the strategic benefits of adopting new technologies like LangGraph. She is particularly interested in how LangGraph can streamline processes, improve efficiency, and provide a competitive edge to organizations. Her analysis often includes case studies and data-driven insights to support the adoption of innovative frameworks.\n",
      "--------------------------------------------------\n",
      "Name: Mr. Raj Patel\n",
      "Affiliation: Data Security Solutions\n",
      "Role: Cybersecurity Analyst\n",
      "Description: Mr. Patel is concerned with the security implications of adopting new frameworks such as LangGraph. His focus is on evaluating the security features of LangGraph, assessing potential vulnerabilities, and ensuring that the framework meets industry standards for data protection and privacy. He provides recommendations for secure implementation practices.\n",
      "--------------------------------------------------\n",
      "Name: Dr. Lisa Nguyen\n",
      "Affiliation: AI Ethics Consortium\n",
      "Role: Ethical AI Researcher\n",
      "Description: Dr. Nguyen examines the ethical considerations of using agent frameworks like LangGraph. Her work involves analyzing the impact of LangGraph on decision-making processes, transparency, and accountability in AI systems. She advocates for ethical guidelines and policies to ensure responsible use of such technologies.\n",
      "--------------------------------------------------\n"
     ]
    },
    {
     "name": "stderr",
     "output_type": "stream",
     "text": [
      "Failed to send compressed multipart ingest: langsmith.utils.LangSmithError: Failed to POST https://api.smith.langchain.com/runs/multipart in LangSmith API. HTTPError('403 Client Error: Forbidden for url: https://api.smith.langchain.com/runs/multipart', '{\"error\":\"Forbidden\"}\\n')\n",
      "Failed to send compressed multipart ingest: langsmith.utils.LangSmithError: Failed to POST https://api.smith.langchain.com/runs/multipart in LangSmith API. HTTPError('403 Client Error: Forbidden for url: https://api.smith.langchain.com/runs/multipart', '{\"error\":\"Forbidden\"}\\n')\n",
      "Failed to send compressed multipart ingest: langsmith.utils.LangSmithError: Failed to POST https://api.smith.langchain.com/runs/multipart in LangSmith API. HTTPError('403 Client Error: Forbidden for url: https://api.smith.langchain.com/runs/multipart', '{\"error\":\"Forbidden\"}\\n')\n",
      "Failed to send compressed multipart ingest: langsmith.utils.LangSmithError: Failed to POST https://api.smith.langchain.com/runs/multipart in LangSmith API. HTTPError('403 Client Error: Forbidden for url: https://api.smith.langchain.com/runs/multipart', '{\"error\":\"Forbidden\"}\\n')\n",
      "Failed to send compressed multipart ingest: langsmith.utils.LangSmithError: Failed to POST https://api.smith.langchain.com/runs/multipart in LangSmith API. HTTPError('403 Client Error: Forbidden for url: https://api.smith.langchain.com/runs/multipart', '{\"error\":\"Forbidden\"}\\n')\n",
      "Failed to send compressed multipart ingest: langsmith.utils.LangSmithError: Failed to POST https://api.smith.langchain.com/runs/multipart in LangSmith API. HTTPError('403 Client Error: Forbidden for url: https://api.smith.langchain.com/runs/multipart', '{\"error\":\"Forbidden\"}\\n')\n",
      "Failed to send compressed multipart ingest: langsmith.utils.LangSmithError: Failed to POST https://api.smith.langchain.com/runs/multipart in LangSmith API. HTTPError('403 Client Error: Forbidden for url: https://api.smith.langchain.com/runs/multipart', '{\"error\":\"Forbidden\"}\\n')\n",
      "Failed to send compressed multipart ingest: langsmith.utils.LangSmithError: Failed to POST https://api.smith.langchain.com/runs/multipart in LangSmith API. HTTPError('403 Client Error: Forbidden for url: https://api.smith.langchain.com/runs/multipart', '{\"error\":\"Forbidden\"}\\n')\n",
      "Failed to send compressed multipart ingest: langsmith.utils.LangSmithError: Failed to POST https://api.smith.langchain.com/runs/multipart in LangSmith API. HTTPError('403 Client Error: Forbidden for url: https://api.smith.langchain.com/runs/multipart', '{\"error\":\"Forbidden\"}\\n')\n",
      "Failed to send compressed multipart ingest: langsmith.utils.LangSmithError: Failed to POST https://api.smith.langchain.com/runs/multipart in LangSmith API. HTTPError('403 Client Error: Forbidden for url: https://api.smith.langchain.com/runs/multipart', '{\"error\":\"Forbidden\"}\\n')\n",
      "Failed to send compressed multipart ingest: langsmith.utils.LangSmithError: Failed to POST https://api.smith.langchain.com/runs/multipart in LangSmith API. HTTPError('403 Client Error: Forbidden for url: https://api.smith.langchain.com/runs/multipart', '{\"error\":\"Forbidden\"}\\n')\n",
      "Failed to send compressed multipart ingest: langsmith.utils.LangSmithError: Failed to POST https://api.smith.langchain.com/runs/multipart in LangSmith API. HTTPError('403 Client Error: Forbidden for url: https://api.smith.langchain.com/runs/multipart', '{\"error\":\"Forbidden\"}\\n')\n",
      "Failed to send compressed multipart ingest: langsmith.utils.LangSmithError: Failed to POST https://api.smith.langchain.com/runs/multipart in LangSmith API. HTTPError('403 Client Error: Forbidden for url: https://api.smith.langchain.com/runs/multipart', '{\"error\":\"Forbidden\"}\\n')\n",
      "Failed to send compressed multipart ingest: langsmith.utils.LangSmithError: Failed to POST https://api.smith.langchain.com/runs/multipart in LangSmith API. HTTPError('403 Client Error: Forbidden for url: https://api.smith.langchain.com/runs/multipart', '{\"error\":\"Forbidden\"}\\n')\n",
      "Failed to send compressed multipart ingest: langsmith.utils.LangSmithError: Failed to POST https://api.smith.langchain.com/runs/multipart in LangSmith API. HTTPError('403 Client Error: Forbidden for url: https://api.smith.langchain.com/runs/multipart', '{\"error\":\"Forbidden\"}\\n')\n",
      "Failed to send compressed multipart ingest: langsmith.utils.LangSmithError: Failed to POST https://api.smith.langchain.com/runs/multipart in LangSmith API. HTTPError('403 Client Error: Forbidden for url: https://api.smith.langchain.com/runs/multipart', '{\"error\":\"Forbidden\"}\\n')\n",
      "Failed to send compressed multipart ingest: langsmith.utils.LangSmithError: Failed to POST https://api.smith.langchain.com/runs/multipart in LangSmith API. HTTPError('403 Client Error: Forbidden for url: https://api.smith.langchain.com/runs/multipart', '{\"error\":\"Forbidden\"}\\n')\n",
      "Failed to send compressed multipart ingest: langsmith.utils.LangSmithError: Failed to POST https://api.smith.langchain.com/runs/multipart in LangSmith API. HTTPError('403 Client Error: Forbidden for url: https://api.smith.langchain.com/runs/multipart', '{\"error\":\"Forbidden\"}\\n')\n",
      "Failed to send compressed multipart ingest: langsmith.utils.LangSmithError: Failed to POST https://api.smith.langchain.com/runs/multipart in LangSmith API. HTTPError('403 Client Error: Forbidden for url: https://api.smith.langchain.com/runs/multipart', '{\"error\":\"Forbidden\"}\\n')\n",
      "Failed to send compressed multipart ingest: langsmith.utils.LangSmithError: Failed to POST https://api.smith.langchain.com/runs/multipart in LangSmith API. HTTPError('403 Client Error: Forbidden for url: https://api.smith.langchain.com/runs/multipart', '{\"error\":\"Forbidden\"}\\n')\n",
      "Failed to send compressed multipart ingest: langsmith.utils.LangSmithError: Failed to POST https://api.smith.langchain.com/runs/multipart in LangSmith API. HTTPError('403 Client Error: Forbidden for url: https://api.smith.langchain.com/runs/multipart', '{\"error\":\"Forbidden\"}\\n')\n",
      "Failed to send compressed multipart ingest: langsmith.utils.LangSmithError: Failed to POST https://api.smith.langchain.com/runs/multipart in LangSmith API. HTTPError('403 Client Error: Forbidden for url: https://api.smith.langchain.com/runs/multipart', '{\"error\":\"Forbidden\"}\\n')\n",
      "Failed to send compressed multipart ingest: langsmith.utils.LangSmithError: Failed to POST https://api.smith.langchain.com/runs/multipart in LangSmith API. HTTPError('403 Client Error: Forbidden for url: https://api.smith.langchain.com/runs/multipart', '{\"error\":\"Forbidden\"}\\n')\n",
      "Failed to send compressed multipart ingest: langsmith.utils.LangSmithError: Failed to POST https://api.smith.langchain.com/runs/multipart in LangSmith API. HTTPError('403 Client Error: Forbidden for url: https://api.smith.langchain.com/runs/multipart', '{\"error\":\"Forbidden\"}\\n')\n",
      "Failed to send compressed multipart ingest: langsmith.utils.LangSmithError: Failed to POST https://api.smith.langchain.com/runs/multipart in LangSmith API. HTTPError('403 Client Error: Forbidden for url: https://api.smith.langchain.com/runs/multipart', '{\"error\":\"Forbidden\"}\\n')\n",
      "Failed to send compressed multipart ingest: langsmith.utils.LangSmithError: Failed to POST https://api.smith.langchain.com/runs/multipart in LangSmith API. HTTPError('403 Client Error: Forbidden for url: https://api.smith.langchain.com/runs/multipart', '{\"error\":\"Forbidden\"}\\n')\n",
      "Failed to send compressed multipart ingest: langsmith.utils.LangSmithError: Failed to POST https://api.smith.langchain.com/runs/multipart in LangSmith API. HTTPError('403 Client Error: Forbidden for url: https://api.smith.langchain.com/runs/multipart', '{\"error\":\"Forbidden\"}\\n')\n",
      "Failed to send compressed multipart ingest: langsmith.utils.LangSmithError: Failed to POST https://api.smith.langchain.com/runs/multipart in LangSmith API. HTTPError('403 Client Error: Forbidden for url: https://api.smith.langchain.com/runs/multipart', '{\"error\":\"Forbidden\"}\\n')\n",
      "Failed to send compressed multipart ingest: langsmith.utils.LangSmithError: Failed to POST https://api.smith.langchain.com/runs/multipart in LangSmith API. HTTPError('403 Client Error: Forbidden for url: https://api.smith.langchain.com/runs/multipart', '{\"error\":\"Forbidden\"}\\n')\n",
      "Failed to send compressed multipart ingest: langsmith.utils.LangSmithError: Failed to POST https://api.smith.langchain.com/runs/multipart in LangSmith API. HTTPError('403 Client Error: Forbidden for url: https://api.smith.langchain.com/runs/multipart', '{\"error\":\"Forbidden\"}\\n')\n",
      "Failed to send compressed multipart ingest: langsmith.utils.LangSmithError: Failed to POST https://api.smith.langchain.com/runs/multipart in LangSmith API. HTTPError('403 Client Error: Forbidden for url: https://api.smith.langchain.com/runs/multipart', '{\"error\":\"Forbidden\"}\\n')\n",
      "Failed to send compressed multipart ingest: langsmith.utils.LangSmithError: Failed to POST https://api.smith.langchain.com/runs/multipart in LangSmith API. HTTPError('403 Client Error: Forbidden for url: https://api.smith.langchain.com/runs/multipart', '{\"error\":\"Forbidden\"}\\n')\n",
      "Failed to send compressed multipart ingest: langsmith.utils.LangSmithError: Failed to POST https://api.smith.langchain.com/runs/multipart in LangSmith API. HTTPError('403 Client Error: Forbidden for url: https://api.smith.langchain.com/runs/multipart', '{\"error\":\"Forbidden\"}\\n')\n",
      "Failed to send compressed multipart ingest: langsmith.utils.LangSmithError: Failed to POST https://api.smith.langchain.com/runs/multipart in LangSmith API. HTTPError('403 Client Error: Forbidden for url: https://api.smith.langchain.com/runs/multipart', '{\"error\":\"Forbidden\"}\\n')\n",
      "Failed to send compressed multipart ingest: langsmith.utils.LangSmithError: Failed to POST https://api.smith.langchain.com/runs/multipart in LangSmith API. HTTPError('403 Client Error: Forbidden for url: https://api.smith.langchain.com/runs/multipart', '{\"error\":\"Forbidden\"}\\n')\n",
      "Failed to send compressed multipart ingest: langsmith.utils.LangSmithError: Failed to POST https://api.smith.langchain.com/runs/multipart in LangSmith API. HTTPError('403 Client Error: Forbidden for url: https://api.smith.langchain.com/runs/multipart', '{\"error\":\"Forbidden\"}\\n')\n",
      "Failed to send compressed multipart ingest: langsmith.utils.LangSmithError: Failed to POST https://api.smith.langchain.com/runs/multipart in LangSmith API. HTTPError('403 Client Error: Forbidden for url: https://api.smith.langchain.com/runs/multipart', '{\"error\":\"Forbidden\"}\\n')\n",
      "Failed to send compressed multipart ingest: langsmith.utils.LangSmithError: Failed to POST https://api.smith.langchain.com/runs/multipart in LangSmith API. HTTPError('403 Client Error: Forbidden for url: https://api.smith.langchain.com/runs/multipart', '{\"error\":\"Forbidden\"}\\n')\n",
      "Failed to send compressed multipart ingest: langsmith.utils.LangSmithError: Failed to POST https://api.smith.langchain.com/runs/multipart in LangSmith API. HTTPError('403 Client Error: Forbidden for url: https://api.smith.langchain.com/runs/multipart', '{\"error\":\"Forbidden\"}\\n')\n",
      "Failed to send compressed multipart ingest: langsmith.utils.LangSmithError: Failed to POST https://api.smith.langchain.com/runs/multipart in LangSmith API. HTTPError('403 Client Error: Forbidden for url: https://api.smith.langchain.com/runs/multipart', '{\"error\":\"Forbidden\"}\\n')\n",
      "Failed to send compressed multipart ingest: langsmith.utils.LangSmithError: Failed to POST https://api.smith.langchain.com/runs/multipart in LangSmith API. HTTPError('403 Client Error: Forbidden for url: https://api.smith.langchain.com/runs/multipart', '{\"error\":\"Forbidden\"}\\n')\n",
      "Failed to send compressed multipart ingest: langsmith.utils.LangSmithError: Failed to POST https://api.smith.langchain.com/runs/multipart in LangSmith API. HTTPError('403 Client Error: Forbidden for url: https://api.smith.langchain.com/runs/multipart', '{\"error\":\"Forbidden\"}\\n')\n"
     ]
    }
   ],
   "execution_count": 7
  },
  {
   "cell_type": "code",
   "id": "2f81ad23-5656-43e6-b50a-0d7a4f69a60a",
   "metadata": {
    "ExecuteTime": {
     "end_time": "2025-10-31T18:21:33.187993Z",
     "start_time": "2025-10-31T18:21:33.170158Z"
    }
   },
   "source": [
    "# Get state and look at next node\n",
    "state = graph.get_state(thread)\n",
    "state.next"
   ],
   "outputs": [
    {
     "data": {
      "text/plain": [
       "('human_feedback',)"
      ]
     },
     "execution_count": 8,
     "metadata": {},
     "output_type": "execute_result"
    }
   ],
   "execution_count": 8
  },
  {
   "cell_type": "code",
   "id": "72b2a402-fd10-4f26-9a32-3e3c0d4aaf76",
   "metadata": {
    "ExecuteTime": {
     "end_time": "2025-10-31T18:21:33.216328Z",
     "start_time": "2025-10-31T18:21:33.192571Z"
    }
   },
   "source": [
    "# We now update the state as if we are the human_feedback node\n",
    "graph.update_state(thread, {\"human_analyst_feedback\": \n",
    "                            \"Add in someone from a startup to add an entrepreneur perspective\"}, as_node=\"human_feedback\")"
   ],
   "outputs": [
    {
     "data": {
      "text/plain": [
       "{'configurable': {'thread_id': '1',\n",
       "  'checkpoint_ns': '',\n",
       "  'checkpoint_id': '1f0b6866-dc6d-6708-8002-7ac8187adf4e'}}"
      ]
     },
     "execution_count": 9,
     "metadata": {},
     "output_type": "execute_result"
    }
   ],
   "execution_count": 9
  },
  {
   "cell_type": "code",
   "id": "b8816eb9-9906-441b-b552-be71107db14f",
   "metadata": {
    "ExecuteTime": {
     "end_time": "2025-10-31T18:21:40.237896Z",
     "start_time": "2025-10-31T18:21:33.222147Z"
    }
   },
   "source": [
    "# Continue the graph execution\n",
    "for event in graph.stream(None, thread, stream_mode=\"values\"):\n",
    "    # Review\n",
    "    analysts = event.get('analysts', '')\n",
    "    if analysts:\n",
    "        for analyst in analysts:\n",
    "            print(f\"Name: {analyst.name}\")\n",
    "            print(f\"Affiliation: {analyst.affiliation}\")\n",
    "            print(f\"Role: {analyst.role}\")\n",
    "            print(f\"Description: {analyst.description}\")\n",
    "            print(\"-\" * 50) "
   ],
   "outputs": [
    {
     "name": "stdout",
     "output_type": "stream",
     "text": [
      "Name: Dr. Emily Carter\n",
      "Affiliation: Tech Innovators Inc.\n",
      "Role: Technology Adoption Specialist\n",
      "Description: Dr. Carter focuses on the strategic benefits of adopting new technologies like LangGraph. She is particularly interested in how LangGraph can streamline processes, improve efficiency, and provide a competitive edge to organizations. Her analysis often includes case studies and data-driven insights to support the adoption of innovative frameworks.\n",
      "--------------------------------------------------\n",
      "Name: Mr. Raj Patel\n",
      "Affiliation: Data Security Solutions\n",
      "Role: Cybersecurity Analyst\n",
      "Description: Mr. Patel is concerned with the security implications of adopting new frameworks such as LangGraph. His focus is on evaluating the security features of LangGraph, assessing potential vulnerabilities, and ensuring that the framework meets industry standards for data protection and privacy. He provides recommendations for secure implementation practices.\n",
      "--------------------------------------------------\n",
      "Name: Dr. Lisa Nguyen\n",
      "Affiliation: AI Ethics Consortium\n",
      "Role: Ethical AI Researcher\n",
      "Description: Dr. Nguyen examines the ethical considerations of using agent frameworks like LangGraph. Her work involves analyzing the impact of LangGraph on decision-making processes, transparency, and accountability in AI systems. She advocates for ethical guidelines and policies to ensure responsible use of such technologies.\n",
      "--------------------------------------------------\n",
      "Name: Alex Johnson\n",
      "Affiliation: Tech Innovators Inc.\n",
      "Role: Startup Entrepreneur\n",
      "Description: Alex is a startup founder who is keen on leveraging cutting-edge technologies to gain a competitive edge. His focus is on how adopting LangGraph can streamline operations, reduce costs, and enhance product offerings. He is particularly interested in the scalability and flexibility of LangGraph as a framework that can adapt to the fast-paced changes in the startup ecosystem.\n",
      "--------------------------------------------------\n",
      "Name: Dr. Emily Carter\n",
      "Affiliation: Global Tech Solutions\n",
      "Role: AI Research Scientist\n",
      "Description: Dr. Carter is an AI research scientist with a focus on agent-based modeling and frameworks. Her interest in LangGraph lies in its potential to advance AI research by providing a robust and flexible framework for developing intelligent agents. She is concerned with the technical capabilities of LangGraph, such as its support for complex interactions and ease of integration with existing AI systems.\n",
      "--------------------------------------------------\n",
      "Name: Michael Lee\n",
      "Affiliation: Enterprise IT Consulting\n",
      "Role: Enterprise IT Consultant\n",
      "Description: Michael is an IT consultant specializing in enterprise solutions. He is interested in how LangGraph can be integrated into large-scale IT infrastructures to improve efficiency and collaboration. His focus is on the practical benefits of LangGraph, such as its ability to facilitate communication between different systems and its impact on reducing operational bottlenecks in enterprise environments.\n",
      "--------------------------------------------------\n"
     ]
    }
   ],
   "execution_count": 10
  },
  {
   "cell_type": "code",
   "id": "a43ac322-5926-4932-8653-68206fec0d2c",
   "metadata": {
    "ExecuteTime": {
     "end_time": "2025-10-31T18:21:40.356717Z",
     "start_time": "2025-10-31T18:21:40.341647Z"
    }
   },
   "source": [
    "# If we are satisfied, then we simply supply no feedback\n",
    "further_feedack = None\n",
    "graph.update_state(thread, {\"human_analyst_feedback\": \n",
    "                            further_feedack}, as_node=\"human_feedback\")"
   ],
   "outputs": [
    {
     "data": {
      "text/plain": [
       "{'configurable': {'thread_id': '1',\n",
       "  'checkpoint_ns': '',\n",
       "  'checkpoint_id': '1f0b6867-206f-639d-8004-30e8b4f48dc0'}}"
      ]
     },
     "execution_count": 11,
     "metadata": {},
     "output_type": "execute_result"
    }
   ],
   "execution_count": 11
  },
  {
   "cell_type": "code",
   "id": "ab034e65-aeee-4723-8d6d-74541b548425",
   "metadata": {
    "ExecuteTime": {
     "end_time": "2025-10-31T18:21:40.376157Z",
     "start_time": "2025-10-31T18:21:40.356717Z"
    }
   },
   "source": [
    "# Continue the graph execution to end\n",
    "for event in graph.stream(None, thread, stream_mode=\"updates\"):\n",
    "    print(\"--Node--\")\n",
    "    node_name = next(iter(event.keys()))\n",
    "    print(node_name)"
   ],
   "outputs": [],
   "execution_count": 12
  },
  {
   "cell_type": "code",
   "id": "2f204e8a-285c-4e46-8223-a695caec7764",
   "metadata": {
    "ExecuteTime": {
     "end_time": "2025-10-31T18:21:40.391562Z",
     "start_time": "2025-10-31T18:21:40.378666Z"
    }
   },
   "source": [
    "final_state = graph.get_state(thread)\n",
    "analysts = final_state.values.get('analysts')"
   ],
   "outputs": [],
   "execution_count": 13
  },
  {
   "cell_type": "code",
   "id": "59704086-cb3b-42e9-8395-37be6f0d44e9",
   "metadata": {
    "ExecuteTime": {
     "end_time": "2025-10-31T18:21:40.418497Z",
     "start_time": "2025-10-31T18:21:40.391562Z"
    }
   },
   "source": [
    "final_state.next"
   ],
   "outputs": [
    {
     "data": {
      "text/plain": [
       "()"
      ]
     },
     "execution_count": 14,
     "metadata": {},
     "output_type": "execute_result"
    }
   ],
   "execution_count": 14
  },
  {
   "cell_type": "code",
   "id": "95717ba3-aa00-48d6-bbb7-5fe4db5919bf",
   "metadata": {
    "ExecuteTime": {
     "end_time": "2025-10-31T18:21:40.454028Z",
     "start_time": "2025-10-31T18:21:40.444191Z"
    }
   },
   "source": [
    "for analyst in analysts:\n",
    "    print(f\"Name: {analyst.name}\")\n",
    "    print(f\"Affiliation: {analyst.affiliation}\")\n",
    "    print(f\"Role: {analyst.role}\")\n",
    "    print(f\"Description: {analyst.description}\")\n",
    "    print(\"-\" * 50) "
   ],
   "outputs": [
    {
     "name": "stdout",
     "output_type": "stream",
     "text": [
      "Name: Alex Johnson\n",
      "Affiliation: Tech Innovators Inc.\n",
      "Role: Startup Entrepreneur\n",
      "Description: Alex is a startup founder who is keen on leveraging cutting-edge technologies to gain a competitive edge. His focus is on how adopting LangGraph can streamline operations, reduce costs, and enhance product offerings. He is particularly interested in the scalability and flexibility of LangGraph as a framework that can adapt to the fast-paced changes in the startup ecosystem.\n",
      "--------------------------------------------------\n",
      "Name: Dr. Emily Carter\n",
      "Affiliation: Global Tech Solutions\n",
      "Role: AI Research Scientist\n",
      "Description: Dr. Carter is an AI research scientist with a focus on agent-based modeling and frameworks. Her interest in LangGraph lies in its potential to advance AI research by providing a robust and flexible framework for developing intelligent agents. She is concerned with the technical capabilities of LangGraph, such as its support for complex interactions and ease of integration with existing AI systems.\n",
      "--------------------------------------------------\n",
      "Name: Michael Lee\n",
      "Affiliation: Enterprise IT Consulting\n",
      "Role: Enterprise IT Consultant\n",
      "Description: Michael is an IT consultant specializing in enterprise solutions. He is interested in how LangGraph can be integrated into large-scale IT infrastructures to improve efficiency and collaboration. His focus is on the practical benefits of LangGraph, such as its ability to facilitate communication between different systems and its impact on reducing operational bottlenecks in enterprise environments.\n",
      "--------------------------------------------------\n"
     ]
    }
   ],
   "execution_count": 15
  },
  {
   "cell_type": "markdown",
   "id": "7d2498e4-20ae-4503-9dd0-a4165132b7a7",
   "metadata": {},
   "source": [
    "## Conduct Interview\n",
    "\n",
    "### Generate Question\n",
    "\n",
    "The analyst will ask questions to the expert."
   ]
  },
  {
   "cell_type": "code",
   "id": "e5d5f559-f42e-442b-87cd-dbf0a91abf9c",
   "metadata": {
    "ExecuteTime": {
     "end_time": "2025-10-31T18:21:40.497727Z",
     "start_time": "2025-10-31T18:21:40.454028Z"
    }
   },
   "source": [
    "import operator\n",
    "from typing import  Annotated\n",
    "from langgraph.graph import MessagesState\n",
    "\n",
    "class InterviewState(MessagesState):\n",
    "    max_num_turns: int # Number turns of conversation\n",
    "    context: Annotated[list, operator.add] # Source docs\n",
    "    analyst: Analyst # Analyst asking questions\n",
    "    interview: str # Interview transcript\n",
    "    sections: list # Final key we duplicate in outer state for Send() API\n",
    "\n",
    "class SearchQuery(BaseModel):\n",
    "    search_query: str = Field(None, description=\"Search query for retrieval.\")"
   ],
   "outputs": [],
   "execution_count": 16
  },
  {
   "cell_type": "code",
   "id": "1c2e71eb-07ad-4bea-aabc-dbaf551408c0",
   "metadata": {
    "ExecuteTime": {
     "end_time": "2025-10-31T18:21:40.521361Z",
     "start_time": "2025-10-31T18:21:40.505741Z"
    }
   },
   "source": [
    "question_instructions = \"\"\"You are an analyst tasked with interviewing an expert to learn about a specific topic. \n",
    "\n",
    "Your goal is boil down to interesting and specific insights related to your topic.\n",
    "\n",
    "1. Interesting: Insights that people will find surprising or non-obvious.\n",
    "        \n",
    "2. Specific: Insights that avoid generalities and include specific examples from the expert.\n",
    "\n",
    "Here is your topic of focus and set of goals: {goals}\n",
    "        \n",
    "Begin by introducing yourself using a name that fits your persona, and then ask your question.\n",
    "\n",
    "Continue to ask questions to drill down and refine your understanding of the topic.\n",
    "        \n",
    "When you are satisfied with your understanding, complete the interview with: \"Thank you so much for your help!\"\n",
    "\n",
    "Remember to stay in character throughout your response, reflecting the persona and goals provided to you.\"\"\"\n",
    "\n",
    "def generate_question(state: InterviewState):\n",
    "    \"\"\" Node to generate a question \"\"\"\n",
    "\n",
    "    # Get state\n",
    "    analyst = state[\"analyst\"]\n",
    "    messages = state[\"messages\"]\n",
    "\n",
    "    # Generate question \n",
    "    system_message = question_instructions.format(goals=analyst.persona)\n",
    "    question = llm.invoke([SystemMessage(content=system_message)]+messages)\n",
    "        \n",
    "    # Write messages to state\n",
    "    return {\"messages\": [question]}"
   ],
   "outputs": [],
   "execution_count": 17
  },
  {
   "cell_type": "markdown",
   "id": "be2ff33a-6232-4a79-8a82-882a645394f5",
   "metadata": {},
   "source": [
    "### Generate Answer: Parallelization\n",
    "\n",
    "The expert will gather information from multiple sources in parallel to answer questions.\n",
    "\n",
    "For example, we can use:\n",
    "\n",
    "* Specific web sites e.g., via [`WebBaseLoader`](https://python.langchain.com/v0.2/docs/integrations/document_loaders/web_base/)\n",
    "* Indexed documents e.g., via [RAG](https://python.langchain.com/v0.2/docs/tutorials/rag/)\n",
    "* Web search\n",
    "* Wikipedia search\n",
    "\n",
    "You can try different web search tools, like [Tavily](https://tavily.com/)."
   ]
  },
  {
   "cell_type": "code",
   "id": "606ea95b-e811-4299-8b66-835d4016c338",
   "metadata": {
    "ExecuteTime": {
     "end_time": "2025-10-31T18:22:03.231163Z",
     "start_time": "2025-10-31T18:21:40.527599Z"
    }
   },
   "source": [
    "def _set_env(var: str):\n",
    "    if not os.environ.get(var):\n",
    "        os.environ[var] = getpass.getpass(f\"{var}: \")\n",
    "\n",
    "_set_env(\"TAVILY_API_KEY\")"
   ],
   "outputs": [],
   "execution_count": 18
  },
  {
   "cell_type": "code",
   "id": "c61ae74a-f838-4e97-8bd5-48ccd15b7789",
   "metadata": {
    "ExecuteTime": {
     "end_time": "2025-10-31T18:22:04.540553Z",
     "start_time": "2025-10-31T18:22:03.246001Z"
    }
   },
   "source": [
    "# Web search tool\n",
    "from langchain_community.tools.tavily_search import TavilySearchResults\n",
    "tavily_search = TavilySearchResults(max_results=3)"
   ],
   "outputs": [
    {
     "name": "stderr",
     "output_type": "stream",
     "text": [
      "C:\\Users\\ADMIN\\AppData\\Local\\Temp\\ipykernel_18568\\2675700386.py:3: LangChainDeprecationWarning: The class `TavilySearchResults` was deprecated in LangChain 0.3.25 and will be removed in 1.0. An updated version of the class exists in the `langchain-tavily package and should be used instead. To use it run `pip install -U `langchain-tavily` and import as `from `langchain_tavily import TavilySearch``.\n",
      "  tavily_search = TavilySearchResults(max_results=3)\n"
     ]
    }
   ],
   "execution_count": 19
  },
  {
   "cell_type": "code",
   "id": "2d8f760b-5a1a-4fa9-a014-d3fb02bec51c",
   "metadata": {
    "ExecuteTime": {
     "end_time": "2025-10-31T18:22:05.273703Z",
     "start_time": "2025-10-31T18:22:04.562784Z"
    }
   },
   "source": [
    "# Wikipedia search tool\n",
    "from langchain_community.document_loaders import WikipediaLoader"
   ],
   "outputs": [],
   "execution_count": 20
  },
  {
   "cell_type": "markdown",
   "id": "06cb1603",
   "metadata": {},
   "source": [
    "Now, we create nodes to search the web and wikipedia.\n",
    "\n",
    "We'll also create a node to answer analyst questions.\n",
    "\n",
    "Finally, we'll create nodes to save the full interview and to write a summary (\"section\") of the interview."
   ]
  },
  {
   "cell_type": "code",
   "id": "9c863768-2278-415b-aef1-96fd18c1b1cb",
   "metadata": {
    "ExecuteTime": {
     "end_time": "2025-10-31T18:22:05.877134Z",
     "start_time": "2025-10-31T18:22:05.322712Z"
    }
   },
   "source": [
    "from langchain_core.messages import get_buffer_string\n",
    "\n",
    "# Search query writing\n",
    "search_instructions = SystemMessage(content=f\"\"\"You will be given a conversation between an analyst and an expert. \n",
    "\n",
    "Your goal is to generate a well-structured query for use in retrieval and / or web-search related to the conversation.\n",
    "        \n",
    "First, analyze the full conversation.\n",
    "\n",
    "Pay particular attention to the final question posed by the analyst.\n",
    "\n",
    "Convert this final question into a well-structured web search query\"\"\")\n",
    "\n",
    "def search_web(state: InterviewState):\n",
    "    \n",
    "    \"\"\" Retrieve docs from web search \"\"\"\n",
    "\n",
    "    # Search query\n",
    "    structured_llm = llm.with_structured_output(SearchQuery)\n",
    "    search_query = structured_llm.invoke([search_instructions]+state['messages'])\n",
    "    \n",
    "    # Search\n",
    "    search_docs = tavily_search.invoke(search_query.search_query)\n",
    "\n",
    "     # Format\n",
    "    formatted_search_docs = \"\\n\\n---\\n\\n\".join(\n",
    "        [\n",
    "            f'<Document href=\"{doc[\"url\"]}\"/>\\n{doc[\"content\"]}\\n</Document>'\n",
    "            for doc in search_docs\n",
    "        ]\n",
    "    )\n",
    "\n",
    "    return {\"context\": [formatted_search_docs]} \n",
    "\n",
    "def search_wikipedia(state: InterviewState):\n",
    "    \n",
    "    \"\"\" Retrieve docs from wikipedia \"\"\"\n",
    "\n",
    "    # Search query\n",
    "    structured_llm = llm.with_structured_output(SearchQuery)\n",
    "    search_query = structured_llm.invoke([search_instructions]+state['messages'])\n",
    "    \n",
    "    # Search\n",
    "    search_docs = WikipediaLoader(query=search_query.search_query, \n",
    "                                  load_max_docs=2).load()\n",
    "\n",
    "     # Format\n",
    "    formatted_search_docs = \"\\n\\n---\\n\\n\".join(\n",
    "        [\n",
    "            f'<Document source=\"{doc.metadata[\"source\"]}\" page=\"{doc.metadata.get(\"page\", \"\")}\"/>\\n{doc.page_content}\\n</Document>'\n",
    "            for doc in search_docs\n",
    "        ]\n",
    "    )\n",
    "\n",
    "    return {\"context\": [formatted_search_docs]} \n",
    "\n",
    "answer_instructions = \"\"\"You are an expert being interviewed by an analyst.\n",
    "\n",
    "Here is analyst area of focus: {goals}. \n",
    "        \n",
    "You goal is to answer a question posed by the interviewer.\n",
    "\n",
    "To answer question, use this context:\n",
    "        \n",
    "{context}\n",
    "\n",
    "When answering questions, follow these guidelines:\n",
    "        \n",
    "1. Use only the information provided in the context. \n",
    "        \n",
    "2. Do not introduce external information or make assumptions beyond what is explicitly stated in the context.\n",
    "\n",
    "3. The context contain sources at the topic of each individual document.\n",
    "\n",
    "4. Include these sources your answer next to any relevant statements. For example, for source # 1 use [1]. \n",
    "\n",
    "5. List your sources in order at the bottom of your answer. [1] Source 1, [2] Source 2, etc\n",
    "        \n",
    "6. If the source is: <Document source=\"assistant/docs/llama3_1.pdf\" page=\"7\"/>' then just list: \n",
    "        \n",
    "[1] assistant/docs/llama3_1.pdf, page 7 \n",
    "        \n",
    "And skip the addition of the brackets as well as the Document source preamble in your citation.\"\"\"\n",
    "\n",
    "def generate_answer(state: InterviewState):\n",
    "    \n",
    "    \"\"\" Node to answer a question \"\"\"\n",
    "\n",
    "    # Get state\n",
    "    analyst = state[\"analyst\"]\n",
    "    messages = state[\"messages\"]\n",
    "    context = state[\"context\"]\n",
    "\n",
    "    # Answer question\n",
    "    system_message = answer_instructions.format(goals=analyst.persona, context=context)\n",
    "    answer = llm.invoke([SystemMessage(content=system_message)]+messages)\n",
    "            \n",
    "    # Name the message as coming from the expert\n",
    "    answer.name = \"expert\"\n",
    "    \n",
    "    # Append it to state\n",
    "    return {\"messages\": [answer]}\n",
    "\n",
    "def save_interview(state: InterviewState):\n",
    "    \n",
    "    \"\"\" Save interviews \"\"\"\n",
    "\n",
    "    # Get messages\n",
    "    messages = state[\"messages\"]\n",
    "    \n",
    "    # Convert interview to a string\n",
    "    interview = get_buffer_string(messages)\n",
    "    \n",
    "    # Save to interviews key\n",
    "    return {\"interview\": interview}\n",
    "\n",
    "def route_messages(state: InterviewState, \n",
    "                   name: str = \"expert\"):\n",
    "\n",
    "    \"\"\" Route between question and answer \"\"\"\n",
    "    \n",
    "    # Get messages\n",
    "    messages = state[\"messages\"]\n",
    "    max_num_turns = state.get('max_num_turns',2)\n",
    "\n",
    "    # Check the number of expert answers \n",
    "    num_responses = len(\n",
    "        [m for m in messages if isinstance(m, AIMessage) and m.name == name]\n",
    "    )\n",
    "\n",
    "    # End if expert has answered more than the max turns\n",
    "    if num_responses >= max_num_turns:\n",
    "        return 'save_interview'\n",
    "\n",
    "    # This router is run after each question - answer pair \n",
    "    # Get the last question asked to check if it signals the end of discussion\n",
    "    last_question = messages[-2]\n",
    "    \n",
    "    if \"Thank you so much for your help\" in last_question.content:\n",
    "        return 'save_interview'\n",
    "    return \"ask_question\"\n",
    "\n",
    "section_writer_instructions = \"\"\"You are an expert technical writer. \n",
    "            \n",
    "Your task is to create a short, easily digestible section of a report based on a set of source documents.\n",
    "\n",
    "1. Analyze the content of the source documents: \n",
    "- The name of each source document is at the start of the document, with the <Document tag.\n",
    "        \n",
    "2. Create a report structure using markdown formatting:\n",
    "- Use ## for the section title\n",
    "- Use ### for sub-section headers\n",
    "        \n",
    "3. Write the report following this structure:\n",
    "a. Title (## header)\n",
    "b. Summary (### header)\n",
    "c. Sources (### header)\n",
    "\n",
    "4. Make your title engaging based upon the focus area of the analyst: \n",
    "{focus}\n",
    "\n",
    "5. For the summary section:\n",
    "- Set up summary with general background / context related to the focus area of the analyst\n",
    "- Emphasize what is novel, interesting, or surprising about insights gathered from the interview\n",
    "- Create a numbered list of source documents, as you use them\n",
    "- Do not mention the names of interviewers or experts\n",
    "- Aim for approximately 400 words maximum\n",
    "- Use numbered sources in your report (e.g., [1], [2]) based on information from source documents\n",
    "        \n",
    "6. In the Sources section:\n",
    "- Include all sources used in your report\n",
    "- Provide full links to relevant websites or specific document paths\n",
    "- Separate each source by a newline. Use two spaces at the end of each line to create a newline in Markdown.\n",
    "- It will look like:\n",
    "\n",
    "### Sources\n",
    "[1] Link or Document name\n",
    "[2] Link or Document name\n",
    "\n",
    "7. Be sure to combine sources. For example this is not correct:\n",
    "\n",
    "[3] https://ai.meta.com/blog/meta-llama-3-1/\n",
    "[4] https://ai.meta.com/blog/meta-llama-3-1/\n",
    "\n",
    "There should be no redundant sources. It should simply be:\n",
    "\n",
    "[3] https://ai.meta.com/blog/meta-llama-3-1/\n",
    "        \n",
    "8. Final review:\n",
    "- Ensure the report follows the required structure\n",
    "- Include no preamble before the title of the report\n",
    "- Check that all guidelines have been followed\"\"\"\n",
    "\n",
    "def write_section(state: InterviewState):\n",
    "\n",
    "    \"\"\" Node to answer a question \"\"\"\n",
    "\n",
    "    # Get state\n",
    "    interview = state[\"interview\"]\n",
    "    context = state[\"context\"]\n",
    "    analyst = state[\"analyst\"]\n",
    "   \n",
    "    # Write section using either the gathered source docs from interview (context) or the interview itself (interview)\n",
    "    system_message = section_writer_instructions.format(focus=analyst.description)\n",
    "    section = llm.invoke([SystemMessage(content=system_message)]+[HumanMessage(content=f\"Use this source to write your section: {context}\")]) \n",
    "                \n",
    "    # Append it to state\n",
    "    return {\"sections\": [section.content]}\n",
    "\n",
    "# Add nodes and edges \n",
    "interview_builder = StateGraph(InterviewState)\n",
    "interview_builder.add_node(\"ask_question\", generate_question)\n",
    "interview_builder.add_node(\"search_web\", search_web)\n",
    "interview_builder.add_node(\"search_wikipedia\", search_wikipedia)\n",
    "interview_builder.add_node(\"answer_question\", generate_answer)\n",
    "interview_builder.add_node(\"save_interview\", save_interview)\n",
    "interview_builder.add_node(\"write_section\", write_section)\n",
    "\n",
    "# Flow\n",
    "interview_builder.add_edge(START, \"ask_question\")\n",
    "interview_builder.add_edge(\"ask_question\", \"search_web\")\n",
    "interview_builder.add_edge(\"ask_question\", \"search_wikipedia\")\n",
    "interview_builder.add_edge(\"search_web\", \"answer_question\")\n",
    "interview_builder.add_edge(\"search_wikipedia\", \"answer_question\")\n",
    "interview_builder.add_conditional_edges(\"answer_question\", route_messages,['ask_question','save_interview'])\n",
    "interview_builder.add_edge(\"save_interview\", \"write_section\")\n",
    "interview_builder.add_edge(\"write_section\", END)\n",
    "\n",
    "# Interview \n",
    "memory = MemorySaver()\n",
    "interview_graph = interview_builder.compile(checkpointer=memory).with_config(run_name=\"Conduct Interviews\")\n",
    "\n",
    "# View\n",
    "display(Image(interview_graph.get_graph().draw_mermaid_png()))"
   ],
   "outputs": [
    {
     "data": {
      "image/png": "[encoded data removed]",
      "text/plain": [
       "<IPython.core.display.Image object>"
      ]
     },
     "metadata": {},
     "output_type": "display_data",
     "jetTransient": {
      "display_id": null
     }
    }
   ],
   "execution_count": 21
  },
  {
   "cell_type": "code",
   "id": "50f382f1-6e93-48d0-a44a-1094d26ccb1e",
   "metadata": {
    "ExecuteTime": {
     "end_time": "2025-10-31T18:22:05.896233Z",
     "start_time": "2025-10-31T18:22:05.890389Z"
    }
   },
   "source": [
    "# Pick one analyst\n",
    "analysts[0]"
   ],
   "outputs": [
    {
     "data": {
      "text/plain": [
       "Analyst(affiliation='Tech Innovators Inc.', name='Alex Johnson', role='Startup Entrepreneur', description='Alex is a startup founder who is keen on leveraging cutting-edge technologies to gain a competitive edge. His focus is on how adopting LangGraph can streamline operations, reduce costs, and enhance product offerings. He is particularly interested in the scalability and flexibility of LangGraph as a framework that can adapt to the fast-paced changes in the startup ecosystem.')"
      ]
     },
     "execution_count": 22,
     "metadata": {},
     "output_type": "execute_result"
    }
   ],
   "execution_count": 22
  },
  {
   "cell_type": "markdown",
   "id": "3750ac4f-f458-4b2d-8bad-32ce34895758",
   "metadata": {},
   "source": [
    "Here, we run the interview passing an index of the llama3.1 paper, which is related to our topic."
   ]
  },
  {
   "cell_type": "code",
   "id": "b2242d4e-8430-4de9-8cf7-3ad2f9a22b28",
   "metadata": {
    "ExecuteTime": {
     "end_time": "2025-10-31T18:22:56.649420Z",
     "start_time": "2025-10-31T18:22:05.908632Z"
    }
   },
   "source": [
    "from IPython.display import Markdown\n",
    "messages = [HumanMessage(f\"So you said you were writing an article on {topic}?\")]\n",
    "thread = {\"configurable\": {\"thread_id\": \"1\"}}\n",
    "interview = interview_graph.invoke({\"analyst\": analysts[0], \"messages\": messages, \"max_num_turns\": 2}, thread)\n",
    "Markdown(interview['sections'][0])"
   ],
   "outputs": [
    {
     "data": {
      "text/plain": [
       "<IPython.core.display.Markdown object>"
      ],
      "text/markdown": "## Leveraging LangGraph for Startup Success: Streamlining Operations and Enhancing Product Offerings\n\n### Summary\n\nIn the fast-paced startup ecosystem, leveraging cutting-edge technologies is crucial for gaining a competitive edge. LangGraph, a powerful multi-agent framework, offers a promising solution for startups looking to streamline operations, reduce costs, and enhance product offerings. This report explores the scalability and flexibility of LangGraph, highlighting its potential to adapt to the dynamic needs of startups.\n\nLangGraph provides a set of prebuilt components that simplify the development of agentic systems, allowing startups to focus on application logic rather than infrastructure [1]. This framework supports both declarative and imperative programming styles, offering flexibility in how agents are developed and managed [2]. The ability to control agent interactions precisely, with workflows that can pause for decisions or inputs, mirrors the dynamics of human teams and enhances efficiency [3].\n\nOne of the standout features of LangGraph is its scalability. It enables the creation of complex, stateful applications using large language models (LLMs), making it ideal for startups aiming to build intelligent solutions [4]. Companies like Uber and Replit have already demonstrated LangGraph's potential by automating unit test generation and powering real-time code generation, respectively, showcasing its ability to reduce development time and improve code quality [5].\n\nLangGraph's modular approach allows for the design of flexible and coordinated workflows, which is particularly beneficial for startups that need to pivot quickly in response to market changes [6]. The framework's support for multi-agent orchestration patterns and expert prompt engineering accelerates productivity, making it a valuable asset for data science and machine learning teams [7].\n\nMoreover, LangGraph's human-on-the-loop feature provides built-in support for inspecting and modifying agent trajectories, ensuring that startups can maintain control over their AI systems and adapt them as needed [2]. This capability is crucial for startups that require agile and responsive AI solutions.\n\nIn summary, LangGraph offers a robust framework for startups to build scalable, flexible, and efficient AI-driven solutions. Its ability to streamline operations, reduce costs, and enhance product offerings makes it an attractive option for startup founders like Alex, who are keen on leveraging cutting-edge technologies to gain a competitive edge.\n\n### Sources\n[1] https://langchain-ai.github.io/langgraph/agents/overview/  \n[2] https://blog.langchain.com/how-to-think-about-agent-frameworks/  \n[3] https://www.scalablepath.com/machine-learning/langgraph  \n[4] https://www.linkedin.com/pulse/what-langgraph-how-useful-building-llm-based-sarfraz-nawaz-walic  \n[5] https://www.projectpro.io/article/langgraph-projects-and-examples/1124  \n[6] https://www.codersarts.com/post/top-20-langgraph-trending-projects-assignments  \n[7] https://www.codersarts.com/post/top-20-langgraph-trending-projects-assignments  "
     },
     "execution_count": 23,
     "metadata": {},
     "output_type": "execute_result"
    }
   ],
   "execution_count": 23
  },
  {
   "cell_type": "markdown",
   "id": "3b739e87-68bb-4e96-a86a-704e84240a6c",
   "metadata": {},
   "source": [
    "### Parallelze interviews: Map-Reduce\n",
    "\n",
    "We parallelize the interviews via the `Send()` API, a map step.\n",
    "\n",
    "We combine them into the report body in a reduce step.\n",
    "\n",
    "### Finalize\n",
    "\n",
    "We add a final step to write an intro and conclusion to the final report."
   ]
  },
  {
   "cell_type": "code",
   "id": "6a0042f9-5b9f-441a-9e8d-7d8189f44140",
   "metadata": {
    "ExecuteTime": {
     "end_time": "2025-10-31T18:22:56.707320Z",
     "start_time": "2025-10-31T18:22:56.698964Z"
    }
   },
   "source": [
    "import operator\n",
    "from typing import List, Annotated\n",
    "from typing_extensions import TypedDict\n",
    "\n",
    "class ResearchGraphState(TypedDict):\n",
    "    topic: str # Research topic\n",
    "    max_analysts: int # Number of analysts\n",
    "    human_analyst_feedback: str # Human feedback\n",
    "    analysts: List[Analyst] # Analyst asking questions\n",
    "    sections: Annotated[list, operator.add] # Send() API key\n",
    "    introduction: str # Introduction for the final report\n",
    "    content: str # Content for the final report\n",
    "    conclusion: str # Conclusion for the final report\n",
    "    final_report: str # Final report"
   ],
   "outputs": [],
   "execution_count": 24
  },
  {
   "cell_type": "code",
   "id": "c2224592-d2ff-469d-97bd-928809f896d7",
   "metadata": {
    "ExecuteTime": {
     "end_time": "2025-10-31T18:22:57.586725Z",
     "start_time": "2025-10-31T18:22:56.940304Z"
    }
   },
   "source": [
    "from langgraph.constants import Send\n",
    "\n",
    "def initiate_all_interviews(state: ResearchGraphState):\n",
    "    \"\"\" This is the \"map\" step where we run each interview sub-graph using Send API \"\"\"    \n",
    "\n",
    "    # Check if human feedback\n",
    "    human_analyst_feedback=state.get('human_analyst_feedback')\n",
    "    if human_analyst_feedback:\n",
    "        # Return to create_analysts\n",
    "        return \"create_analysts\"\n",
    "\n",
    "    # Otherwise kick off interviews in parallel via Send() API\n",
    "    else:\n",
    "        topic = state[\"topic\"]\n",
    "        return [Send(\"conduct_interview\", {\"analyst\": analyst,\n",
    "                                           \"messages\": [HumanMessage(\n",
    "                                               content=f\"So you said you were writing an article on {topic}?\"\n",
    "                                           )\n",
    "                                                       ]}) for analyst in state[\"analysts\"]]\n",
    "\n",
    "report_writer_instructions = \"\"\"You are a technical writer creating a report on this overall topic: \n",
    "\n",
    "{topic}\n",
    "    \n",
    "You have a team of analysts. Each analyst has done two things: \n",
    "\n",
    "1. They conducted an interview with an expert on a specific sub-topic.\n",
    "2. They write up their finding into a memo.\n",
    "\n",
    "Your task: \n",
    "\n",
    "1. You will be given a collection of memos from your analysts.\n",
    "2. Think carefully about the insights from each memo.\n",
    "3. Consolidate these into a crisp overall summary that ties together the central ideas from all of the memos. \n",
    "4. Summarize the central points in each memo into a cohesive single narrative.\n",
    "\n",
    "To format your report:\n",
    " \n",
    "1. Use markdown formatting. \n",
    "2. Include no pre-amble for the report.\n",
    "3. Use no sub-heading. \n",
    "4. Start your report with a single title header: ## Insights\n",
    "5. Do not mention any analyst names in your report.\n",
    "6. Preserve any citations in the memos, which will be annotated in brackets, for example [1] or [2].\n",
    "7. Create a final, consolidated list of sources and add to a Sources section with the `## Sources` header.\n",
    "8. List your sources in order and do not repeat.\n",
    "\n",
    "[1] Source 1\n",
    "[2] Source 2\n",
    "\n",
    "Here are the memos from your analysts to build your report from: \n",
    "\n",
    "{context}\"\"\"\n",
    "\n",
    "def write_report(state: ResearchGraphState):\n",
    "    # Full set of sections\n",
    "    sections = state[\"sections\"]\n",
    "    topic = state[\"topic\"]\n",
    "\n",
    "    # Concat all sections together\n",
    "    formatted_str_sections = \"\\n\\n\".join([f\"{section}\" for section in sections])\n",
    "    \n",
    "    # Summarize the sections into a final report\n",
    "    system_message = report_writer_instructions.format(topic=topic, context=formatted_str_sections)    \n",
    "    report = llm.invoke([SystemMessage(content=system_message)]+[HumanMessage(content=f\"Write a report based upon these memos.\")]) \n",
    "    return {\"content\": report.content}\n",
    "\n",
    "intro_conclusion_instructions = \"\"\"You are a technical writer finishing a report on {topic}\n",
    "\n",
    "You will be given all of the sections of the report.\n",
    "\n",
    "You job is to write a crisp and compelling introduction or conclusion section.\n",
    "\n",
    "The user will instruct you whether to write the introduction or conclusion.\n",
    "\n",
    "Include no pre-amble for either section.\n",
    "\n",
    "Target around 100 words, crisply previewing (for introduction) or recapping (for conclusion) all of the sections of the report.\n",
    "\n",
    "Use markdown formatting. \n",
    "\n",
    "For your introduction, create a compelling title and use the # header for the title.\n",
    "\n",
    "For your introduction, use ## Introduction as the section header. \n",
    "\n",
    "For your conclusion, use ## Conclusion as the section header.\n",
    "\n",
    "Here are the sections to reflect on for writing: {formatted_str_sections}\"\"\"\n",
    "\n",
    "def write_introduction(state: ResearchGraphState):\n",
    "    # Full set of sections\n",
    "    sections = state[\"sections\"]\n",
    "    topic = state[\"topic\"]\n",
    "\n",
    "    # Concat all sections together\n",
    "    formatted_str_sections = \"\\n\\n\".join([f\"{section}\" for section in sections])\n",
    "    \n",
    "    # Summarize the sections into a final report\n",
    "    \n",
    "    instructions = intro_conclusion_instructions.format(topic=topic, formatted_str_sections=formatted_str_sections)    \n",
    "    intro = llm.invoke([instructions]+[HumanMessage(content=f\"Write the report introduction\")]) \n",
    "    return {\"introduction\": intro.content}\n",
    "\n",
    "def write_conclusion(state: ResearchGraphState):\n",
    "    # Full set of sections\n",
    "    sections = state[\"sections\"]\n",
    "    topic = state[\"topic\"]\n",
    "\n",
    "    # Concat all sections together\n",
    "    formatted_str_sections = \"\\n\\n\".join([f\"{section}\" for section in sections])\n",
    "    \n",
    "    # Summarize the sections into a final report\n",
    "    \n",
    "    instructions = intro_conclusion_instructions.format(topic=topic, formatted_str_sections=formatted_str_sections)    \n",
    "    conclusion = llm.invoke([instructions]+[HumanMessage(content=f\"Write the report conclusion\")]) \n",
    "    return {\"conclusion\": conclusion.content}\n",
    "\n",
    "def finalize_report(state: ResearchGraphState):\n",
    "    \"\"\" The is the \"reduce\" step where we gather all the sections, combine them, and reflect on them to write the intro/conclusion \"\"\"\n",
    "    # Save full final report\n",
    "    content = state[\"content\"]\n",
    "    if content.startswith(\"## Insights\"):\n",
    "        content = content.strip(\"## Insights\")\n",
    "    if \"## Sources\" in content:\n",
    "        try:\n",
    "            content, sources = content.split(\"\\n## Sources\\n\")\n",
    "        except:\n",
    "            sources = None\n",
    "    else:\n",
    "        sources = None\n",
    "\n",
    "    final_report = state[\"introduction\"] + \"\\n\\n---\\n\\n\" + content + \"\\n\\n---\\n\\n\" + state[\"conclusion\"]\n",
    "    if sources is not None:\n",
    "        final_report += \"\\n\\n## Sources\\n\" + sources\n",
    "    return {\"final_report\": final_report}\n",
    "\n",
    "# Add nodes and edges \n",
    "builder = StateGraph(ResearchGraphState)\n",
    "builder.add_node(\"create_analysts\", create_analysts)\n",
    "builder.add_node(\"human_feedback\", human_feedback)\n",
    "builder.add_node(\"conduct_interview\", interview_builder.compile())\n",
    "builder.add_node(\"write_report\",write_report)\n",
    "builder.add_node(\"write_introduction\",write_introduction)\n",
    "builder.add_node(\"write_conclusion\",write_conclusion)\n",
    "builder.add_node(\"finalize_report\",finalize_report)\n",
    "\n",
    "# Logic\n",
    "builder.add_edge(START, \"create_analysts\")\n",
    "builder.add_edge(\"create_analysts\", \"human_feedback\")\n",
    "builder.add_conditional_edges(\"human_feedback\", initiate_all_interviews, [\"create_analysts\", \"conduct_interview\"])\n",
    "builder.add_edge(\"conduct_interview\", \"write_report\")\n",
    "builder.add_edge(\"conduct_interview\", \"write_introduction\")\n",
    "builder.add_edge(\"conduct_interview\", \"write_conclusion\")\n",
    "builder.add_edge([\"write_conclusion\", \"write_report\", \"write_introduction\"], \"finalize_report\")\n",
    "builder.add_edge(\"finalize_report\", END)\n",
    "\n",
    "# Compile\n",
    "memory = MemorySaver()\n",
    "graph = builder.compile(interrupt_before=['human_feedback'], checkpointer=memory)\n",
    "display(Image(graph.get_graph(xray=1).draw_mermaid_png()))"
   ],
   "outputs": [
    {
     "name": "stderr",
     "output_type": "stream",
     "text": [
      "C:\\Users\\ADMIN\\AppData\\Local\\Temp\\ipykernel_18568\\3790429458.py:1: LangGraphDeprecatedSinceV10: Importing Send from langgraph.constants is deprecated. Please use 'from langgraph.types import Send' instead. Deprecated in LangGraph V1.0 to be removed in V2.0.\n",
      "  from langgraph.constants import Send\n"
     ]
    },
    {
     "data": {
      "image/png": "[encoded data removed]",
      "text/plain": [
       "<IPython.core.display.Image object>"
      ]
     },
     "metadata": {},
     "output_type": "display_data",
     "jetTransient": {
      "display_id": null
     }
    }
   ],
   "execution_count": 25
  },
  {
   "cell_type": "markdown",
   "id": "1b64ba9a-2b5e-40e1-a778-0f635aa3f6d0",
   "metadata": {},
   "source": [
    "Let's ask an open-ended question about LangGraph."
   ]
  },
  {
   "cell_type": "code",
   "id": "362932ee-4106-4a2d-a32d-b812eafcf9df",
   "metadata": {
    "ExecuteTime": {
     "end_time": "2025-10-31T18:23:01.549580Z",
     "start_time": "2025-10-31T18:22:57.625629Z"
    }
   },
   "source": [
    "# Inputs\n",
    "max_analysts = 3 \n",
    "topic = \"The benefits of adopting LangGraph as an agent framework\"\n",
    "thread = {\"configurable\": {\"thread_id\": \"1\"}}\n",
    "\n",
    "# Run the graph until the first interruption\n",
    "for event in graph.stream({\"topic\":topic,\n",
    "                           \"max_analysts\":max_analysts}, \n",
    "                          thread, \n",
    "                          stream_mode=\"values\"):\n",
    "    \n",
    "    analysts = event.get('analysts', '')\n",
    "    if analysts:\n",
    "        for analyst in analysts:\n",
    "            print(f\"Name: {analyst.name}\")\n",
    "            print(f\"Affiliation: {analyst.affiliation}\")\n",
    "            print(f\"Role: {analyst.role}\")\n",
    "            print(f\"Description: {analyst.description}\")\n",
    "            print(\"-\" * 50)  "
   ],
   "outputs": [
    {
     "name": "stdout",
     "output_type": "stream",
     "text": [
      "Name: Dr. Emily Carter\n",
      "Affiliation: Tech Innovators Inc.\n",
      "Role: Technology Adoption Specialist\n",
      "Description: Dr. Carter focuses on the strategic benefits of adopting new technologies like LangGraph. She is particularly interested in how LangGraph can streamline processes, improve efficiency, and provide a competitive edge to organizations. Her analysis often includes case studies and data-driven insights to support the adoption of innovative frameworks.\n",
      "--------------------------------------------------\n",
      "Name: Mr. Raj Patel\n",
      "Affiliation: Data Security Solutions\n",
      "Role: Cybersecurity Analyst\n",
      "Description: Mr. Patel is concerned with the security implications of adopting new frameworks such as LangGraph. His focus is on evaluating the security features of LangGraph, assessing potential vulnerabilities, and ensuring that the framework complies with industry standards and best practices. He aims to provide a comprehensive risk assessment for organizations considering LangGraph.\n",
      "--------------------------------------------------\n",
      "Name: Ms. Sarah Lee\n",
      "Affiliation: GreenTech Advisors\n",
      "Role: Sustainability Consultant\n",
      "Description: Ms. Lee examines the environmental impact of adopting technologies like LangGraph. She is interested in how LangGraph can contribute to reducing carbon footprints, optimizing resource usage, and promoting sustainable practices within tech infrastructures. Her analysis includes evaluating the energy efficiency and environmental benefits of integrating LangGraph into existing systems.\n",
      "--------------------------------------------------\n"
     ]
    }
   ],
   "execution_count": 26
  },
  {
   "cell_type": "code",
   "id": "ac521a5f-5a4f-44f9-8af9-d05228e20882",
   "metadata": {
    "ExecuteTime": {
     "end_time": "2025-10-31T18:23:01.574964Z",
     "start_time": "2025-10-31T18:23:01.564581Z"
    }
   },
   "source": [
    "# We now update the state as if we are the human_feedback node\n",
    "graph.update_state(thread, {\"human_analyst_feedback\": \n",
    "                                \"Add in the CEO of gen ai native startup\"}, as_node=\"human_feedback\")"
   ],
   "outputs": [
    {
     "data": {
      "text/plain": [
       "{'configurable': {'thread_id': '1',\n",
       "  'checkpoint_ns': '',\n",
       "  'checkpoint_id': '1f0b686a-2715-69b6-8002-ae05261fa5b7'}}"
      ]
     },
     "execution_count": 27,
     "metadata": {},
     "output_type": "execute_result"
    }
   ],
   "execution_count": 27
  },
  {
   "cell_type": "code",
   "id": "a3be311f-62ee-49e7-b037-75c53d8960a8",
   "metadata": {
    "ExecuteTime": {
     "end_time": "2025-10-31T18:23:06.725097Z",
     "start_time": "2025-10-31T18:23:01.593972Z"
    }
   },
   "source": [
    "# Check\n",
    "for event in graph.stream(None, thread, stream_mode=\"values\"):\n",
    "    analysts = event.get('analysts', '')\n",
    "    if analysts:\n",
    "        for analyst in analysts:\n",
    "            print(f\"Name: {analyst.name}\")\n",
    "            print(f\"Affiliation: {analyst.affiliation}\")\n",
    "            print(f\"Role: {analyst.role}\")\n",
    "            print(f\"Description: {analyst.description}\")\n",
    "            print(\"-\" * 50)  "
   ],
   "outputs": [
    {
     "name": "stdout",
     "output_type": "stream",
     "text": [
      "Name: Dr. Emily Carter\n",
      "Affiliation: Tech Innovators Inc.\n",
      "Role: Technology Adoption Specialist\n",
      "Description: Dr. Carter focuses on the strategic benefits of adopting new technologies like LangGraph. She is particularly interested in how LangGraph can streamline processes, improve efficiency, and provide a competitive edge to organizations. Her analysis often includes case studies and data-driven insights to support the adoption of innovative frameworks.\n",
      "--------------------------------------------------\n",
      "Name: Mr. Raj Patel\n",
      "Affiliation: Data Security Solutions\n",
      "Role: Cybersecurity Analyst\n",
      "Description: Mr. Patel is concerned with the security implications of adopting new frameworks such as LangGraph. His focus is on evaluating the security features of LangGraph, assessing potential vulnerabilities, and ensuring that the framework complies with industry standards and best practices. He aims to provide a comprehensive risk assessment for organizations considering LangGraph.\n",
      "--------------------------------------------------\n",
      "Name: Ms. Sarah Lee\n",
      "Affiliation: GreenTech Advisors\n",
      "Role: Sustainability Consultant\n",
      "Description: Ms. Lee examines the environmental impact of adopting technologies like LangGraph. She is interested in how LangGraph can contribute to reducing carbon footprints, optimizing resource usage, and promoting sustainable practices within tech infrastructures. Her analysis includes evaluating the energy efficiency and environmental benefits of integrating LangGraph into existing systems.\n",
      "--------------------------------------------------\n",
      "Name: Dr. Emily Carter\n",
      "Affiliation: Tech Innovators Inc.\n",
      "Role: AI Framework Specialist\n",
      "Description: Dr. Carter focuses on the technical advantages of adopting LangGraph as an agent framework. She is particularly interested in how LangGraph can enhance the efficiency and scalability of AI systems. Her analysis includes a deep dive into the framework's architecture and its potential to streamline complex AI operations.\n",
      "--------------------------------------------------\n",
      "Name: Michael Thompson\n",
      "Affiliation: FutureTech Ventures\n",
      "Role: Investment Strategist\n",
      "Description: Michael evaluates the economic benefits and market potential of LangGraph. He is concerned with how adopting this framework can lead to cost savings and increased ROI for companies. His insights are driven by market trends and the competitive edge LangGraph provides in the AI landscape.\n",
      "--------------------------------------------------\n",
      "Name: Sophia Zhang\n",
      "Affiliation: AI Pioneers Ltd.\n",
      "Role: CEO of Gen AI Native Startup\n",
      "Description: Sophia is the CEO of a startup that is native to generative AI technologies. She is focused on how LangGraph can be integrated into startup environments to accelerate innovation and product development. Her perspective includes the framework's adaptability and its role in fostering a culture of rapid experimentation and deployment.\n",
      "--------------------------------------------------\n"
     ]
    }
   ],
   "execution_count": 28
  },
  {
   "cell_type": "code",
   "id": "0af41f54-88d9-4597-98b0-444c08322095",
   "metadata": {
    "ExecuteTime": {
     "end_time": "2025-10-31T18:23:06.746492Z",
     "start_time": "2025-10-31T18:23:06.737107Z"
    }
   },
   "source": [
    "# Confirm we are happy\n",
    "graph.update_state(thread, {\"human_analyst_feedback\": \n",
    "                            None}, as_node=\"human_feedback\")"
   ],
   "outputs": [
    {
     "data": {
      "text/plain": [
       "{'configurable': {'thread_id': '1',\n",
       "  'checkpoint_ns': '',\n",
       "  'checkpoint_id': '1f0b686a-5869-68d2-8004-20080a1835c3'}}"
      ]
     },
     "execution_count": 29,
     "metadata": {},
     "output_type": "execute_result"
    }
   ],
   "execution_count": 29
  },
  {
   "cell_type": "code",
   "id": "37123ca7-c20b-43c1-9a71-39ba344e7ca6",
   "metadata": {
    "ExecuteTime": {
     "end_time": "2025-10-31T18:24:14.330608Z",
     "start_time": "2025-10-31T18:23:06.758273Z"
    }
   },
   "source": [
    "# Continue\n",
    "for event in graph.stream(None, thread, stream_mode=\"updates\"):\n",
    "    print(\"--Node--\")\n",
    "    node_name = next(iter(event.keys()))\n",
    "    print(node_name)"
   ],
   "outputs": [
    {
     "name": "stdout",
     "output_type": "stream",
     "text": [
      "--Node--\n",
      "conduct_interview\n",
      "--Node--\n",
      "conduct_interview\n",
      "--Node--\n",
      "conduct_interview\n",
      "--Node--\n",
      "write_conclusion\n",
      "--Node--\n",
      "write_introduction\n",
      "--Node--\n",
      "write_report\n",
      "--Node--\n",
      "finalize_report\n"
     ]
    }
   ],
   "execution_count": 30
  },
  {
   "cell_type": "code",
   "id": "f8f66ad8-80fd-4eb2-96b6-6ae9dffd060c",
   "metadata": {
    "ExecuteTime": {
     "end_time": "2025-10-31T18:24:15.109652Z",
     "start_time": "2025-10-31T18:24:15.092441Z"
    }
   },
   "source": [
    "from IPython.display import Markdown\n",
    "final_state = graph.get_state(thread)\n",
    "report = final_state.values.get('final_report')\n",
    "Markdown(report)"
   ],
   "outputs": [
    {
     "data": {
      "text/plain": [
       "<IPython.core.display.Markdown object>"
      ],
      "text/markdown": "# The Benefits of Adopting LangGraph as an Agent Framework\n\n## Introduction\n\nIn the dynamic realm of artificial intelligence, the quest for frameworks that enhance efficiency and scalability is relentless. LangGraph stands out as a transformative agent framework, offering a graph-based architecture that excels in managing complex AI operations. This report delves into LangGraph's unique advantages, such as its ability to maintain context across workflows, its modular design, and its seamless integration with the LangChain ecosystem. By exploring its economic benefits, strategic edge for startups, and potential for accelerating innovation, we uncover how LangGraph empowers businesses to achieve significant cost savings, improved ROI, and a competitive advantage in the AI landscape.\n\n---\n\n\n\nLangGraph emerges as a transformative agent framework in the rapidly evolving landscape of artificial intelligence, offering significant advantages in efficiency, scalability, and economic benefits. Its graph-based architecture is particularly beneficial for complex AI operations, supporting cyclical workflows that enable advanced state management and dynamic behavior. This makes LangGraph an ideal choice for applications requiring long-running, multi-step tasks where maintaining context is crucial [1][2][3].\n\nOne of LangGraph's standout features is its ability to manage state explicitly, allowing AI agents to carry context across different steps. This capability is essential for scenarios such as customer support bots, research assistants, and process automation systems that operate over extended periods, reducing errors and enhancing reliability [1]. The framework's modular design and visual interface simplify the creation of complex workflows, supporting the integration of modular components to form dynamic workflows. This is crucial for handling feedback loops, decision-making processes, and multi-step tasks, making LangGraph well-suited for real-time interactions and business process automation [2]. Its deep integration with the LangChain ecosystem provides access to a vast library of pre-made agents, tools, and connectors, enhancing its versatility and ease of use [3].\n\nLangGraph's graph-based model allows for the creation of flows with branching, looping, and revisiting earlier steps, providing developers with explicit control over the flow of logic. This flexibility is a significant departure from the more linear, directed acyclic graphs (DAGs) found in other data orchestration frameworks, making it crucial for developing sophisticated agent runtimes capable of handling complex, real-world scenarios [4][5]. Additionally, LangGraph excels in scalability, supporting parallel execution of independent operations, which significantly improves efficiency for workflows with multiple concurrent tasks [4]. Its robust Human-in-the-Loop (HitL) capabilities enable human intervention at any point within an agent’s runtime, ensuring workflows can be paused and adjusted as needed [3].\n\nEconomically, LangGraph offers substantial benefits by automating and augmenting complex workflows, allowing companies to deliver decisions and services with unprecedented speed and responsiveness. This strategic shift enhances customer responsiveness, data analysis, and innovation capacity, positioning AI initiatives as long-term strategic assets [1]. LangGraph's stateful orchestration allows AI agents to revisit previous steps based on new information or changing conditions, making it attractive for enterprises implementing sophisticated AI systems [2]. Its integration capabilities, such as with LangChain, have demonstrated significant improvements in risk assessment accuracy and reductions in compliance-related delays [2].\n\nDespite its strengths, LangGraph lacks the autonomous decision-making and self-improvement capabilities of more agentic frameworks like AutoGPT and BabyAGI [3]. However, its structured control and ability to orchestrate complex workflows make it a valuable tool for businesses seeking to harness AI without fully autonomous systems.\n\nFor startups, LangGraph accelerates innovation and streamlines product development by providing prebuilt components that simplify the development of agentic systems, allowing a focus on application logic rather than infrastructure [1]. Its support for both declarative and imperative programming styles offers flexibility in agent development and management [2]. The \"human-on-the-loop\" capability allows users to inspect and modify agent trajectories, enhancing adaptability [2]. LangGraph's orchestration of complex workflows enables parallel processing and decision-making phases that mimic human team dynamics, aligning with the startup ethos of rapid iteration and deployment [1]. Its adaptability is further highlighted by support for various APIs, catering to different developer preferences and project requirements [2]. The framework's ability to democratize data access and enhance productivity is exemplified by LinkedIn's use of LangGraph to develop the SQL Bot, empowering employees to independently extract insights from data [4].\n\nIn conclusion, LangGraph offers a comprehensive solution for building intelligent, scalable, and efficient AI systems. Its graph-based architecture, modular design, and integration capabilities make it a standout choice for developers and businesses looking to streamline complex AI operations, enhance performance, and achieve significant economic benefits.\n\n\n---\n\n## Conclusion\n\nLangGraph stands out as a transformative agent framework in the AI landscape, offering a graph-based architecture that enhances efficiency, scalability, and adaptability. Its ability to manage state explicitly and support complex workflows makes it ideal for applications requiring long-running, multi-step tasks. The framework's modular design and integration with the LangChain ecosystem further simplify the creation of dynamic workflows, providing significant economic benefits and a competitive edge for businesses. While it lacks some autonomous capabilities, LangGraph's structured control and orchestration of complex workflows make it a valuable tool for startups and enterprises alike, driving innovation and operational efficiency.\n\n## Sources\n[1] https://www.truefoundry.com/blog/autogen-vs-langgraph  \n[2] https://oxylabs.io/blog/langgraph-vs-langchain  \n[3] https://www.3pillarglobal.com/insights/blog/comparison-crewai-langgraph-n8n/  \n[4] https://medium.com/@saimoguloju2/langgraph-building-intelligent-multi-agent-workflows-with-state-management-0427264b6318  \n[5] https://www.metacto.com/blogs/a-developer-s-guide-to-langgraph-building-stateful-controllable-llm-applications  \n[6] https://www.scalablepath.com/machine-learning/langgraph  \n[7] https://blog.agen.cy/p/agency-revolutionizing-ai-development  \n[8] https://medium.com/@saeedhajebi/langgraph-is-not-a-true-agentic-framework-3f010c780857  \n[9] https://langchain-ai.github.io/langgraph/agents/overview/  \n[10] https://blog.langchain.com/how-to-think-about-agent-frameworks/  \n[11] https://blog.langchain.com/is-langgraph-used-in-production/  \n[12] https://www.linkedin.com/posts/langchain_top-5-langgraph-agents-in-production-2024-activity-7278807039521239040-TMbV"
     },
     "execution_count": 31,
     "metadata": {},
     "output_type": "execute_result"
    }
   ],
   "execution_count": 31
  },
  {
   "cell_type": "markdown",
   "id": "e9bf8edd-fb42-496c-9bdb-3f5d7b4d79d3",
   "metadata": {},
   "source": [
    "We can look at the trace:\n",
    "\n",
    "https://smith.langchain.com/public/2933a7bb-bcef-4d2d-9b85-cc735b22ca0c/r"
   ]
  },
  {
   "cell_type": "code",
   "id": "808bd094",
   "metadata": {
    "ExecuteTime": {
     "end_time": "2025-10-31T18:40:51.482731Z",
     "start_time": "2025-10-31T18:40:29.448514Z"
    }
   },
   "source": [
    "\n",
    "\n",
    "import os\n",
    "from langchain_openai import ChatOpenAI\n",
    "from langchain_community.tools.tavily_search import TavilySearchResults\n",
    "from langchain_core.messages import HumanMessage, AIMessage\n",
    "from langgraph.graph import StateGraph, START, END\n",
    "from langgraph.graph.message import MessagesState\n",
    "\n",
    "_set_env(\"OPENAI_API_KEY\")\n",
    "_set_env(\"TAVILY_API_KEY\")\n",
    "\n",
    "\n",
    "llm = ChatOpenAI(model=\"gpt-4o-mini\", temperature=0)\n",
    "search_tool = TavilySearchResults(max_results=3)\n",
    "\n",
    "\n",
    "class RAState(MessagesState):\n",
    "    question: str\n",
    "    docs: list\n",
    "    sources: list\n",
    "    answer: str\n",
    "\n",
    "\n",
    "def entry_node(state: RAState):\n",
    "    question = state[\"messages\"][-1].content if state[\"messages\"] else \"\"\n",
    "    return {\"question\": question}\n",
    "\n",
    "\n",
    "def web_search_node(state: RAState):\n",
    "    question = state[\"question\"]\n",
    "    print(f\"🔍 Searching the web for: {question}\")\n",
    "    try:\n",
    "        results = search_tool.invoke({\"query\": question})\n",
    "        docs = [r[\"content\"] for r in results if \"content\" in r]\n",
    "        sources = [r[\"url\"] for r in results if \"url\" in r]\n",
    "    except Exception:\n",
    "        docs = [\n",
    "            \"AI helps predict natural disasters and optimize energy use.\",\n",
    "            \"Machine learning is improving renewable energy forecasting.\",\n",
    "            \"AI supports researchers in analyzing climate data more efficiently.\"\n",
    "        ]\n",
    "        sources = [\"https://example.com\"]\n",
    "    return {\"docs\": docs, \"sources\": sources}\n",
    "\n",
    "\n",
    "def summarize_docs(state: RAState):\n",
    "    docs = state.get(\"docs\", [])\n",
    "    question = state.get(\"question\", \"\")\n",
    "    summaries = []\n",
    "\n",
    "    for doc in docs[:3]:  # limit for simplicity\n",
    "        prompt = [\n",
    "            HumanMessage(\n",
    "                content=f\"Question: {question}\\n\\nDocument:\\n{doc}\\n\\nSummarize key points relevant to the question.\"\n",
    "            )\n",
    "        ]\n",
    "        resp = llm.invoke(prompt)\n",
    "        summaries.append(resp.content)\n",
    "    return {\"summaries\": summaries}\n",
    "\n",
    "\n",
    "def combine_summaries(state: RAState):\n",
    "    summaries = state.get(\"summaries\", [])\n",
    "    sources = state.get(\"sources\", [])\n",
    "    question = state.get(\"question\", \"\")\n",
    "\n",
    "    combined = \"\\n\\n\".join(summaries)\n",
    "    sources_text = \"\\n\".join(f\"- {s}\" for s in sources)\n",
    "\n",
    "    prompt = [\n",
    "        HumanMessage(\n",
    "            content=(\n",
    "                f\"User question: {question}\\n\\nSummaries:\\n{combined}\\n\\n\"\n",
    "                \"Write a clear and short answer that combines the information.\\n\"\n",
    "                f\"At the end, include:\\n\\nSources:\\n{sources_text}\"\n",
    "            )\n",
    "        )\n",
    "    ]\n",
    "    resp = llm.invoke(prompt)\n",
    "    return {\"answer\": resp.content, \"messages\": [AIMessage(resp.content)]}\n",
    "\n",
    "\n",
    "workflow = StateGraph(RAState)\n",
    "workflow.add_node(\"entry\", entry_node)\n",
    "workflow.add_node(\"search\", web_search_node)\n",
    "workflow.add_node(\"summarize\", summarize_docs)\n",
    "workflow.add_node(\"combine\", combine_summaries)\n",
    "\n",
    "workflow.add_edge(START, \"entry\")\n",
    "workflow.add_edge(\"entry\", \"search\")\n",
    "workflow.add_edge(\"search\", \"summarize\")\n",
    "workflow.add_edge(\"summarize\", \"combine\")\n",
    "workflow.add_edge(\"combine\", END)\n",
    "\n",
    "graph = workflow.compile()\n",
    "\n",
    "\n",
    "user_question = \"How is AI being used to fight climate change?\"\n",
    "input_message = HumanMessage(content=user_question)\n",
    "\n",
    "output = graph.invoke({\"messages\": [input_message]})\n",
    "\n",
    "for m in output.get(\"messages\", []):\n",
    "    if hasattr(m, \"pretty_print\"):\n",
    "        m.pretty_print()\n",
    "\n",
    "print(\"\\n--- Final Answer ---\")\n",
    "print(output[\"answer\"])\n",
    "\n",
    "\n",
    "display(Image(graph.get_graph(xray=1).draw_mermaid_png()))\n",
    "\n",
    "\n",
    "\n",
    "\n"
   ],
   "outputs": [
    {
     "name": "stdout",
     "output_type": "stream",
     "text": [
      "🔍 Searching the web for: How is AI being used to fight climate change?\n",
      "================================\u001B[1m Human Message \u001B[0m=================================\n",
      "\n",
      "How is AI being used to fight climate change?\n",
      "==================================\u001B[1m Ai Message \u001B[0m==================================\n",
      "\n",
      "AI is being utilized in various ways to combat climate change, including optimizing energy consumption, enhancing renewable energy integration, improving climate modeling and predictions, and facilitating carbon capture and storage. It helps in monitoring environmental changes, predicting extreme weather events, and enabling smarter agricultural practices to reduce emissions. Additionally, AI can analyze vast datasets to identify patterns and solutions for sustainability challenges.\n",
      "\n",
      "Sources:\n",
      "- https://www.weforum.org/stories/2024/02/ai-combat-climate-change/\n",
      "- https://hub.jhu.edu/2023/03/07/artificial-intelligence-combat-climate-change/\n",
      "- https://unu.edu/ehs/series/5-insights-ai-double-edged-sword-climate-action\n",
      "\n",
      "--- Final Answer ---\n",
      "AI is being utilized in various ways to combat climate change, including optimizing energy consumption, enhancing renewable energy integration, improving climate modeling and predictions, and facilitating carbon capture and storage. It helps in monitoring environmental changes, predicting extreme weather events, and enabling smarter agricultural practices to reduce emissions. Additionally, AI can analyze vast datasets to identify patterns and solutions for sustainability challenges.\n",
      "\n",
      "Sources:\n",
      "- https://www.weforum.org/stories/2024/02/ai-combat-climate-change/\n",
      "- https://hub.jhu.edu/2023/03/07/artificial-intelligence-combat-climate-change/\n",
      "- https://unu.edu/ehs/series/5-insights-ai-double-edged-sword-climate-action\n"
     ]
    },
    {
     "data": {
      "text/plain": [
       "b'\\x89PNG\\r\\n\\x1a\\n\\x00\\x00\\x00\\rIHDR\\x00\\x00\\x00|\\x00\\x00\\x02\\x13\\x08\\x02\\x00\\x00\\x00JA\\xefO\\x00\\x00\\x10\\x00IDATx\\x9c\\xec\\x9d\\x07|\\x14\\xc5\\x17\\xc7g\\xf7Zz\\x0f\\xa4\\x11\\x92\\x00\\xa1\\x85\\x1e:\\x82\\x94\\xd0\\x11\\x10\\xfe\\xf4\\xde\\x05\\x94\\x16Q\\xa4\\t\\xa24Q\\x94\"b\\x01\\xa4H\\x95\\xa6\\x14\\x05\\x14\\x04\\x94\\xde\\x95\\x92\\x90@\\x12H\\x80$\\xa4\\xe7.w\\xbb\\xffw\\xb7\\xe1r\\tw\\x98\\xbd\\xdb\\xcdd\\x93\\xf9~\\xc2\\xb17;\\xbb\\xb7\\xfb\\xdb\\xd97\\xb33\\xb3\\xef\\xc9Y\\x96E\\x84\\x92E\\x8e\\x08%\\x0e\\x11\\x1d\\x03Dt\\x0c\\x10\\xd11@D\\xc7\\x00\\x11\\x1d\\x03\"\\x8a\\x1e}=\\xfd\\xee\\xd5\\xac\\xf4\\xa7\\x1am\\x1e\\xd2\\xe6\\xe9\\x10\\xa2\\x8bd\\xa0h\\x8ae\\xf2\\x1b\\xac\\x14B\\xb0D\\xd3\\x14\\xc3\\xb0\\xdcg\\xd1\\xcc\\x14\\x05\\xad[\\x8aB\\\\\\x13\\xd7\\x98\\x07R`\\xdb\"\\xd9\\x8d\\xd9\\xf49e\\x14\\xa3c\\xb9\\xcd\\x8b\\xac5M\\xe4\\x90\\xc9(\\x85\\x1d\\xe5\\xe4*\\xabT\\xdd\\xa1n+w$\\x0e\\x94\\xe0\\xed\\xf4\\x8b\\xc7\\x92o\\x9eM\\xcfJ\\xd3\\xc1\\x8eer\\xa4PR*{\\x19\\xc32\\x14#3\\xe6a\\x11\\x0bZQ4b\\x19\\x93\\xb4\\x17)\\x05\\xe9\\x94!#\\x07\\\\2\\xe6\\xc5\\'2\\xcd\\xf3b\\x7f\\x85N\\xcb\\x90f\\xf8\\x15Z\\x86\\x18\\xdd\\x8b\\xab\\xca\\xfd\\x12\\xa5\\xdfq\\xc1>M\\xa0e\\xfab\\xa0U\\xeb4jV\\xa7Cv\\x0et`-\\xbb\\x88\\x81~HP\\x84\\x14\\xfd\\xc2\\xd1g\\x97\\xffH\\x83b\\xe5\\xe5\\xaf\\x0co\\xef\\x11\\x1c\\xe6\\x84\\xa4\\xcc\\xf3d\\xf5\\x99}\\xcf\\xe2\\xa3rty(8\\xcc\\xa1\\xcb\\x08\\xc1\\xa4\\x17L\\xf4\\x8d\\x0bcr2u\\xb5\\x9a8\\xb7\\xe9[\\x11\\x95-n\\x9eI>w\\xf89\\xdc\\x01#>\\x0cT(\\x14\\xc8f\\x84\\x11}md\\x94w\\x80\\xea\\x7fS+\\xa1\\xb2\\xcb\\xef;\\x93n\\xfd\\x9d\\xd1\\xb4\\xab{\\xe3\\x0e\\x9e\\xc86l\\x15]\\xa7\\xd3}\\x15\\x19\\xd3\\xe6\\x7f\\x9euZ\\x88U\\xed\\x94*VO\\x8f\\x1a\\xf0\\xae\\xbf\\x97\\xaf=\\xb2\\x01[E_3=j\\xcc\\xe2J*\\x95\\n\\x95\\x1b\\xd6\\xcd\\x8cj\\xd8\\xc1\\xbdIG\\xeb\\xcb;\\x8dl\\xe0\\xab\\xc8\\xa8\\x0e\\x83\\xbc\\xcb\\x95\\xe2\\xc0\\x84eU/\\xfe\\x9a\\x9a\\xf80\\x1bY\\x8b\\xf5\\xa2C\\xcd\\xe9\\x1d\\xa8\\xac\\x1e\\xee\\x8a\\xca\\x1fM\\xbbx\\xec[\\xf3\\x08Y\\x8b\\x95\\xa2\\x9f\\xff59\\'C\\xd7\\xf7\\x9d@T.i\\xd4\\xde\\xc3\\xceQ\\xb6{\\xe5Cd\\x15V\\x8a~\\xf5\\xf7\\xd4\\xb0\\x16\\xce\\xa8\\x1c\\xd3\\xe7m\\xbf\\xc4\\x87\\x1ad\\x15\\xd6\\x88~\\xfeX\\xb2V\\x8b^\\xeb]\\xd6\\xda\\xe3\\xbcpvW98\\xc9v}\\x11\\x87\\xf8c\\x8d\\xe8\\xb7N\\xa7y\\xfb+Q\\xb9\\xa7\\xcek.\\xcf\\xe2\\xad)\\xec\\xd6\\x88\\x9e\\x95\\xce4\\x8e(\\xe9VyDDDBB\\x02\\xe2Ittt\\xf7\\xee\\xdd\\x9184\\x8e\\xf0\\x84N\\xb7\\x98\\x7f2\\x11Ox\\x8b~\\xe7R\\x1aM\\xa3\\xa0\\xda%j\\xd0\\x1f?~\\x9c\\x9a\\x9a\\x8a\\xf8\\xf3\\xcf?\\xff 1\\xb1w\\xa2o\\x9d}\\x8ex\\xc2\\xbbk7\\xf6V\\xb6BiS\\xeb\\xfe\\x15\\xc0\\x93\\xda\\x8f?\\xfe\\xf8\\xf3\\xcf??x\\xf0 88\\xb8Y\\xb3fo\\xbd\\xf5\\xd6\\x95+W&L\\x98\\x00k{\\xf6\\xec\\xd9\\xa6M\\x9b\\x15+V@\\xf9\\xdd\\xbd{\\xf7\\x85\\x0b\\x17\\x1e=z\\x14\\x12\\x12\\xd2\\xabW\\xaf\\xbe}\\xfbr{h\\xdf\\xbe\\xfd\\x981cN\\x9c8\\x01[\\r\\x1d:t\\xf3\\xe6\\xcd\\x90\\x18\\x1e\\x1e>m\\xda\\xb4\\xc1\\x83\\x07#\\xa1qt\\x91\\xa7>\\xd1\"\\x9e\\xf0\\x16==9O\\xe5@!q\\xd8\\xbe}\\xfb\\xf7\\xdf\\x7f?u\\xea\\xd4\\x96-[\\xfe\\xf1\\xc7\\x1fk\\xd6\\xacqtt\\x1c9r\\xe4\\xca\\x95+!q\\xff\\xfe\\xfd\\xfe\\xfe\\xfe\\x90\\rt\\x07\\xb9g\\xcf\\x9e\\r\\x1d\\xe2\\xb1\\xb1\\xb1K\\x97.\\xf5\\xf5\\xf5\\x85M`\\x15tH\\xed\\xdd\\xbb\\xb7I\\x93& }\\xa3F\\x8d \\xc3\\xaf\\xbf\\xfe\\nW\\x11\\x89\\x83\\xb3\\x87\\xfcQt.\\xe2\\to\\xd15\\x1a\\xa4P\\x89U\\xd2/_\\xbe\\\\\\xabV-\\xce\\n\\xf7\\xee\\xdd\\xbbq\\xe3\\xc6\\xd9\\xd9f\\x1e\\xfc\\x16/^\\x9c\\x95\\x95\\xe5\\xe7\\xa7\\xefk\\x85R|\\xe0\\xc0\\x81\\xb3g\\xcfr\\xa2\\x83\\xca\\xae\\xae\\xae\\x91\\x91\\x91\\xa8D\\x80\\x92\\xcejy\\x17A\\xde\\xa2Cg\\r\\x83\\xc4*\\xe9\\xf5\\xea\\xd5[\\xb5j\\xd5\\xc2\\x85\\x0b\\x1b4h\\xd0\\xbau\\xeb\\x80\\x80\\x00\\xb3\\xd9\\xc0\\n\\xc1=q\\xe6\\xcc\\x19\\xb0B\\\\\\nw\\x07p\\xc0eC%\\x08Sd\\x1c\\xa4\\x18\\xf0\\x16\\x9dV M\\x8e\\x0e\\x89\\xc3\\xa0A\\x83\\xc0\\x9e\\x9c<yr\\xc1\\x82\\x05r\\xb9\\x1cZ,\\xef\\xbc\\xf3\\x8e\\xb7\\xb7\\xb7i\\x1e\\x86a\\xa6L\\x99\\xa2\\xd1h&O\\x9e\\x0c\\xc5\\xdc\\xd9\\xd9y\\xf4\\xe8\\xd1\\xa6\\x19\\x94\\xca\\x92k\\xce\\xe6dji\\xfe\\xb7=o\\xd1\\x9d\\xdd\\xe5\\x89\\xcf\\xd5H\\x1ch\\x9a\\xeem\\xe0\\xfe\\xfd\\xfb\\xe7\\xcf\\x9f_\\xbf~}ff\\xe6\\xe7\\x9f\\x7fn\\x9a\\xe7\\xf6\\xed\\xdb\\xb7n\\xddZ\\xbbv-\\x18n.%##\\xa3B\\x85\\n\\x08\\x07\\xe9)Z\\x85\\x8a\\xf7}\\xcf\\xfb2\\x05TsP\\xe7\\xf0\\xbe\\xa1\\x8a\\t\\xd4x\\xd02\\x81\\x05h\\x93\\x0c\\x180`\\xe0\\xc0\\x81w\\xee\\xdc)\\x92\\xe7\\xf9s}\\x13\\xcd\\xa8\\xf2}\\x03\\x08\\x13\\xe9)y\\xce\\x9e\\xbc\\xc7\\x92x\\x8b^\\xef5w\\x18\\xe7M~,Ja?r\\xe4\\xc8\\xbb\\xef\\xbe{\\xea\\xd4\\xa9\\xb4\\xb4\\xb4\\xd3\\xa7OC\\xcb\\x0f\\xac<\\xa4\\x07\\x05\\x05\\xc1\\xe7o\\xbf\\xfdv\\xf3\\xe6M\\xb8\\x1e`y\\xa0-\\x98\\x9e\\x9e\\x0eM\\x97\\xe5\\xcb\\x97C\\xcb\\x12\\x1a\\xf2fw\\x18\\x18\\x18\\xf8\\xec\\xd93h\\x08\\x19\\xad\\xbf\\xb0\\xa8\\xb3\\xd9\\x1a\\xe1\\x0e\\x88\\'\\xd6\\xb4C\\xe0\\x86:\\xb9\\xe7\\t\\x12\\x819s\\xe6\\x80\\xa6\\xd3\\xa7O\\x87\\xe6\\xf6G\\x1f}\\x04\\xadrh\\x17B:\\xd4\\xa8=z\\xf4X\\xb7n\\x1dT\\xb3>>>\\x8b\\x16-\\xbaq\\xe3F\\xbbv\\xed\\xa0\\xf5=i\\xd2$h\\xa4\\xc3\\xc506\\xd5Mi\\xd5\\xaaU\\xfd\\xfa\\xf5\\xa11s\\xf4\\xe8Q$4\\xb7\\xcf\\xa7A\\xa3\\xa2v3\\xde\\xa3\\x19\\xd6\\x8c\\x1c\\x9d\\xd8\\xf1\\xe4\\xdf\\xf3\\xe9\\x93VTE\\xe5\\x9bM\\x0bcerj\\xc8\\x07\\x95\\x11O\\xac)\\xe9\\xed\\xfaW\\x80+|\\xe5D\\n*\\xdfd\\xa4j{\\xbe\\xe5\\x8b\\xf8c\\xe5\\x0c\\xaf\\xd0F\\x8e\\xe7\\x8e\\xa44h\\xe7avmbb\"T\\x83fW999A\\x83\\xc4\\xec*0,\\xf08\\x8a\\xc4a\\xa3\\x01\\xb3\\xab^\\x9e\\xe7e\\x04Z\\xa5f\\xad\\x16\\xb0eI\\x8c\\x8b\\'\\xed\\xecnM\\xf3\\xd4\\xfa\\x81\\xe9\\xaf\\xdf\\x8f\\x0e\\xae\\xed\\xd0q\\xa8\\x99K\\rMixb4\\xbb\\x15\\xb4\\xaf-\\xb5\\xa3\\xe1\\xe4\\xe1\\x92 qP\\xab\\xd5\\xf0\\xd3fW\\xe5\\xe4\\xe4\\xd8\\xdb\\x9b\\x1f\\xdd\\x87\\xe1_\\xb3G\\x1b\\x7f?s\\xdf\\xaa\\xc4\\xc9\\x9f[i`m\\x9a\\r\\xb0fz\\xd4\\xd8\\xc5AJU\\xb9\\x9b\\x85\\xfa\\xd5\\xcc\\xa8F\\xed\\xdd\\x9at\\xf2BVaS/J\\xbb\\x01\\xde\\xdf\\xcd\\x8dE\\xe5\\x8co\\xe7F\\x05T\\xb5\\xb7Zqd\\xfb\\xbc\\x97\\'\\xf1\\xb9;W\\xc4[}\\xa3I\\x0e(\\xe3-zx\\xd4{\\xcd\\x03\\xd9\\x80\\x00\\xd3\\xea\\xee^\\xc9\\xf8\\xf5\\x87\\xa4:\\xad\\x9c\\xdb\\xf4)\\xcb\\xa3\\xa6\\xf7o\\xa5\\x1f\\xdd\\xf8\\xc4/\\xc4\\xbe\\xe7[\\xfe\\xc86\\x84\\x99\\xcb\\xa8\\xceVo\\\\\\x18\\xaf\\xb4C\\x11C|\\x03\\xaa\\xf2~B+\\xfdl[\\x1e\\xfb\\xfc\\x89\\xb6E7\\xf7\\xfa\\xaf\\xdb:\\x91\\x11\\t;U\\xfa\\xc0\\xd7\\xf1\\xf1\\xf7r\\xed\\x1d\\xe9*\\xf5\\x9dZ\\xf7\\xc6\\xd3\\x03%,\\xd7N\\xa5\\xdc8\\x93\\x96\\xf6L\\xe7\\xe6#\\x1f\\xfcn\\x10\\x12\\x08\\xe1_\\n8\\xb8>\\xe1\\xd1\\xfd\\\\\\x9d\\x96\\x85\\xa75\\x07g\\x99\\xbd\\xb3LeG\\xcbU4\\xcb\\x9a\\xef\\x8d3\\xcc\\xd0/8\\x06\\xca\\x90\\x0b\\x0e\\xca\\xf4m\\nT\\xe8\\xf5\\t\\x96\\xdb\\x951\\xa7a\\'\\xfa-Ls\\x9an\\xae_\\xe6^\\x0b(\\xbc\\xc3\\x97O\\x9fb(\\xb5:/;S\\x97\\x9d\\xa6\\xd5\\xe4\\xb2\\x14\\x8d<|\\x14\\xbd\\'\\xfb\\n\\xdb],\\xbc\\xe8\\x1c)\\x899\\x97N\\xa4=\\x89S\\xe7d\\xe8\\xb4\\x1a\\x96\\xd1\\xebdA\\xf4\\xa2\\xe2\\x1a^\\xad0y\\xd3\\xc5\\x98\\xce\\x1d*\\x9b\\xaf!bXFF\\xd3/\\xf2p\\xaa\\x9a\\xe44y\\xf5\\xa2\\xc8\\xab3&?\\xc4\\x14)\\n2\\x05+\\x97\\xd3\\n;\\xda\\xbd\\xa2\\xbcfc\\x97*u]\\x90\\x08\\x88%z\\t\\xd0\\xb1cG\\x18\\xc5\\xf6\\xf4\\x14\\xc0\\xc8\\x960\\x12~\\xae\\xd1j\\xb5\\xd0\\xc7\\x8b$\\x08\\x11\\x1d\\x03Dt\\x0cHX\\xf4\\xbc\\xbc<A^\\xbb*y\\xa4*:td\"\\xc3@6\\x92 R\\x15]\\xba\\xb6\\x05\\x11\\xd1\\xb1 \\xd5\\xe3\\x96\\xaeAG\\xa4\\xa4c\\x81\\x88\\x8e\\x01\":\\x06\\x88\\xe8\\x18 \\x15)\\x06HI\\xc7\\x00\\x11\\x1d\\x03Dt\\x0c\\x10\\xd11@D\\xc7\\x00\\x11\\x1d\\x03Dt\\x0c\\x10\\xd11@\\x1e\\x8e0@J:\\x06\\xa4z\\xdc2\\x99\\xcc\\xd5U\\xaa\\xee\\xc3\\xa4*:\\xcb\\xb2\\xd69#)\\rH\\xf6\\x0e\\x95\\xcb\\xc1\\xc2 iBD\\xc7\\x00\\x11\\x1d\\x03Dt\\x0c\\x10\\xd11@D\\xc7\\x00\\x11\\x1d\\x03Dt\\x0c\\x10\\xd11@D\\xc7\\x00\\x11\\x1d\\x03Dt\\x0c\\x10\\xd11@D\\xc7\\x00\\x11\\x1d\\x03Dt\\x0cH\\xec\\x8d\\xe9\\xf9\\xf3\\xe7\\x1f8p\\x00\\x86\\x8d\\xe0\\xb0\\x19\\x86\\xa1\\xf5\\xaf\\xa9\\xb3p\\x01\\xce\\x9f?\\x8f\\xa4\\x83\\xc4\\xdeN\\x9b8qbHH\\x082\\xbc\\xd9\\x0f\\xd2\\xc3\\'\\xe8^\\xa9\\x92\\xc4\\xc2\\xb7IL\\xf4\\x8a\\x15+v\\xe8\\xd0\\xc1\\xf4\\xee\\x04\\xdd{\\xf4\\xe8\\x81$\\x85\\xf4\\xde\\xc3\\x1c<xppp\\xb0\\xf1\\xab\\xbf\\xbf\\x7f\\xcf\\x9e=\\x91\\xa4\\x90\\x9e\\xe8...\\xdd\\xbau3z(\\x81\\x82\\xef\\xee.\\xb1X\\x85\\x92|\\xe3\\x18\\n;g\\xc7\\xfd\\xfc\\xfc\\xfa\\xf4\\xe9\\x83\\xa4FI\\xb4^N\\xeeMTgP\\xda\\xc2q\\xa0\\x8b\\xb8\\xbc1$q\\x1et\\x0c\\x1e\\x88\\xd8\\xa2\\xd9\\n\\xf2\\x1b\\xb2\\xc5\\xc5\\xc5\\xdd\\xb9s\\' \\xc0\\xbff\\xcd\\x9a/\\xbbA2\\xf5\\xb0\\x83\\n\\xfb@2\\xff\\xd3\\xf9\\x1b\\xb1*\\x07T\\xbb\\x85s\\xc5\\x00qc\\x06\\x8b+\\xfa\\xae\\x95\\xb1O\\xe3\\xb5\\xb4\\\\\\x1f\\x87[[\\xd8\\xff\\'E\\xebO\\xfde\\xdfE4|PtA\\xc0\\xef\\x17\\xb1\\xa4\\xcd\\xa8o\\x10\\xfbe\\xe7Q/g\\xb6(z\\xe1k\\x03b(\\x14\\x94F\\xcd:\\xb8R#\\xe7UA\\xa2!\\xa2\\xe8\\x877>\\x8a\\xbb\\x9b\\xddgZ`I\\xc6K\\x10\\x84\\xbd_E1j\\xd9\\x88\\xf9\\xc1H\\x1c\\xc4\\x12\\xfd\\xa75\\x0fS\\x9fh\\xfaM\\xaf\\x8a\\xa4\\xc9\\xe1\\r\\x0f\\xb3\\xd2\\xf2F\\xce\\x17\\xa5\\xbc\\x8bU\\x91&\\xc5j\\x9aw\\xf7F\\x92\\xa5\\xcb\\xc8\\xc0\\xec\\x0c\\xf6\\xde\\r\\xde\\xd1\\xba\\x8a\\x83(\\xa2\\xdf\\xb9\\xfc\\x1c\\xace\\xa5Pi\\xc7\\x87\\xb5s\\xa0\\xef\\x9e\\xb7>\\xbc\\xee+\\x10\\xa5\\xc3K\\x9d\\xc3\\xea\\xc4\\x8a\\xcaSr\\xb0\\x0c\\x9d\\x9d%J\\xc8\\x15qz\\x19\\x19Z\\xb2\\x8e\\x07\\x0b`t,\\x9b\\'\\xcai\\x94;\\xd7\\xe7\\xa5\\x01QD\\xa7^<\\x8fH\\x1a8\\x05Z\\x9c\\xb3\\x10Et\\x16\\xa12`^\\xe0\\x14\\x18q\\xce\\x82\\x98\\x17\\x0c\\x88#:\\xc5\\x96\\x01\\xf3\"\\x1e\\xe2\\x88\\xceR\\xd2\\xb7.\\xfa\\xfe\"\\x91\\xdc>\\x8af^\\xca@\\x93\\x91a\\x19q\"#\\x12\\x9b\\x8e\\x01\"\\xbaE\\xa0W\\x19I\\xcc\\xbcH\\x1f\\xca \\xbb\\x18\\x88\\xd5z\\xa1i\\xc97_\\xa4f\\xd3Y\\x8aa\\xca@\\xfbE,$90m$&&z\\xc0\\xa0\\xeeHjH\\xdb\\xa6\\xdf\\xb9\\xfb\\x0f\\x12\\r}\\xdfK\\x99\\xafH\\x8f\\x1c=x\\xe0\\xe0\\x9e\\x98\\x98\\xa8\\xe0\\xe0\\xaa\\xed\\xdav\\xec\\xf3\\xe6@nr\\xcb\\x82\\x85\\xef\\xc3B\\x87\\xf6]\\x96,\\xfb0\\'\\'\\xbbV\\xad:\\x13\\xc6M\\xa9Y3l\\xc3\\xc6u?l\\xfe\\x162\\xb4m\\x1f>\\xf1\\xadi4-\\xdb\\xf6\\xe3\\x86iSg\\xcd\\xffpf\\xaf^\\xfd\\xa2\\xa2\\xee\\xa8\\x94\\xaaeKW\\x1b\\xf7?w^dr\\xca\\xb3\\xb5\\xab7\\x16\\xf3x\\xf4}/\\xe2\\xd8tq.%\\x8dd2~\\x15\\xe9\\xb1\\xe3G\\x96.[\\x10Z\\xad\\xc6\\xb6-\\x07\\xc6\\x8c\\x9e\\xb4{\\xcf\\xb6\\xd5kWp\\xab\\xe4r\\xf9\\xad\\x7f\\xae\\xffv\\xec\\xd0\\xba\\xaf6\\x1f\\xfe\\xe54H\\xb9x\\xe9|H\\x1f9b\\xc2\\x80\\xfe\\xc3*V\\xf4\\xf9\\xfd\\xf8\\xc5\\xff\\xf5\\x1d\\x0c\\xc3\\xdf\\xd9\\xd9Y\\x07\\x0e\\xec\\x9e\\xf5\\xfe\\xc2\\xde=\\xfbu\\xed\\xdc\\xf3\\xd2\\xe5\\xf3))\\xc9\\xdcNrss\\xff>w\\xbacD7T\\n\\x10Gt\\x06\\xe9t\\xfc*\\xd2C\\x87\\xf6\\xd5\\xad\\xdb`\\xea\\x94\\xf7\\xdd\\xdd=\\x1a6h<r\\xf8\\x84}\\xfbv\\xa6\\xa6\\xe6GT\\xce\\xc9\\xce~7r\\x9e\\x9f\\xaf?\\\\\\x80\\xf6\\xed:\\xc7\\xc5=\\xc8\\xce.:\\x90\\x06w\\x03(;`\\xc0\\xf0\\x0e\\xed;\\x07\\x04\\x04\\xb6m\\xdb\\xd1\\xc1\\xc1\\xe1\\xc4\\xef\\xf9\\xf1\\xbcO\\x9f\\xf9\\x03>\\xdb\\xb5\\xeb\\x84J\\x01\\xa5\\xa2\"eY\\xf6\\xe6\\xadk\\x8d\\xc3\\x9b\\x1bS\\x1a4h\\xcc0\\xcc\\xf5\\x1bW\\xb8\\xaf\\x95\\x02\\x83@An\\xd9\\xc9\\xc9\\x19>32\\xd2\\xcd\\xee\\xaaF\\xf5\\xda\\xdc\\x02\\x14|\\xb0H\\xc7\\x8e\\x1d\\xe6\\xbe\\xfe\\xf9\\xe7\\x89\\x96-\\xda\\xb88\\xf3\\x8b\\xd0EI\\xa8?\\x9d/y\\x06\\xbe\\xfb~-\\xfc\\x99\\xa6\\x1bKz\\xf1\\x03\\x8e\\x98\\xce\\xb1\\xe9\\xde\\xed\\xcd}\\xfbw%<\\x8a\\xf7\\xf4\\xf0:w\\xfe\\xcc\\xdc\\xd9\\x9f >P2\\xc3\\x8c(\\x11(\\x15\\xa2\\x83RP\\x90\\xc1\\xe0\\xb6n\\xdd\\xde4\\xdd\\xcf7\\x00\\xd9@\\x95*\\xd5\\xa0\\xbe=|x\\x7f\\xb5j5\\xec\\xed\\x1d\\x9a6m\\xc9ksV\\xa7\\x1f&E\" \\x96\\xe8\\xb4\\x8cWv\\x10(4#3\\xa3A\\xfdp\\xee+\\x14\\xfc\\xc7\\x8f\\x13*T\\xb05\\xaal\\xd7.=\\xb7\\xef\\xf8!>\\xfe!\\x98\\x9a\\xd2\\xe3hM,\\x9b\\xce\\xf0\\x9c\\x821v\\xf4\\xe43g\\xfe8tx?\\x98\\xf2\\x1b7\\xae.\\xfch\\xd6\\xf4\\xc8\\t\\x96\\xe2\\x9f\\x1b\\x81\\n39\\xf9\\xd9\\xe9\\xd3\\x7f@\\xd5j6C\\xbb\\xb6\\x9d\\x92\\x93\\x9f\\x82m\\x01\\xf5Q\\xa9\\xa1\\xb4<\\x91\\xd6\\xa9S\\x7f\\xfd\\xba\\xad\\xd7\\xaf_\\xe9\\xdd\\'\"r\\xe6\\xc4\\xac\\xac\\xccE\\x1f}\\xa6R\\xa9^\\xbdU\\xb3\\xa6\\xad\\xea\\x84\\xd5\\x9f;?\\xf2\\xf8\\x89\\xa3f3\\x80\\xd5j\\xd4\\xa8i`\\xa5\\xa0\\xe0`\\x11\\'\\x84\\xf2E\\x94\\xb9\\x8c\\xd7\\xffL;\\xf5\\xd3\\xd3\\xe1\\x1f\\xe2\\x9f\\xc8\\x08\\xf7\\xca\\xff\\xfaw\\x197\\xf6\\xedn]{!\\x9e\\xfc\\xb8$\\xc6\\xcdK\\xdeo\\x86\\xf0/4\\x89\\xd4\\xe1\\x85\\x10\\xeeN\\xc6\\xc4\\xc4\\xc7\\t\\x8f\\xe2~\\xda\\xbb\\xbdr\\xe5\\xe0Re[\\x90H\\xe6\\x85*\\x05\\x83\\xa4\\xc7O\\x1c\\x89|w\"<\\x91\\xce\\x9e\\xb5\\x88*e\\xc3\\xe4\\xe2\\xcc{\\xa1)\\x16\\xf7i\\x0e\\x1e4\\x12\\xfeP\\xa9D4\\xf3R\\x06\\xba\\xd3)\\xb1\\x8c$\\x19\\xae\\xb3\\x8chEG\\x1c\\xf3\\xa2\\x0f\\x9dNf\\x1bYD\\x9c\\t\\xa4P\\x8dJ\\x7f2\\xa3\\xc4&\\x90\\xa221kWz\\x13H\\xcb\\xc0\\xac]\\xf1(\\xb3\\x0fG\\xa5\\x19\\x91\\xe6\\xbd\\x94\\x89&\\xa3h\\x90&#\\x06\\x88\\xe8\\x18\\x10Et\\x0612\\xa5\\xe4\\x8d\\xbaBE)\\xecE\\xe9\\x9b\\x12e\\xa7\\x95B\\xedD\\x1a\\xe8*I4\\xb9ZW/Q\\x8a\\x8e(\\xa2{V\\xb4W\\xd9Qg\\x0f&\"\\xc9\\x92\\xfc(G\\xa7E\\xed\\xfa\\xf9!\\x11\\x10k\\xe4\\xa8\\xf3\\x88\\x8aQW3\\x91d9\\xbc1\\xa1Z\\x03\\x07$\\x0e\"\\xba\\x1e\\xd1\\xe4h\\xd6\\xcf~\\xe8\\xe9\\xab\\x0c\\xace\\xef\\xe6e\\xc72\\xe6.\\xb0\\xd1\\x1bK1\\xd2\\xcd\\xb6\\xfe\\xe1\\xf8\\x8bt\\x97\\x9bm\\xaf\\xbe\\xbc-e\\xd8\\xb2p\\x9a.+S\\x1bw;\\xebi\\x9c\\xba\\xe3\\xb0\\x8aU\\xc2\\x9c\\x918\\x88\\xebdG\\xa7\\xd3\\xfd\\xf8i\\\\f\\x8a\\x96\\xd1\\x9a\\x9f\\x17h\\xe9)\\xca\\xfc\\xb5\\xb0\\xe1\\x99\\xab8\\x9b\\xc2/\\xca\\xe4H\\xe5H7\\xe9\\xe2^\\xbb\\x89\\x88~\\xc1$\\xe6\\x0c\\xd3\\x94N\\x9d:m\\xdd\\xba\\xd5\\xcb\\xcb\\x0bI\\r\\t\\xb7\\xd3\\xa5\\x1b3\\x90\\x88\\x8e\\x01\":\\x06$,\\xbat\\xe3\\xc0J84&\\xc302\\x19\\xcf)\\x93\\xa5\\x03\\x12y\\x17\\x03Dt\\x0c\\x90\\xc0\\xde\\x18 %\\x1d\\x03Dt\\x0c\\x10\\xd11@D\\xc7\\x00\\xa9H1@J:\\x06\\x88\\xe8\\x18 \\xa2c@\\xc2\\xa2\\x13\\x9b^\\xd2\\x80\\xe8\\x12\\xed\\xedB\\xc4\\xbc`\\x81\\x88\\x8e\\x01\":\\x06\\xc8\\xc3\\x11\\x06HI\\xc7\\x80\\x84#\\xefV\\xa8P\\x01I\\x13\\xa9\\x8a\\xae\\xd3\\xe9\\x92\\x92\\x92\\x904!1\\xa61@D\\xc7\\x00\\x11\\x1d\\x03Dt\\x0c\\x10\\xd11 a\\xd1u\\x92\\x8d\\x8f\\'U\\xd1\\xa1\\x8b\\x91\\x94\\xf4\\x92\\x86\\x98\\x17\\x0c\\x10\\xd11@D\\xc7\\x00\\x11\\x1d\\x03Dt\\x0c\\x10\\xd11@D\\xc7\\x00\\x11\\x1d\\x03\\x92\\x16]boLO\\x9a4\\xe9\\xaf\\xbf\\xfeB\\x86\\xb0#\\x9cW\\x00\\xf8\\xa4i\\xfa\\xe2\\xc5\\x8bH:H,\\xa2\\xd7\\x94)S|}}Ae\\x90\\xdb\\xf8\\xe9\\xe7\\'\\x8a\\x83\\x10\\xf1\\x90\\x98\\xe8\\xa1\\xa1\\xa1\\x8d\\x1b76Ma\\x18\\xa6E\\x8b\\x16HRH/v\\xdd\\xa8Q\\xa3L\\x8b6,\\x0f\\x1c8\\x10I\\n\\xe9\\x89\\x1e\\x18\\x18\\xd8\\xa6M\\x1b\\xae*\\x82b\\xde\\xb0a\\xc3\\xca\\x95+#I!\\xc9(\\x8dC\\x86\\x0c\\x01\\xcb\\x0e\\x0b\\x15*T\\x18:t(\\x92\\x1a\\xc27\\x19\\x1f\\xdc\\xce\\xd4\\xe40\\xb4\\x99)\\xb5f\\x1c\\xdd\\xb0(\\xdf\\x01u\\xf1\\x9aP\\\\s\\x05\\xf6\\xe2\\xd4\\xb1\\xe5\\xb0\\xe3\\xbf\\x9f\\xa8\\x17V\\x97\\xce\\xf1\\x8b\\xbeG\\x97\\x8f \\x00\\x00\\x10\\x00IDAT\\x9eE\\x19\\xdc\\xf2 \\x13\\xb7F&\\xfbd\\x91\\xb9\\x9f\\xe0RX\\x8a5:\\xd87{\\x184\\xad\\r\\x0esE\\x82\"d\\x93q\\xef\\xda\\xb8\\xc7\\xb1j8p\\xa6\\xd8\\rh\\x0b\\x1e\\xa2,\\xf8G\\xc6\\xe1MV\\x1f\\xd7\\x0b!\\x17O\\xd9\\x90Y\\xc1H \\x04\\x13}\\xff\\xba\\xf8\\xa4\\xb8\\xdc\\xe6==\\x82\\xaa{\\xa0\\xb2\\xc5\\xf3\\xa79\\x7f\\xecL\\xcc\\xcd\\xd6\\x8d]T\\x15\\t\\x810\\xa2o]\\x1a\\xab\\xc9\\xd5\\xf5\\x9dZ\\x8ab\\t\\t\\xce\\xef;\\xe3\\x1f\\xdf\\xcf\\x1d\\xbfX\\x00\\xdd\\x05\\xa8HS\\x9e\\xe4<\\x7f\\xaa-\\xdb\\x8a\\x03m\\xfb\\x05\\xc0\\xc3\\xd8\\xef\\xbb\\x05\\x98\\xcb\\'\\x80\\xe8\\xe7~I\\xb1\\xb3+\\x17\\x9e\\xbb\\x9d=e\\x0fo\\x0b\\xe0lR\\x00\\xd1s\\xb3XJ&\\xed\\x00\\xe1\\xc5De\\xa7\\xd4\\xe6\\tp\\xa6\\x024\\x19\\xf34l\\x9e\\xba\\\\\\xb8K\\xd7\\xe6\\xb1:!\\xce\\x94\\xb8\\xf2\\xe6\\x01<R\\x08R\\xb8\\x88\\xe8|\\xa0\\x11%\\x84\\x1d%\\xa2c\\x80\\x88\\xce\\x07\\x06\\xb1\\x0c\\xb2\\x1d\\x01D\\x87Gv\\xaa\\\\4^\\xf4\\xe6E\\x90pS\\x02\\x88\\x0e\\x8f\\xb4\\x82\\\\\\x7f\\t\\xc0\\x08\\x13n\\x8a\\x98\\x17>@I\\'\\x15iI\\xc3\\x98\\xf7\\x02\\xcf\\x17!l:-V`\\xbdR\\x87\\x8c--%\\x9de\\xc4\\n\\xacW\\xea\\xd0Q\\xa5\\xa5\\xa4\\xd3\\xfay\\x10\\xa8\\\\@\\t3\\x88\"\\x80Z\\x8c\\xde\\xc13*\\xfd|\\xfc\\xc9\\x9c\\xb7\\xa7\\x8cF\\xb6@\\t3\\xa8L*R\\x9e\\x90&cI\\xc3\\x08\\x13g\\x15\\x8f\\xe8\\x0f\\x1f\\xc6n\\xd8\\xb8\\xee\\xea\\xb5K0XX\\xbbv\\xdd\\x01\\xfd\\x86\\xd5\\xa9S\\x1f\\x19\\x1c\\x8a|\\xf7\\xfd\\xda\\xbf\\xcf\\x9d~\\xf2$1,\\xac~\\xef\\x9e\\xfd\\x9a5k\\xc5m\\x12\\x13\\x13}\\xe0\\xe0\\xee\\xcbW.$&>\\n\\xaa\\x1c\\xd2\\xb5k\\xaf\\x9eo\\xf4\\xe5V\\xf5\\xec\\xdd~\\xd8\\x901\\xa7N\\x9f\\xb8~\\xfd\\xca\\xfe}\\'\\\\\\x9c]\\xfe\\xfa\\xeb\\xcf/V-}\\xfa\\xf4I\\xd5*\\xa1\\xbdz\\xf5\\xeb\\xd2\\xf9\\r.\\xa7B\\xae\\xb8z\\xf5\\xd2\\xc7\\x8b\\xe7<\\x7f\\x9e\\n\\xab\\xde~{f\\xad\\x9aa\\xa8\\xf8\\x08\\xd4\\xe1%\\xc4>xF\\xf1\\xce\\xcb\\xcb\\x9b:}\\x9cL&[\\xbad\\xd5\\x8a\\xe5_\\xc9e\\xf2\\xd9s\\xa6\\xe5\\xe6\\xe6\\xc2\\xaa/W-\\xdb\\xbdg[\\xef^\\xfd\\xb7m=\\xd8\\xa6u\\xfb\\xf9\\x0bf\\x9e<u\\x9c\\xdbj\\xcd\\xda\\x15\\x17.\\xfc5\\xe5\\x9d\\xf7\\x96,\\xfe\\x12\\x14\\xff\\xe2\\xcb\\xa5\\x7f\\x9f;\\xc3\\xadR(\\x14?\\x1f\\xda[\\xb5j\\xf5\\xe5\\xcb\\xd68\\xd8;\\x80\\xe2s\\xe7G\\x8e\\x1e5\\tr\\xb6j\\xd5v\\xd9\\xf2\\x85\\xc7\\x8e\\x1f\\xe1r&=I\\x84+\\xf7\\xc1\\xac\\x8f`\\x95&O\\xb3\\xfc\\xd3\\x85\\xfc\\x86\\x88KO\\xdf\\x0b\\xe2\\x19\\xc5\\xfb\\xd1\\xa3\\xf8\\xd4\\xd4\\x94>o\\x0e\\x0c\\xadV\\x03\\xbe\\xce\\x9f\\xb7\\xe4\\xda\\xf5\\xcbP\\xc6\\xd5j\\xf5\\xd1_\\x7f\\x1e4p\\xc4\\x1b=\\xfa@z\\xd7.=o\\xde\\xbc\\xf6\\xc3\\xe6o@}\\xf8:w\\xee\\xe2\\xec\\xec,_\\x1f\\xfd\\x84\\xba\\x06\\xf5\\xc3\\x8f\\x1c9p\\xfe\\xc2\\xd9fM[\"\\xc3\\x0c^\\x17\\x17\\xd7\\xb7\\'Er\\xfb\\x87{\\xa8\\xf5k\\xed\":t\\x81\\xe5\\xc6\\xe1\\xcd\\xb2\\xb22aCn\\xd5\\xd3\\xa7I\\xeb\\xbe\\xda\\xec\\xec\\xa4\\x0f\\xd5\\xf5f\\xef\\x01\\x9f\\xaeX\\x94\\x9e\\x9e\\xe6\\xea\\xea\\x86J\\x16\\x0c\\x0fG\\xbe\\xbe\\xfenn\\xeeK\\x96}\\x18\\xd1\\xa1k\\xfdz\\x8d\\xc2\\xc2\\xea\\x81\\x88\\x90~\\xe3\\xc6U\\x8dF\\xd38\\xbc\\xb91\\'\\xac=|\\xe4@\\x1a\\xe8\\xe2\\xe2\\n\\x17\\xf6\\xa7\\x9f\\xb6\\x9f;\\x7f&.\\xee\\x81q?\\xc6\\x9c\\xd5Ckq\\x0b\\x0c\\xc3D\\xdf\\xbf\\xd7\\xc1\\xa08\\xc7\\x84\\xf1S\\x8c\\xcbU\\xaa\\x84r\\x8a\\x03\\xae.z\\xad\\xe1\\x0es-\\xfeT\"\\x81\\x9a\\x8cB\\x94t\\x8a\\xdf\\x1c \\xa5R\\xf9\\xc5\\xe7\\xdf\\xfcrh\\x1fX\\x12\\xb0\\xe0~~\\x01#\\x86\\x8d\\x8b\\x88\\xe8\\x9a\\x99\\x99\\x01k_n\\xd5\\xa5\\xa6$\\x83R\\xef\\x7f0%/O3v\\xcc\\xe4\\xfa\\xf5\\xc3\\xe1k\\x91l\\xb0On\\x01D\\x04\\xddU*;\\xb3?m\\xea\\x81\\x8a\\xe2\\x1f\\xf0\\x9d\\x82\\x9b\\x9a*\\x1d\\xc3u\\xac\\x8ew\\x8fD``\\xd0[\\x13\\xa6\\x8e\\x1c1\\xe1\\xf2\\xe5\\xf3P\\x96?Y2\\xafrP\\x88\\xa7\\x977\\xac\\x9a1}\\xb6\\xbf\\x7f%\\xd3\\xcc\\x15*\\xf8\\xdc\\xbdw\\xfb\\xf6\\xed[\\x9f._\\xdb\\xa8a\\x13.\\x11\\xae\\x90\\xb7\\x97\\x19wR*\\x95\\x8a\\xa6i0)H\\x04\\xf43\\xf7X\\x01\\xca\\xba0\\xfd\\xe9\\xbc\\x9eH\\x13\\x1e\\xc5_\\xbf~\\x19Z\\x14vvv-Z\\xb4n\\xda\\xb4e\\xe7\\xae-\\xef\\xde\\xfd\\xb7]\\xdbN \\x192\\x98l.\\'\\x98~\\xa8\\xe8\\x1c\\x1c\\x1c\\xd2\\xd2\\x9e\\xc3W\\xa3\\xca\\xb1\\xb1\\xf7\\xe1/8\\xc8\\xccL\\x1b\\xa8\\x9f\\xabW\\xafu\\xe3\\xe6Uc\\xca7\\xdf\\xae\\x06\\xab5i\\xe2td;<\\xefiK\\x08\\xd0z\\x81Z\\x94WI\\xcf\\xc8H\\x87\\x16\\xc5W\\xebV\\xc6\\'\\xc4\\x81\\x81\\xde\\xbam\\x03\\xd4\\xa2a\\xb5\\xeb\\x81\\xb8#\\x86\\x8f\\x87\\x9a\\x933\\xee\\xd0n\\x89\\x9c9q\\xe5\\x17K`\\x13h#\\x82e\\xd8\\xb1sszF:47W\\xad^\\x0e5db\\xd2c\\xb3\\xfb\\xef\\xd9\\xa3/\\xb4s \\xf3\\x95\\xab\\x17\\xf7\\x1f\\xd8\\xfd\\xe3\\xf6M\\xc1\\xc1\\x02M\\x84\\x92n;\\xbdF\\xf5Z\\xd3\\xa7}\\xb0q\\xd3\\xd7;wm\\x81\\xaf\\xe1\\x8d\\x9a~\\xb6b]PP\\x08,\\x0f\\xe8?\\x0c\\xea\\xbam\\xdb7\\x82\\xd9qtt\\xaa]\\xab\\xee\\x8c\\x19s \\xbdbE\\x9f\\xd9\\x1f,\\xda\\xf4\\xc3\\xfa\\x9e\\xbd\\xda\\x81\\xf1\\x99=\\xeb\\xa3\\xe4\\x94gs\\xe7E\\x0e\\x1f\\xd9w\\xd3\\x86\\xddE\\xf6\\xdf\\xa9S\\xf7\\xf4\\x8c4\\xc8\\x9c\\x95\\x95\\xe5\\xe9\\xe95n\\xec\\xdb\\xd0\\x10BB@\\xf1l\\x1c[\\xdc\\x8f\\xeds\\x19w~\\x16\\x97\\xfa$o\\xd0\\xac\\x10T\\xd69\\xba\\xe1Qrb\\xee\\xf8%\\xb6\\x9e)\\xe9\\x06\\xc0\\x80@\\xed\\xf4\\xf22\\x8a!\\x0c\\x02\\rb\\x94\\x8fQ\\x0cV\\xa0\\xa2E\\xcc\\x0b\\x0f(\\x81\\x8a\\x96@\\xf3^\\xca\\x87u\\xd1?\\x91\\x94\\x92\\'\\xd2\\xf2#:k\\xe8\\x07@6#\\x80\\xe8\\x8c@\\x13\\x13$\\x80\\xa4\\x071\\xa4\\n\\x99\\xb5\\x8b\\x81\\xd23\\x88A\\xcb\\xca\\xcd\\x14\\x0cZ\\x98\\xdaK\\x08\\x9b\\xae\\x93\\xc6\\x14\\x0c\\x01 6]\\xba\\x10\\xd11 \\x80\\xe8\\n%\\xa5(\\x1f\\xef\\x91\\xd2r\\x9d\\\\!\\x80%\\x15\\xa0\\x06tp\\xa5\\xc1\\xac\\xa3r\\x80:\\x97U9\\x08\\xd1\\xf4@6\\xd3\\xb6\\xaf\\x97:\\xbb\\\\\\xd4\\xa4\\xe9\\xcf4\\xc1\\xb5\\xed\\x91\\xcd\\x08 \\xba\\xd2^\\xe9\\x1d\\xa0\\xd8\\xf9i4*\\xd3\\xfc\\xf2]\\x8cL\\x81Z\\xbeQ\\x11\\xd9\\x8c`\\xaeG\\x8e\\xff\\x98x\\xf7Zf\\xdd\\xd7\\\\\\xeb\\xb6\\xf2Fe\\x8b\\xd8[\\xe9\\x97~{&\\x93\\xd3Cg\\x07!!\\x10\\xd2\\xc9\\xce/\\x1b\\xe2\\xe2\\xee\\xa8uy\\xfaI\\x19\\x96\\xba\\x9e)\\xd6\\xf2*\\xcbSb_\\xb1\\x15\\x7f\\xcf;\\xe670x82\\xf3\\xfb2\\x18\\xa2\\x91!\\x0f_y\\xbfiAH \\x84w\\x86\\t\\x03\\xf9iOuz\\x8f@\\xa6?S (\\xe7\\xd9\\x895~a\\xcd\\xad(r\\x01\\xf4\\x1e\\x9f\\xa8\\xfc\\x8c\\xc6M\\xa6O\\x9b6\\x7f\\xfe|W77\\x8a\\xbb(T\\xa1\\'\\x17\\xfd&t\\xc1\\xc9\\x15\\xb8\\x99b\\xf56\\xb5P\\xce\\xfc\\ri\\xfd\\xc3\\xcfK(\\x1d\\x91\\xab\\xab\\x12\\t\\x8a\\xf0\\xedt\\xa5R\\xe9\\xed\\x8fJ\\x80\\xc7\\xc9w\\xbc\\xfc\\x94nn\\x02+R\\x02H\\xf8\\xe1H\\xba\\x81\\x1a\\x89\\xe8\\x18 \\xa2c\\x80\\x88\\x8e\\x01\\x12y\\x17\\x03Dt\\x0c\\x10\\xd11@D\\xc7\\x80\\x84C\\xd8\\x13\\xd1K\\x1aR\\xd21@D\\xc7\\x00\\x11\\x1d\\x03`\\xd3\\x15\\n\\x05\\x92&\\xa4\\xa4c\\x80\\x88\\x8e\\x01\":\\x06\\x88M\\xc7\\x00)\\xe9\\x18 \\xa2c\\x80\\x88\\x8e\\x01b\\xd31@J:\\x06\\xa4z\\xdcP\\xcc+V\\x14`\\x86\\x1b\\x16$l^\\x92\\x92\\x04\\x089\\x84\\x05\\x12c\\x1a\\x03Dt\\x0c\\x10\\xd11@D\\xc7\\x00\\x11\\x1d\\x03Dt\\x0c\\x10\\xd11@D\\xc7\\x00\\x11\\x1d\\x03Dt\\x0c\\x10\\xd11@D\\xc7\\x00\\x11\\x1d\\x03Dt\\x0c\\x10\\xd11@D\\xc7\\x80\\xf0oL\\x8b\\xca\\xb8q\\xe3\\x1e<\\xd0\\xc7\\xc4\\x00\\xc5SSS\\xed\\xed\\xedu:\\x9dF\\xa3\\xb9|\\xf92\\x92\\x0e\\x12\\xf3x6r\\xe4H\\xb5Z\\x9d\\x9c\\x9c\\x9c\\x96\\x96F\\xd34,\\x83\\xfa\\xbe\\xbe\\xbeHRHL\\xf4\\xe6\\xcd\\x9b\\xd7\\xaf_\\xdf4\\x05Jz\\x91\\x94\\xd2\\x8f\\xf4|\\xfb\\x8d\\x1e=\\xda\\xcd\\xad 2\\x91\\x8f\\x8f\\xcf\\xc0\\x81\\x03\\x91\\xa4\\x90\\x9e\\xe8u\\xea\\xd4\\t\\x0f\\x0f\\xe7\\xaa\"\\x86aj\\xd6\\xac\\x19\\x16\\xc6\\'\\x14Z)@\\x92^,\\xa1\\xb0C\\x01\\x87\\x05oo\\xef\\xc1\\x83\\x07#\\xa9!I\\xd1\\xabU\\xab\\xd6\\xa4I\\x13\\xa8BCCC\\x1b5j\\x84\\xa4\\xc6\\x7f4\\x19\\x8fm\\x7f\\x14s#\\'O\\xcd\\xeat\\x85\\xb71q\\x7fZ\\xe4+z\\xd9G\\xd1+\\x9d\\x0f\\xbd\\xec\\xb5\\x88*N\\xd4\\xcf\\x97\\xf6\\xf9\\xf2Vf\\xf7c>\\xd1\\x82[#\\x0b\\x99\\x8b\\x9e\\xaf\\x11Z\\x06\\x0f\\x10\\xc8;@\\xf1\\xe6\\xe4\\xca\\xc82\\xaf\\x12\\xfd\\xc4\\xce\\xc4;\\x972\\x83\\xc3\\x9cC\\x1b9\\xd1\\xf2\\x82\\x89\\x834\\x8b\\x18\\xaa\\xe0\\x98\\x8c_\\xf3\\xd7\\x1a\"\\x1f\\x99\\xeaH\\xb3\\x14czJ\\x067E\\xc6\\xf31]\\xcb\\x1a\\xdc\\x0c\\xbd|\\xcd\\xf4\\xa9\\xa6\\x07\\x9d\\x9f\\\\\\xf8\\x84u\\x14#+\\x9c\\xc6\\xe8\\x9d\\x1b\\xa1\"\\x1b\\x16\\xd67\\xff\\x17u\\x14[\\xb0m\\xc1\\xefSzgGE~\\xbc\\xd0\\xf9\\x1694J\\x8b\\x1e\\xdcM\\xbb{9\\xcdN%\\x1b2;\\x18Y\\xc0\\xa2\\xe8;V<HK\\xc9\\x1b8\\xb3*\"\\xf0\\xe7\\xe07\\xb19\\xe9\\xba\\xd1\\x0b\\xcd\\x07\\xb52o\\xd3\\x13b3\\x93\\x1f\\x13\\xc5\\xad\\xa7\\xc7\\xd8 \\x9d\\x8e\\xfdm\\xcb#\\xb3k\\xcd\\xf7\\xbd\\x9c?\\x9cj\\xef,C\\x04\\x1b\\xf0\\xf2\\xb7K\\x88V\\x9b]e\\xbe\\xa4\\xe7f\\xe8\\xe4J\\x12\\xba\\xc8&\\x9c\\xdd\\x95\\x1a\\xb5y\\xd3m\\xbe\\xa4k\\xd4\\x88e\\x88\\xe86\\xc1j\\xa9<\\xb5yo\\xb8\\xc4\\x957\\x06\\x88\\xe8\\x18 \\xa2\\x8b\\x06EY\\x8a\\xa8LD\\x17\\r\\x96\\xb5\\xf4\\x0cd^t}4\\x9fr\\xe1\\x86\\x1e\\x0f\\x16J:K\\x11\\xd1\\xc5\\xc3|;\\x9d\\x95\\xd6\\xc8ii\\xc5R\\xa3\\x9b\\xd8t\\xd1\\xb0\\x1cz\\x9d\\x88.\\x1a\\xac\\xc5HT\\x96*Rb\\xd3E\\xc4\\x82Mg\\x88Q\\x17\\x11\\xf3\\xa2\\xd3\\x14\\xdf@\\x13\\x043X\\x92\\xd0\\xbc\\xe8\\xfa8\\xdde\\xb7\\xa4\\xdf\\xbf\\x1f\\xd5\\xb6}\\xf8\\xf5\\xebW\\x90\\xc8X\\x92\\xb0<V\\xa4nn\\xee\\xc3\\x86\\x8e\\xa9P\\xc1\\x07a\\xa2<V\\xa4\\x1e\\x1e\\x9e#GL@bc9\\xf4\\xb6y\\xd1\\r\\x15)?\\xa3\\xfe\\xf0a\\xec\\x86\\x8d\\xeb\\xae^\\xbb\\x04[\\xd6\\xae]w@\\xbfau\\xea\\xe8g\\xbbu\\xe9\\xd6j\\xf8\\xb0q\\x03\\xfa\\x0f\\xe3\\xb2-[\\xbe0:\\xfa\\xee\\xd7\\xeb\\xb6\\xc0r\\xaf7;\\x8c\\x18>>>\\xfe\\xe1\\x9e\\x9f~\\x84\\xd2\\xd7\\xbc\\xd9k\\x93\\'E~\\xb2d\\xee\\x993\\'+U\\xaa<d\\xd0\\xa8\\x8e\\x1d\\xbbA\\xb6\\x05\\x0b\\xdf\\x87\\x9e#X\\xbb|\\xc5G2\\x99\\xacF\\xf5\\xda\\x1f\\xce_\\xbao\\xff\\xaeM?\\xacwqq\\xed\\xd4\\xb1\\xfb\\x84\\xf1S\\xb8\\xae\\xa5\\x9f\\xf6\\xee\\xf8\\xfb\\xef?\\xff\\xfd\\xf7\\xa6R\\xa5\\xaaW\\xb7\\xe1\\xe8\\xd1\\x93\\xfc\\xfd\\x02 }\\xcfO\\xdb\\xb7\\xfd\\xb8a\\xda\\xd4Y\\xf3?\\x9c\\xd9\\xabW\\xbfn]z\\x8d\\x1e;\\xe0\\x8b\\xcf\\xbf\\xa9Z\\xb5z\\xb7\\x1e\\xad\\x8b\\x9c\\xc8\\x8c\\xe9\\xb3\\xbbw\\xeb\\r\\x0bG\\x8e\\x1e<ppOLLTpp\\xd5vm;\\xf6ys \\xc5+\\x04\\xac\\xe5&\\xa3y\\x9bn\\xb9\\x83\\xcc<\\x1a\\x8df\\xea\\xf4q\\xa0\\xc8\\xd2%\\xabV,\\xffJ.\\x93\\xcf\\x9e3-77\\xf7\\xd5[)\\x14\\x8a\\xed;6\\x05\\x06\\x06\\x1d=|v\\xcc\\xe8I\\x87\\x8f\\x1c\\x986}\\\\\\xfbv\\x9d\\x7f;\\xfaw\\xdb\\xd7#@\\xe2\\x8c\\xcc\\x0cd\\x98\\x15}\\xf3\\xd65\\xf8\\xdb\\xb5\\xe3\\xf0\\xba\\xb5\\x9baa\\xca\\xb4\\xb1\\x0c\\xa3\\xfb\\xf9\\xc0\\xc9\\xf9\\xf3\\x96\\xec\\xdc\\xb5\\xe5\\xdc\\xb93\\x90\\xed\\xc6\\x8d\\xab\\xabV/\\xaf]\\xbb\\xde\\xc2\\x85\\x9f\\xbe\\xff\\xde\\x82\\xd4\\xd4\\x94\\x8f?\\x99\\xc3\\xfd\\x90R\\xa9\\xcc\\xce\\xce:p`\\xf7\\xac\\xf7\\x17\\xf6\\xee\\xd9\\xcfx\\x00*\\x95\\xea\\xb3\\x15\\xeb\\x8c\\x7f\\x9d;\\xf5\\x80S\\x08\\r\\xad\\t\\xab\\x8e\\x1d?\\xb2t\\xd9\\x82\\xd0j5\\xb6m9\\x00\\xc7\\xb6{\\xcf\\xb6\\xd5kW ^\\xe8\\xc3\\xf4\\xf2\\xe9e4t\\x90\\xf1P=.\\xee\\x01\\x9c$\\x94\\x058J\\xf8\\nZ\\\\\\xbb~\\xb98\\xf3\\xc7\\xabU\\xad\\xf1F\\x8f>\\xb0\\xf0z\\x9b\\x88OW,\\x82[\\x04\\xe4\\x86\\xafm_\\xef\\xf8\\xc3\\xe6o\\x1f>\\x88\\x81\\x14d\\xb8\\xa8p\\x13\\xc0Eruu\\x0b\\t\\xae\\xaa\\xd5i9\\xfb\\xd0\\xa0~8\\xdc\"\\xd1\\xf7\\xef5k\\xd6\\xaaV\\xad:\\x1b\\xbe\\xdb\\x19\\x10\\x10\\xc8y<\\xd2\\xe6\\xe5}0gZZz\\x9a\\xab\\x8b+\\x9c<\\x94\\x80\\x01\\x03\\x867l\\xd0\\x18\\x19*R\\xee\\xd7Ab\\xd8\\x03\\xb7\\x1c\\x15u\\xf7\\xf8\\x89#p7p\\xa7p\\xe8\\xd0\\xbe\\xbau\\x1bL\\x9d\\xf2>,\\xbb\\xbb{\\x8c\\x1c>a\\xd9\\xa7\\x0b\\xe1\\xe6\\x83eTL\\xf4az\\xf9\\xf42\\xf2\\x05N\\x15N~\\xc9\\xb2\\x0f#:t\\xad_\\xafQXX=\\xe3\\xc9\\xbc\\x1a(\\xe6\\xdc\\x82\\xa3\\xa3#|\\x06\\x05\\xe5\\xcfY\\xb0\\xb7w\\x80\\xcf\\x8c\\x8ct\\xee\\xab\\xbf\\x7f%\\xa3\\xc7.{\\x07\\x07O\\x0f/\\xe3\\x1e\\x1c\\x1d\\x1c3\\r7\\x04(\\xf8\\xe8Q\\xfc\\x9a\\xb5+\\xfe\\xbd}3++\\x8b[\\xfb<5\\x05D\\xe7\\x96\\xc1.Y:\\x8c\\xec\\xec\\xec9\\xf3\\xa6w\\x8c\\xe8\\xd6\\xadk/d\\x98\"\\t\\xf7\\xd3\\xb0\\xa1c\\x8d\\x19\\x1a4h\\x0c\\x89\\xd7o\\\\i\\xd3\\xba=*&|K:MS\\x0c\\x9f\\x8a\\x14\\xeeS0\\x91\\xbf\\x1c\\xda\\x07\\xb7\\xe1w\\xdf\\xaf\\xf5\\xf3\\x0b\\x181l\\\\DD\\xd7\\xff\\xdc\\xb0\\xc8a\\xd1\\x16\"\\x84\\x17I7\\x9b\\rj\\x829\\xf3f\\x0c\\x1e4r\\xfc\\xb8)U\\xaaT\\xbbx\\xe9\\xdc\\xcc\\xf7&\\x9bf\\x00#\\x83,\\xb0\\xe8\\x93\\xd9\\xae.n\\\\\\xb9F\\x86\\x1b+//\\x0fN\\x04\\xfeL\\xb3\\xc1\\xdd\\x8c\\x8a\\x0f\\x83\\x10\\xaf\\x92\\xce\\xf0\\xafH\\xa1\\xcc\\xbe5a*\\xdc\\xf5\\x97/\\x9f\\x07\\xeb\\xfc\\xc9\\x92y\\x95\\x83B\\xb8[\\xd5\\x14\\x1d\\xa3C\\xe2\\xf0\\xf3\\xa1\\xbdPu\\x83\\xfd\\xe5\\xber\\xc5\\xbf8\\xec\\xd8\\xb9\\x19\\xea\\xde\\xf5\\xeb\\xb6\\x1a=\\xb1\\xd9\\xd9\\xd9988@\\xc1o]\\xb8\\\\\\xfb\\xf9\\x06 >\\xf0k\\xa7CI\\xe7\\x15K\\x17\\x9a.\\xb7\\xfe\\xb9\\xde\\xa5\\xf3\\x1bp\\xb8-Z\\xb4n\\xda\\xb4e\\xe7\\xae-\\xef\\xde\\xfd\\x17DW*U99\\xd9\\xc6\\x9c`\\xfd\\x918\\xa4\\xa7\\xa7\\xf9T,x%\\xe3\\xcf?O\\x14g\\xab\\x9b7\\xafAq\\xfe|\\xc5\\xd7\\xde\\xde\\x15L\\xd3\\xabT\\t\\x85j\\xdch$\\xa1\\xe0?~\\x9cP\\xa1\\x02\\x1fWm\\x96\\x9b\\x8c\\x16\\x9eH\\x19\\x96W;\\x1dN\\x18\\xda\\x82_\\xad[\\x19\\x9f\\x10\\x07\\xb2n\\xdd\\xb6\\x01j\\xd1\\xb0\\xda\\xf5`\\x15\\xd4o\\'O\\x1d\\xcf\\xcc\\xcc\\x84\\xe5\\xcd[\\xbe{\\xf6\\xec\\t\\x12\\x87\\xaaUB/\\\\\\xfc\\xfb\\xca\\xd5\\x8b\\xf0\\xd3\\xbbvo\\xe5\\x12\\x13\\x93\\x1e\\xbfb\\x93\\xe7\\xcfS\\xe7/\\x98\\xd9\\xa6M\\x07M\\x9e\\x066\\xe4\\xfe\\xb8jv\\xec\\xe8\\xc9g\\xce\\xfcq\\xe8\\xf0~0\\xe5\\xd0.Z\\xf8\\xd1\\xac\\xe9\\x91\\x13\\xc0\\xec\\xa0\\xe2\\xc3\\xb7\\x97\\x91/PsN\\x9f\\xf6\\xc1\\xc6M_C\\x03\\x0e\\xbe\\x867j\\n-\\xb0\\xa0\\xa0\\x10X\\x86V\\xc7\\x8a\\x15\\x8bz\\xf4|\\x1dn\\xde\\xfe\\xfd\\x86B\\x8b\\x10\\xec\\x0f\\x12\\x81Q\\xa3&B\\xbbp\\xce\\xdc\\xe9999o\\xf6\\x1e\\x00\\xadF(\\x9b\\xef\\xcfzg\\xf6\\x07\\x8b,m\\x02m\\xcd\\x94\\x94\\xe4c\\xc7\\x0e\\xc3\\x9f1\\xb1\\xf5k\\xed\\x16|\\xb8\\x0c,\\x15\\x18\\x1c(=_\\xaf\\xff277\\xa7v\\xad\\xba\\x8b>\\xfa\\x0c\\xaa.$\\x04\\xe6\\'\\x90n\\xfe\\xf8\\x01\\xa3\\xa3\\xde\\x9c\\x12\\x88\\x08\\xd6\\xf2\\xf7\\xc1\\xa7\\xf7\\xae\\xa4O\\\\af\\x0e\\xa9\\xa5\\x8aT\\xdflB\\x04\\x1b\\xd0\\xcf\\x17G\\xfc\\xda\\xe9,\\xbfGR\\xc2\\xcb\\xf0m\\xa7\\x13\\x04\\x80\\xef\\x13))\\xe5\\xa2b\\xa9\\xef\\x85\\x0c\\x91\\x8a\\x88e\\xf3B\\x06Im\\xc4r\\xad(\\x7f\\xc56\\x88`\\x0b\\x96\\xc7\\xf6IE\\x8a\\x01K\\xbdz\\x14\\x99\\r \\x1e\\xc2\\xf4\\xbd\\x10xA\\xcc\\x0b\\x06\\x88\\xe8\\x180o^\\x14J\\x9a\\x96\\x13\\xfbb\\x13\\xb4\\x1c\\xc9\\xe4\\x16\\\\\\x08\\x98MU(Y\\x06\\x91\\x0e/\\x9b\\xc8\\xceR\\xcb\\x14\\xe6\\x0b\\xaey\\xd1\\x83\\xeb9\\xe6\\xa6\\x93\\x92n\\x13\\xc9\\tZO\\x1f\\xf3\\xfd\\xef\\xe6E\\x0fo\\xe7\\x05\\x83\\xef\\xbfm\\x11kh\\xad\\xcc\\xf386=7S\\xfb\\xe6\\xe4Jf\\xd7\\xbe\\xca\\xf5\\xc8\\xb7s\\xa3U\\x8e\\xa8\\xd7[U\\x10\\x81\\x0f\\xa7\\xf7?\\x8e\\xb9\\x915f~\\xa0\\xd2\\xc9\\xfc\\xfc\\x83\\xffp\\xb2\\xb3\\xe9\\xa3\\xfbYi\\x0c-C:\\xad\\xf9:A\\xdfY\\xa0\\xdf\\x85\\x99\\xb5\\xf9nSL\\xbc\\xe1\\x182\\x1b\\x1f\\x00X\\xd3\\xb9\\xc4&>^\\n\\xd2\\x8d\\x89F\\xbf6z\\xef*l\\xa1]\\x15v\\x0e\\xc3\\xbeXS8\\x85*\\xe8Iz\\xc9W\\x8c\\xc1\\xfb\\x8c\\xf1\\x8b\\xfew\\xf2\\xf7`\\xd8\\xe8\\xc5\\x91\\x149\\x00\\x96E\\x05_\\x86\\x01\\xb4\\x04\\x00\\x00\\x10\\x00IDAT\\x0b\\x0eX\\xa6\\xa0ty\\x8c\\xd2\\x1e\\x8d\\x9a\\x17,SZ\\xf4h\\xf1\\xdf\\xce059\\x9a\\xcb\\xa7\\xd24\\x99\\x163\\x18\\x8e\\x93\\xb5\\x94^H\\xdaB\\xa7\\\\\\xc4\\x97\\x0eef\\xca\\x02k\\xb2\\xc5K\\x17\\xe2\\xcc\\xe9?\\xc3\\x1b7V\\xaa\\xec\\xa8\\xa2\\xd7\\xcbtW/\\x04D\\xec\\xcb{}\\xf9\\xa7\\xf3\\xc5\\xcc\\xcfa\\xf2_\\xe1\\x03\\xe0\\xae\\xcd\\xcb{S\\xa8\\xa8J\\xb5T\\x01!\\xce\\xe8\\x95H\\xcc\\x03\\xa9)\\x1d:t\\xd8\\xb5k\\x97\\xbb\\xbb;\\x92\\x1a\\x12~8\\x92n\\xa0F\":\\x06$,\\xbat\\xe3\\xc0JXt\\x9dNGJz\\x89\\x02\\xb6E&\\x93\\xaa\\x971\\x12\\xee\\x18\\x03Dt\\x0c\\x10\\xd11@D\\xc7\\x00\\x11\\x1d\\x03Dt\\x0cH8\\x84\\xbdD\\x9f\\x8c\\x10)\\xe9X \\xa2c\\x80\\x88\\x8e\\x01b\\xd31@J:\\x06\\x88\\xe8\\x18 \\xa2c\\x80\\x88\\x8e\\x01R\\x91b\\x80\\x94t\\x0cH\\xf5\\xb8)\\x8a\\xf2\\xf4\\xf4D\\xd2D\\xaa\\xa2\\xc3\\x00ijj*\\x92&$\\xc64\\x06\\x88\\xe8\\x18 \\xa2c\\x80\\x88\\x8e\\x01\":\\x06\\x88\\xe8\\x18 \\xa2c\\x80\\x88\\x8e\\x01\":\\x06\\x88\\xe8\\x18 \\xa2c@\\xaa\\xa2C\\xbf.\\xf4\\xee\"iBJ:\\x06\\x88\\xe8\\x18 \\xa2c\\x80\\x88\\x8e\\x01\\x89\\xbd\\xbc;~\\xfc\\xf8\\xd8\\xd8X\\xa8E\\xe1\\xb0\\x1f?~\\xec\\xeb\\xebK\\xd34\\x0ch\\x1c:t\\x08I\\x07\\x1aI\\x8a\\xbe}\\xfbB\\xa3%111))\\t\\xe4\\x86O\\x90\\xfe?\\xc3\\xcc\\x946$&zDDDHH\\x88\\xe9\\xdd\\xc90L\\x8d\\x1a5\\x90\\xa4\\x90\\x98\\xe8\\xc0\\x88\\x11#\\\\\\\\\\\\\\x8c_\\xdd\\xdc\\xdc\\x06\\r\\x1a\\x84$\\x85\\xf4Do\\xd5\\xaaU\\xcd\\x9a59\\xf7\\xee\\xf0\\t\\x05\\x1fR\\x90\\xa4\\x90\\x9e\\xe8\\xc0\\xe8\\xd1\\xa3\\xbd\\xbc\\xf4\\xa1\\x8e\\x9c\\x9c\\x9c\\xfa\\xf5\\xeb\\x87\\xa4\\x86$Eo\\xd4\\xa8Q\\xed\\xda\\xb5\\xa1\\xd1\\x12\\x18\\x18\\xd8\\xb1cG$5\\xaco2^=\\x99|\\xe3tzN\\x16\\x93\\xa76\\xd9\\x9d\\xa9{\\x1b\\x19bu/\\x9c\\xdc\\x14\\xf6-\\xc4R,z\\x11G\\x89\\xa6\\x911\\x12D\\x11GA\\xdcV\\x05\\xde\\x8ch\\x96e\\x8c\\x0emX\\xb0-4ep\\xc7\\xcfe+\\xb4\\xb6\\x90\\x0f$\\xceC\\x91\\xe9\\x8f\\xa2\\xa2n\\x96\\x0cGB\\xb1L\\xe1\\xe8N\\xa6\\x87mD\\xa1\\x82\\xa7\\x04\\x14\\x14\\xe6\\xd0\\xae\\x9f/\\xb2\\n+E?s\\xe0\\xe9\\x8d3i\\xee>J/_\\x15\\xcb\\x9a\\xde.E\\xbd\\nq\\xa2\\x15\\xf6\\x17E!\\x8a1\\xf1\\x07Td\\x13T\\xc4\\xc5\\xd1\\x8b=\\xbc\\xec\\x91\\x08\\x99\\xcdfa\\xb5\\xe1W\\xa8WmRh\\xfff\\x9c$\\x15\\x1ccZrN\\xca#\\xad\\xb3\\x87l\\xc0\\x8c\\xca\\x88?\\xd6\\x88\\xfe\\xd3\\xaa\\xb8\\xa7\\t\\xeaA\\xb3\\xaa\\xa2\\xf2\\xcd\\x9e/\\xef#\\x86\\x1a1?\\x18\\xf1\\x84\\xb7M\\x8f\\xbe\\x91\\x91\\xf4\\x90(\\xae\\xa7\\xcf;!Z-{\\xe4\\x87G\\x88\\'\\xbcE\\xbfp4\\xd9\\xc9C\\xaa>?\\x04\\xc7\\xaf\\x9a}\\xdc\\xddl\\xbe[\\xf1\\x16=\\'\\x93ut\\x91\\xea\\xc4p\\xc1\\xf1\\r\\xb0\\xd7ix\\xdbg\\xde\\xbd\\x8c\\x1a5\\xa3\\x95\\xea\\x88\\x8d\\x08\\xc8\\xe8\\xbc<\\xde\\xee\\xfd\\x89+o\\x0c\\x10\\xd11\\xc0[t\\xbe1\\xbf\\xcb6\\x14m\\x8d\\x1a\\xbcE\\xd7\\xb7\\xeb\\x89g\\xf5\\x17\\xb0\\x8c5\\x0f\\x97\\xd6\\x98\\x17V\\x92\\x1d6\\xa5\\x08\\xabl\\xbaT\\xbd\\xf3\\n\\x0feUh\"R\\x91b\\x80\\x7fE\\n={4\\xa9I\\xf3\\xb1.\\xb2\"\\xff\\x8a\\x94a\\xf5\\xa1\\xa7\\x086@\\xcc\\x8b\\x8dP\\xa8\\x04Z/\\x94\\xde\\xc0 B>\\x14\\xb2\\xa2\\xa1\\xce\\xbf\\xa4S\\xa4\\xf1b\\x02k\\x8dU\\xb7\\xaa\\xc9]jT\\xef\\xd9\\xbb\\xfd\\x0f\\x9b\\xbf\\xe5\\xbb\\n;\\xd6<\\x91J\\xa2\\xa4\\xf7\\xef7\\xb4V\\xcd:Hd(n\\xe4\\x91\\'e\\xb6\"\\x1d4p\\x04\\x12\\x1f\\x18e\\xb5\\xe2\\xf9\\x9c\\xf7\\x16\\xfaj\\x83g\\xcd\\xa1\\xd3\\xe9\\xb6\\xef\\xf8\\xa1K\\xb7V\\xf07#\\xf2\\xad\\x1b7\\xae\\x1aW\\x81\\x05\\x18<\\xb4W\\xa7.-\\x86\\x0e\\x7fs\\xc5g\\x1fsS\\x88bb\\xa2\\xdb\\xb6\\x0f\\xbfu\\xeb\\xfa\\x94icaa\\xe0\\xa0\\x1e\\xfb\\x0f\\xec~\\xf80v\\xf8\\xc8\\xbe\\xed#\\x9aLz{\\xe4\\xed;\\xff\\x98\\xee\\x7f\\xef\\xbe\\x9d\\xe3\\'\\x0c\\xe9\\xfeF\\x9by\\xf3\\xdf}\\xfe<\\xdf5\\x86\\xd1\\xbc\\xc0\\xda7\\xfbv\\x84\\xcdG\\x8e\\xee\\x07{\\x1b=v\\xc0\\x91\\xa3\\x07\\x8d\\xdb\\xc2\\xaf\\xcc|o\\xf2\\x1b=\\xdb\\xc2\\x01\\xac\\xfd\\xea\\xf3\\xac\\xac,\\xc4\\x0b\\xabn{+l\\xba~\\xda\\x03\\xaf\\r\\xd6\\x7f\\xb3j\\xff\\xfe]\\x0b\\x17|:\\xe7\\x83\\x8f\\xbd\\xbd+\\xbe7\\xebm\\x90\\x00\\xd27l\\\\\\xb7o\\xff\\xce\\xb7\\xc6O\\xdd\\xbd\\xeb\\xe8\\xe8Q\\x13\\xff8\\xf9\\xdb\\xae\\xdd[\\x91\\xe1\\xd5\\x16\\xf8\\\\\\xbd\\xe6\\xd3\\xe1\\xc3\\xc6\\x9d8v\\xa1vX\\xbdo\\xbe]\\xb5\\xf2\\x8b%\\xef\\xcd\\xfc\\xf0\\xe8\\xe1\\xb3*\\xa5\\xea\\xcbU\\xcb\\x8c;?|x\\x7fjj\\xf2\\x84\\tSg\\xcfZt\\xf5\\xeaE\\xd8\\xaa\\xc8\\xaf\\xc3\\xde233`\\x93wg\\xcc\\x85\\xbd\\xb5i\\xdda\\xd9\\xf2\\x85II\\x89\\xb0*>!.r\\xe6\\xc4\\\\u\\xee\\xeaU\\x1b>Z\\xf0\\xe9\\xfd\\xfb\\xf7\\xa6M\\x1f\\x07E\\x04\\x89\\x8c5\\x15)/\\xab\\x9e\\x96\\x9e\\xb6s\\xd7\\x96\\x01\\x03\\x867\\x0eo\\xd6\\xb2e\\x9b\\xc8\\x19s\\xc2\\x1b5KNy\\x96\\x91\\x99\\xf1\\xe3\\xf6MC\\x87\\x8ci\\xd5\\xeaug\\'\\xe7\\xd7\\xdbt\\xe8\\xdd\\xab\\xff\\x96\\xad\\xdf\\x19\\xdf$j\\xdf\\xbes\\xc3\\x06\\x8d\\xa1A\\xf6z\\xeb\\x0eP\\x00\\xdfx\\xa3o\\xad\\x9aar\\xb9\\xbcu\\xeb\\xf6QQw\\x8c\\xc7`\\xef\\xe00r\\xc4\\x84\\x06\\xf5\\xc3\\x9b7\\x7f\\xad{\\xf77O\\xfdyB\\xa3\\xd1\\x149\\x06\\xd8\\'\\\\\\xbfZ\\xb5\\xea\\xc0\\xde:u\\xec\\x0e\\xdb\\xc2\\x1e \\xfd\\xd8\\xb1\\xc3\\n\\xb9\\x02\\xe4\\x0e\\x0c\\x0c\\n\\n\\n\\x89\\x9c1\\xf7^\\xd4\\x9d\\x0b\\x17\\xffF\"\\xc3[t\\xbe\\x15ilL4|\\xd6\\xa8Q\\x9b\\xfb\\n\\xaa-\\\\\\xb0\\x1c4\\x8a\\x8b{\\x00Z\\xd4\\xac\\x19f\\xcc\\x19\\x1aZ3333!!\\x8e\\xfbZ\\xa9R\\x10\\xb7\\xe0\\xe8\\xe4\\x04\\x9f!\\xc1\\xf9\\xf3\\x0f\\xec\\xed\\xecaC\\xa3\\xb2p\\t\\x8d-e\\x90\\x15V=K~\\xfa\\xf2a\\x18\\x0f\\xc0\\xd9Y?\\xf9\\x14\\xca>\\xd2\\xdb\\x96k\\x90\\xee\\xea\\xea\\xc6\\xad\\xf2\\xf1\\xf1\\xf5\\xf3\\x0b\\xb8}\\xfb&*6\\xfaN\\x11\\xc4\\x1b\\xd1+R\\xee\\xf4\\xecTvE\\xd2SR\\x9e\\x15I\\xb7\\xb7w\\x80\\xcf\\x9c\\x9clN\\x17\\x9a.t:E\\xbe\\x1aqpp,\\xb2\\x87\\xb4\\xb4\\xe7~\\xbe\\xfeE\\xb2\\x99}\\x84\\x81c\\x83\\xea\\x01\\x0c\\xbdi\"l\\x8e\\x8a\\x8fUm9+F\\x8e\\xf8=\\x839:\\xea\\xcbivv\\x96\\xd9\\xf4\\x9c\\xdc\\x1cc\\n\\x97\\xc7\\xc3\\xc3\\x0b\\xca1*6\\xb9&{\\xc8\\xca\\xd2G\\xd83\\x96\\xdc\\xff\\xc4\\xc3\\xd3\\xabN\\x9d\\xfa`\\x9dL\\x13==\\xbcP\\xb1\\xb1\\xae\\xc3\\xcb\\x9a\\x8a\\x94\\xd7\\xd3Q\\xd5\\xaa\\xd5\\xc1\\xa4\\\\\\xbb~\\x99\\xfb\\n%\\xe3\\xfd\\x0f\\xa6\\x1c=\\xfas\\x95*\\xa12\\x99\\x0cnpc\\xce\\x7f\\xff\\xbd\\t\\xc6\\xdd\\xdb\\xbb\\x02\\xe2\\x03g\\x9d9\\xee\\xdc\\xf9G\\xa9Tz{\\x15w\\x0fUB\\xaa=y\\x92X\\xafnC0w\\xdc\\x9f\\xbb\\x9b\\x07X\\x18$2\\xa2?\\x91:99Et\\xe8\\n\\xad\\x97\\xc3G\\x0e\\\\\\xb9zq\\xd5\\xea\\xe5\\x97.\\x9d\\x03S\\xee\\xe2\\xec\\x02\\xe9[\\xb6~\\x7f\\xf6\\xec\\xa9\\xf4\\x8c\\xf4_\\x7f\\xfde\\xef\\xbe\\x1d}\\xfb\\x0e\\xb6dF,\\x11\\x13\\x1b\\r\\x15549\\xee\\xde\\xbb}\\xf4\\xd7\\x9f[\\xbf\\xd6\\xae\\xf8\\xfe\\x1a\\xe1\\xe7\\xa0\\x91\\xbaz\\xed\\x8a\\xdc\\xdc\\\\\\xa8c\\xbe^\\xff\\xe5\\xa81\\xfda\\x01\\x89LI<\\x91Ny\\xe7=h\\xf0A3\\x1c\\xa4\\xa9Z%t\\xe1\\x87\\xcb\\xa1\\xb5\\x00\\xe9\\x93&\\xce\\x00\\x89?\\xfa\\xf8\\x03\\xadV\\x0b\\xe5k\\xd0\\xc0\\x91\\x03\\x07\\x0c\\xe7\\xb3c\\xa4\\xd5\\xe6\\xc1&\\xd0\\xd6\\xfej\\xddJGG\\xc7\\xc6\\xe1\\xcd\\'O\\x8a,\\xfe\\xe6p\\xe1\\xbf\\xfbv\\xc7\\xf6\\xed\\x9b\\xc6\\xbf5\\x04Z\\xb1P\\xa9\\xbe\\x1b978X\\xf4\\xa0\\xb7\\xbc\\'\\x90~=+\\xda\\xbd\\xa2\\xaa\\xcbH\\xd1\\xefAIp\\xefZ\\xc6\\x99\\x9f\\x92\\xde^\\xc9of\\'\\xff\\xd6\\x0b\\xe9c4\\x81\\xe6\\x1e\\xd1ybM\\xd7.\\xc1\\x08[2MF\\x18 %\\x83\\x186\\xc2[t\\x18 %C\\xa46\"\\xfa\\xc3\\x11\\xe1e\\xach2\"\\x89\\x0cc\\x94\\x04T\\xfe{I\\xfc \\xb3\\x01l\\xc5\\x8a1c\\xde\\xa2\\xcbd4\\x99ld\\xa4\\x84&\\x1bAEJjR\\x1b)\\xb3\\x03\\xd3\\xa5\\x19b\\xd31@D\\xc7\\x00\\xff\\'Rh&\\x11\\x03\\xf3\\x02\\x96.\\x91\\xf9\\xe9\\n{\\x8a\"\\xef\\xee\\xbe@\\x9d\\xa5\\x95\\xab\\x10_x\\x0fbxT\\x90\\xa7\\'\\xf3\\x18N+\\xdb$\\xdc\\xcbT9\\xf2.\\xeb\\xbcE\\x7fcB\\xa5\\xdc,\\xf6i|\\x0e\" \\xf44N\\xd3\\xb4\\x93\\x07\\xe2\\x895\\xc3u=\\xdf\\xf29\\xb2!\\xe1\\xee\\x95dT\\x8e\\xc9\\xcc\\xcc\\xd9\\xbc(\\xaaa[\\xd7ZM\\xdc\\x11O\\xac\\xf4\\xf7\\x92\\x14\\x97\\xb3wM\\x02\\xf4<(\\xedh\\xad\\xb9\\xf7\\xb4\\xe1\\xa1\\xd5\\xf8\\x08EQ\\xf9\\xbfR\\xc4gM\\x81\\x1f\\x1cD\\x99>\\xd9\\x99n\\x8b\\x0c\\x9d\\xc9L\\xe1\\'?\\xae\\xc7\\x83\\xdb\\'mp\\x8dcz\\x0e\\xa6\\xbfBS\\x94i_\\x11|\\x85\\xbc\\xdc\\xf1\\xd02\\x8a\\xd1\\xb1E\\x8e\\xd0\\xf8\\xeb\\xf9\\xa3\\xef/\\xfc\\xf2\\x98\\xeeS\\xa1\\xa4\\xf2\\xd4\\xda<5\\xaa\\xdf\\xda\\xa5\\xc5\\x1b\\xfc\\x86\\xd1\\xf3\\x7f\\xce\\x96g\\x9d\\xd3\\xfb\\x9f&\\xc5e\\xab\\xb3\\xcd\\x88N\\x19\\xb4x\\xb1\\x8cX\\xa6h\"*p\\\\T\\xf4\\x18\\x8af\\xa3\\xf5\\xe7\\xce\\x14\\x11\\x9dB\\xcf\\x9e&\\xbb\\xbb\\xbb\\xcb\\xe4\\xb4\\xdeA\\x11k\\xf1\\xa7\\x11Sp\\xbd\\xf4\\xd7\\x8fa\\xb9\\xdf\\x95\\xc9(\\x9dQt\\x93M\\nyZzQ\\x1aLEW\\xaad\\xae^T\\xc4`?d-\\x12\\xf3@jJDD\\xc4\\x8e\\x1d;<<x\\x9bT\\xecH\\xf8\\xe1H\\xba\\x81\\x1a\\x89\\xe8\\x18\\x90\\xb0\\xe8\\xd2\\x8d\\x03KJ:\\x06$\\x1c\\x8fT?\\x98\"\\xcd\\xd1Z\\x12\\xee\\x18\\x03$\\xb07\\x06HI\\xc7\\x00\\x11\\x1d\\x03Dt\\x0c\\x10\\xd11@D\\xc7\\x00\\x11\\x1d\\x03Dt\\x0c\\x10\\xd11@\\x1e\\x8e0@J:\\x06\\x88\\xe8\\x18 \\xa2c\\x80\\xd8t\\x0c\\x90\\x92\\x8e\\x01\":\\x06\\xa4z\\xdc\\x0c\\xc3\\xd8\\xdb\\xdb#i\"a\\xd1I\\x08\\xfb\\x92\\x86\\x04\\xf6\\xc6\\x00\\x11\\x1d\\x03Dt\\x0c\\x10\\xd11@D\\xc7\\x00\\x11\\x1d\\x03Dt\\x0c\\x10\\xd11\\x00\\xbd]\\xe4\\xe1\\xa8\\xa4!%\\x1d\\x03Dt\\x0c\\x10\\xd11@D\\xc7\\x00\\x11\\x1d\\x03Dt\\x0cHZt\\xe9\\xbd\\xbc\\xdb\\xbbwo\\x99L\\x06\\x8a\\xc7\\xc5\\xc5\\xf9\\xf8\\xf8P\\x14\\x05\\xcbG\\x8e\\x1cA\\xd2Ab%}\\xc7\\x8e\\x1dO\\x9e<Q\\xab\\xd5\\xc8\\xf0B\\x7fRR\\x12,\\xb8\\xb8\\xb8 I!\\xb1\\xc8\\xc5\\xfd\\xfb\\xf7\\xf7\\xf5\\xf55M\\x81q\\xbb\\xa0\\xa0 $)\\xa4\\x17.z\\xc8\\x90!\\xa6C\\xd2NNN`p\\x90\\xa4\\x90\\x9e\\xe8\\xbdz\\xf5\\xaa\\\\\\xb92\\x17\\xfb\\x0b>\\xfd\\xfc\\xfcz\\xf4\\xe8\\x81$\\x85$\\x03\\xa3\\x0f\\x1b6\\xcc\\xd1Q\\x1fi\\x07\\x8a|\\xdf\\xbe}\\x91\\xd4\\x90\\xa4\\xe8\\x1d;v\\x0c\\r\\r\\x85b\\x0e\\xad\\x97\\x9e={\"\\xa9!z\\x93\\xf1\\xce\\xa5\\xf4\\xe8\\xab\\x19\\xe9\\xa9:M\\xae\\x8ee\\xa8\\xbc<V.\\x87F\\x1eK\\xcb\\x10\\xa338\\xafa\\xf4\\xcel8\\x977r\\x9a\\xd2\\x1a\\x9c\\xdd\\xbcXKq\\xe1\\x9b\\x8cNp8\\xd7D\\xc80\\x971--\\xc5\\xc9\\xc9\\xd5\\xce\\xceN&C\\xc6xs\\xa6\\xaesL\\x97Q\\x11\\x8fG\\x86\\xfd\\x1b\\x81\\xdd\\xc3j\\xa5\\x8ar\\xf6T\\xf8WS\\x85\\xb7\\xe3\\x11\\xea\\xc8\\n\\xc4\\x12\\xfd\\xfa\\xa9\\x94K\\xc7\\x9fg\\xa5\\xeb-/-\\xa7d\\n\\x19\\r\\xadS\\n\\xe4a\\xb8\\xb3\\xa7h\\x9ae\\x98\\x82\\xa8I\\x06\\x17D\\x05\\x8e\\xa7\\xb8\\xb5\\xc6\\x90J&\\x9e\\xa7P\\x81\\x97*\\x9a\\xcd\\xf7\\x98T\\xc8\\x81T\\x81\\x13$\\xc3>M\\xce\\xd5$\\xa0G\\xe1`M\\x0cb\\xf5\\x97S\\xc70:\\x96\\xd5\\xe9\\xeb\\x0b{\\'\\xbaj=\\xc76}*\"\\x11\\x10^\\xf4\\xdb\\x97\\x9e\\xff\\xb1\\xeb\\x99V\\x83TN\\xf2\\x8aU\\xdc]*8!\\xa9\\x91\\x93\\xa9N\\xbc\\x9b\\x92\\x9b\\xa6\\x86\\xabY\\xa3\\x89\\xe3\\xeb}|\\x90\\xa0\\x08,\\xfa\\xd6\\xa51\\xa9\\x89:\\x97\\x8a\\xf6\\x81\\xf5\\x04>P,<\\xb9\\x9f\\x9c\\xfc0C\\xa1\\xa0\\xc6,\\nA\\xc2!\\xa4\\xe8\\xebfFS\\n\\xaaz\\xab\\xca\\xa8l\\x11{\\xe9qVJ\\xee\\xd09\\x81.\\x1eJ$\\x04\\x82\\x89\\xbe\\xee\\xbdhG/\\x87Ja\\xd6\\xb8\\xcc+\\xfd\\xa4\\xa7d=\\xbc\\xf8d\\xcc\\'\\xc1v\\xf6\\x02\\xf8\\xbc\\x15F\\xf4\\xb5\\x91\\xd1n\\xfe\\x8e~5\\xbcQ\\x99\\xe6\\xd6o1\\xfdf\\x04x\\xfb\\xdb!\\xdb\\x10\\xa0\\x9d\\xbe\\xfe\\x83h\\'o\\xbb2\\xaf8P\\xa9\\xa1\\xcf\\xce\\xcf\\xe2\\x91\\xcd\\xd8*\\xfa\\x9e/\\xe3\\x18\\x1d\\x15X\\xb7,T\\x9b\\xff\\x89\\x8b\\xa7\\xbd\\x83\\x9b\\xea\\xfby1\\xc86l\\x12=3U\\xf38F]\\xe3\\xf5\\xb2Vs\\xbe\\x82\\xe0p\\xbf\\x9c,\\xdd\\x1f\\xbb\\x93\\x90\\r\\xd8$\\xfa\\xce\\x95\\xf1J\\xa7r\\x17k\\xc03\\xd0\\xe5\\x9f\\xbf3\\x90\\r\\xd8$zv:\\x13\\xda\\xa2\\x12*\\x95df\\xa5F\\xcemz\\xf5\\xc61$4>\\xa1\\x9e\\xd0i\\xf0\\xd7\\xa1\\xa7\\xc8Z\\xac\\x17}\\xcf\\xea8\\x990\\xcdV\\xe9a\\xe7\\xa2\\xbc\\xf5\\x97\\xf5\\x85\\xddz\\xd1\\x9f\\xc6\\xa9\\x9d<\\x1cP\\xb9\\xa4B5\\xf7\\xdcL\\x06Y\\x8b\\xf5\\x16\\x19zW<\\x83\\x9d\\x918\\xa4g$\\x1f<\\xbc26\\xee\\xbaF\\x93[\\xbdZ\\xb3\\x0emFU\\xf0\\xd6W\\xd7\\x8f\\x93\\xa2W\\xac\\x1e\\xf4\\xce\\xf8\\xefO\\x9c\\xdat\\xf3\\xdf\\x93\\xae.\\x15\\xea\\xd7\\x89\\xe8\\x1a1\\t\\x86\\xaaa\\xed\\x95\\xeb\\xbf\\x1e9\\xfeuNNz\\xad\\x1a\\xaf\\xb5i9\\x18\\x89\\x86\\xb3\\x9b=E\\xa3\\xeb\\xa7S\\xea\\xb6\\xb2\\xc6\\xa7\\xb5\\x95%=\\xeaZ\\x06t\\xd498\\x8bR\\xd2u:\\xdd\\xba\\xef\\'F\\xc7^\\xee\\xd3\\xe3\\xfd\\x19\\x93\\xb799z|\\xb9~\\xd4\\xb3d}\\x03Y.\\xd3\\xbf\\x9a\\xbek\\xff\\xe2\\x06u;-\\x99\\x7fzP\\xdf\\x05\\'\\xcfl\\xbdvKo\\xb8\\x1f\\'Em\\xdb=/\\xbcA\\xd7\\xf7\\xa7\\xee\\t\\xaf\\xdfm\\xff/+\\x90\\x98\\xc8\\xe4T\\xc2\\xbd\\\\d\\x15V\\x8a\\xfe8&G\\xbc\\x08v1\\x0f\\xaf>y\\x16;\\xb0\\xef\\x82\\x1a\\xa1\\xcd]\\x9c={t~\\xc7\\xd1\\xc1\\xed\\xcf\\xbf\\xb6\\x1b3\\xd4\\xab\\xdd\\xae^X{\\xb9\\\\Q%\\xb8\\xa1\\xa7\\xbb\\x7f|\\xc2mH<{n\\x8f\\x9b\\xabO\\xc4\\xeb\\xa3\\x1d\\x1c\\\\\\xaa\\x864j\\x1a\\xde\\x0b\\x89\\t-\\xa3\\xd3S\\xac\\x9cxc\\xa5y\\xc9\\xcd\\xd1\\x877@\\xe2\\x10\\xfb\\xe0\\x9aL\\xa6\\xa8\\x16\\x12\\xce}\\x85Nv\\x10\\xf7~\\xec\\x15c\\x86\\x00\\xbf\\x9a\\xc6e;;\\xe7\\x9c\\\\}\\x9d\\xf6,%\\xce\\xa7bA_`%\\xffZHL\\xa0\\xc7\\x1f\\x06d\\x90UX):\\xdc \\xe2\\x85\\r\\xcc\\xc9\\xcd\\xd4\\xe9\\xf2\\xa0\\xc1g\\x9a\\xe8\\xe4X\\x10\\xef\\x83\\xa2\\xcc\\xdc\\xa0\\xd9\\xd9\\xe9^\\x9e\\x05\\xedW\\xa5R\\xe4\\x97\\xd8\\xf5\\xa1\\x1bJVt\\xa5=\\xcd\\x8a\\x16W\\xdd\\xd9\\xc9\\x13$\\x1b5\\xb8\\x90Q\\xa6\\xe9\\xff\\xb0\\x84`U\\xf2\\xf2\\n\\x8c\\xacZ\\x9d\\x85\\xc4\\x04\\x86\\x99d\\n+\\x8d\\xb3\\x95\\xa2W\\xac\\xac\\xb8q\\x1a\\x89\\x84\\xbfo\\xa8F\\x93\\xe3\\xe6V\\xd1\\xcb#\\x80KINI0-\\xe9fqw\\xf3\\xfd\\xe7\\xf6\\x9f0\\xd4\\xc6]\\x9e\\x7f\\xee\\x88v|\\x06X-\\xe3\\xe8f\\xe5s\\x8a\\x95\\xd7*\\xb4\\x81\\x1b\\x0cO\\xe6f\\xaa\\x91\\x08T\\xab\\xd2\\xb8F\\xb5\\xe6\\xbb\\xf6}\\x9c\\xfa<13\\xeb\\xf9\\x99s\\xbb\\xbfX7\\xe2\\xfc\\xe5\\x83\\xaf\\xde\\xaa^\\xed\\x0e\\xf0\\x14\\xba\\xef\\x97\\x15\\xd0Y\\x1du\\xff\\xd2\\xd9s\\xbb\\x91\\x98hul\\xe5\\x1a\\x8e\\xc8*\\xaco\\xa7\\xc3p\\xf3\\xd3\\x98\\xb4JuD\\x19\\xb5\\x185\\xe4\\xb3\\xbf.\\xfc\\xb4e\\xe7\\x9c\\x07q7\\xbc\\xbd*7\\xac\\xd7\\xf9\\xb5\\xe6\\xfd_\\xbdI\\xf5jM\\xbbwz\\xfb\\xaf\\xf3?\\xbd;\\xaf\\x194c\\x06\\xffo\\xc1\\x9ao\\xc7#ql`FJ\\x16\\x0cf\\xd7m\\xe5\\x86\\xac\\xc2\\xfaA\\x8c\\xdd_\\xc6=\\x8d\\xd7\\xd4l\\x1b\\x84\\xca\\x1f\\xf7/&hs5\\xe3>\\xae\\x8a\\xac\\xc2\\xfan\\x80\\xae\\xa3}uyb\\xd5\\xa5\\xa5\\x9c\\xecTM\\xcd\\xc6\\xd6?\\x8d[o^\\x1c\\x1c\\xe5vNt\\xd4\\xdf\\tU\\x9b\\xf9\\x9b\\xcd\\x00u\\xda\\xbc\\xc5\\x11fWi\\xb5\\x1ah\\x89\\x9b\\x8dh\\xe1\\xe3\\x1d2y\\xdc7H8\\xbe\\xdb<=\\xe6\\xe15\\xb3\\xab\\xf2\\xf2\\xd4\\n\\x85\\x99\\xc8\\x96r\\xb9\\xf2\\xc3\\xf7\\x0e#\\x0b$F\\'\\x83\\xd1z\\xad\\x97\\xf5Sbl\\x1a#MN\\xc8\\xf9\\xf1\\xd3\\x84\\xb0\\x8e\\xc1\\x962\\xa4\\xa4>2\\x9b\\x9e\\x9b\\x9bigg~>\\x0cM\\xcb\\xdd\\\\\\x85\\xac\\'\\xd2\\xd3\\x9fiu\\xe6cyfe\\xa7;:\\x98\\x9d\\xdbNy\\xb8\\xfb\"\\x0b\\xdc<\\x1eS\\xb3\\x91S\\xfb\\x81\\xd6\\x0f\\x96\\xd9:0\\xbd\\xeb\\x8b\\xb8\\xd4\\xa7\\xda\\xd0\\x96\\x81\\xa8|\\x10{\\xe9\\xb1&K=nq\\x15d\\x03\\xb6\\x8e\\x91\\xfeoJ%V\\xcb\\xc6\\xdf\\xb2\\xbeG_Bdg\\xe4d\\xa6\\xe4\\xda\\xa88\\x12d6\\xc0!u\\x03\\xae\\x00\\x00\\x01nIDAT\\xf8%!\\xe9\\x89\\x99O\\xee\\xa7\\xa2\\xb2N\\xcc\\xb9\\xc4nc\\x04\\x98\\xdd(\\xd8d\\xa35\\x91Q\\xee~\\x8e~5\\xcb\\xe6d#u\\xb6\\xfa\\xde\\xe9G#\\xe6\\x07:\\xb9\\t0Z&\\xe4\\xb4\\xba\\xb5\\xefF\\xc9U\\xb2\\xb2g\\xdf\\x1f\\\\K\\xcaH\\xca\\xee\\xf3\\x8e\\xbfo\\xb00\\x9dh\\x02O \\xdd\\xb4\\xe8~F\\n\\xe3\\xee\\xef\\xec_K\\xdc)\\xde%CJ|z\\xd2\\xbd\\x14\\xb9\\x82\\x1a\\xfbqi\\x9d@\\xcaq\\xe5\\xf7\\x94\\xbf~I\\x81\\xbd\\xda\\xb9\\xa8\\xfcjx\\xd8\\xbb\\xd8:\\t\\r\\x0b\\x0f\\xae%f%\\xe7B\\xf7uH]\\xc7.\\xc3}\\x91\\xa0\\x88\\xf5R\\xc0\\xb9#\\xcf\\xae\\xff\\x99\\xae\\xcef\\xf4]\\xdf\\x14\\x02\\xb3#W\\xc8(Y\\xa1\\xd1\\xa6\\xc2\\xa1\\xa5)\\xc3\\xc10\\x05\\x0fL\\xaca}\\x91\\xe9\\xfb\\xc8\\xf0\\x8d2n\\xc2\\x9a$\\x1a\\xbe\\xb2\\xc60\\xca\\xdc\\x1eP~\\x9e\\xfc\\x0c\\x88\\x8b\\xb0\\xfcb/\\xf9\\x9f\\x06\\x90V\\x9d\\x07\\x8bZ-\\xfcC\\n;\\xaarM\\xfb\\xce\\xc3\\xac\\x8fi\\xfc\\nD\\x7f\\xfd\\xe5\\xca\\xef\\xc9\\xd17\\xb3\\xb2\\x9f\\xeb\\xe0dtZJ\\xa7-\\xf89\\x18f4~\\xe5\\xae\\x067.\\xf2\"\\xf6\\xb4\\xe1\\xd3\\x10\\x9f\\xbaP\\x8a\\x89t\\xa6\\xd9\\xb8H\\xd3\\x86(\\xdc\\x05\\xe2sW\\x871\\xa6\\xbf\\x88:\\r)\\\\,i\\xee\\x13\\x12\\xe1`h\\x9aq\\xf6\\x90\\xfb\\x858\\xb4\\xec!\\xee\\xbcL\\t\\xc7\\x98\\x96.\\xe5nR\\\\i\\x80\\x88\\x8e\\x01\":\\x06\\x88\\xe8\\x18 \\xa2c\\x80\\x88\\x8e\\x81\\xff\\x03\\x00\\x00\\xff\\xffZ\\x1b\\x90\\xe7\\x00\\x00\\x00\\x06IDAT\\x03\\x00\\x7fb\\\\\\n8\\xb6?\\xac\\x00\\x00\\x00\\x00IEND\\xaeB`\\x82'"
      ]
     },
     "execution_count": 39,
     "metadata": {},
     "output_type": "execute_result"
    }
   ],
   "execution_count": 39
  },
  {
   "metadata": {},
   "cell_type": "code",
   "outputs": [],
   "execution_count": null,
   "source": "",
   "id": "4914c7bb95b090cf"
  }
 ],
 "metadata": {
  "kernelspec": {
   "display_name": "Python 3 (ipykernel)",
   "language": "python",
   "name": "python3"
  },
  "language_info": {
   "codemirror_mode": {
    "name": "ipython",
    "version": 3
   },
   "file_extension": ".py",
   "mimetype": "text/x-python",
   "name": "python",
   "nbconvert_exporter": "python",
   "pygments_lexer": "ipython3",
   "version": "3.11.8"
  }
 },
 "nbformat": 4,
 "nbformat_minor": 5
}
